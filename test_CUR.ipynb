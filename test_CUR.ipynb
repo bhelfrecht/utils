{
 "cells": [
  {
   "cell_type": "code",
   "execution_count": 1,
   "metadata": {},
   "outputs": [
    {
     "name": "stderr",
     "output_type": "stream",
     "text": [
      "In /home/helfrech/.config/matplotlib/stylelib/cosmo.mplstyle: \n",
      "The savefig.frameon rcparam was deprecated in Matplotlib 3.1 and will be removed in 3.3.\n",
      "In /home/helfrech/.config/matplotlib/stylelib/cosmoLarge.mplstyle: \n",
      "The savefig.frameon rcparam was deprecated in Matplotlib 3.1 and will be removed in 3.3.\n"
     ]
    }
   ],
   "source": [
    "#!/usr/bin/env python3\n",
    "\n",
    "%reload_ext autoreload\n",
    "%autoreload 2\n",
    "\n",
    "# System\n",
    "import os\n",
    "import sys\n",
    "from tqdm.notebook import tqdm\n",
    "\n",
    "# Maths\n",
    "import numpy as np\n",
    "import scipy.sparse as sps\n",
    "\n",
    "# PCovR utilities\n",
    "from regression import LR, KRR, SparseKRR, PCovR, KPCovR, SparseKPCovR\n",
    "from decomposition import PCA, KPCA, SparseKPCA\n",
    "from kernels import linear_kernel, gaussian_kernel, center_kernel\n",
    "from tools import FPS, simple_split, CUR\n",
    "\n",
    "# ASE\n",
    "from ase.io import read, write\n",
    "\n",
    "# SOAP\n",
    "from rascal.representations import SphericalInvariants as SOAP\n",
    "\n",
    "# Scikit learn\n",
    "from sklearn.linear_model import LinearRegression\n",
    "from sklearn.kernel_ridge import KernelRidge\n",
    "from sklearn.decomposition import PCA as skPCA\n",
    "from sklearn.decomposition import KernelPCA as skKPCA\n",
    "\n",
    "# Plotting\n",
    "import matplotlib as mpl\n",
    "import matplotlib.pyplot as plt\n",
    "\n",
    "# Make the plots look nicer\n",
    "plot_parameters = {\n",
    "    'lines.linewidth': 1.0,\n",
    "    'lines.markersize': 2,\n",
    "    'patch.linewidth': 1.0,\n",
    "    'hatch.linewidth': 1.0,\n",
    "    'axes.linewidth': 1.0,\n",
    "    'xtick.top': True,\n",
    "    'xtick.bottom': True,\n",
    "    'xtick.direction': 'in',\n",
    "    'xtick.minor.visible': True,\n",
    "    'xtick.major.size': 4.0,\n",
    "    'xtick.minor.size': 2.0,\n",
    "    'xtick.major.pad': 5.0,\n",
    "    'xtick.minor.pad': 5.0,\n",
    "    'ytick.left': True,\n",
    "    'ytick.right': True,\n",
    "    'ytick.direction': 'in',\n",
    "    'ytick.minor.visible': True,\n",
    "    'ytick.major.size': 4.0,\n",
    "    'ytick.minor.size': 2.0,\n",
    "    'ytick.major.pad': 5.0,\n",
    "    'ytick.minor.pad': 5.0   \n",
    "}\n",
    "\n",
    "for pp in plot_parameters.keys():\n",
    "    mpl.rcParams[pp] = plot_parameters[pp]"
   ]
  },
  {
   "cell_type": "code",
   "execution_count": 2,
   "metadata": {},
   "outputs": [],
   "source": [
    "# Read xyz files\n",
    "s = read('/scratch/helfrech/Sync/GDrive/Projects/KPCovR/KernelPCovR/datasets/CSD-1000R.xyz', index=':5')\n",
    "\n",
    "# Extract chemical shifts\n",
    "cs = []\n",
    "for ss in s:\n",
    "    ss.wrap()\n",
    "    cs.append(ss.arrays['CS_local'])"
   ]
  },
  {
   "cell_type": "code",
   "execution_count": 3,
   "metadata": {},
   "outputs": [],
   "source": [
    "# Compute SOAPs (from librascal tutorial)\n",
    "soap = SOAP(soap_type='PowerSpectrum',\n",
    "           interaction_cutoff=3.5,\n",
    "           max_radial=6,\n",
    "           max_angular=6,\n",
    "           gaussian_sigma_type='Constant',\n",
    "           gaussian_sigma_constant=0.4,\n",
    "           cutoff_smooth_width=0.5)"
   ]
  },
  {
   "cell_type": "code",
   "execution_count": 4,
   "metadata": {},
   "outputs": [],
   "source": [
    "soap_rep = soap.transform(s)"
   ]
  },
  {
   "cell_type": "code",
   "execution_count": 5,
   "metadata": {},
   "outputs": [],
   "source": [
    "X = soap_rep.get_features(soap)\n",
    "Y = np.concatenate(cs)"
   ]
  },
  {
   "cell_type": "code",
   "execution_count": 6,
   "metadata": {},
   "outputs": [],
   "source": [
    "# Train-Test split\n",
    "f_train = 0.80\n",
    "X_train, X_test, Y_train, Y_test = simple_split(X, Y, f_train)"
   ]
  },
  {
   "cell_type": "code",
   "execution_count": 7,
   "metadata": {},
   "outputs": [],
   "source": [
    "# Center the data\n",
    "X_mean = np.mean(X_train, axis=0)\n",
    "Y_mean = np.mean(Y_train)\n",
    "\n",
    "X_train -= X_mean\n",
    "X_test -= X_mean\n",
    "Y_train -= Y_mean\n",
    "Y_test -= Y_mean"
   ]
  },
  {
   "cell_type": "markdown",
   "metadata": {},
   "source": [
    "# FPS"
   ]
  },
  {
   "cell_type": "code",
   "execution_count": 8,
   "metadata": {},
   "outputs": [
    {
     "name": "stdout",
     "output_type": "stream",
     "text": [
      "[2303    0 1008  924  280  294  378  196 1764  784   28  147 1029  448\n",
      "  420  259  882   21  434 1680]\n"
     ]
    }
   ],
   "source": [
    "# Select FPS components from train set\n",
    "n_FPS = 20\n",
    "idxs, d = FPS(X_train.T, n_FPS)\n",
    "print(idxs)"
   ]
  },
  {
   "cell_type": "markdown",
   "metadata": {},
   "source": [
    "# CUR"
   ]
  },
  {
   "cell_type": "code",
   "execution_count": 9,
   "metadata": {},
   "outputs": [
    {
     "name": "stdout",
     "output_type": "stream",
     "text": [
      "[   0 1008 2268  196  294  147  448  434  420  784  112  672  938  259\n",
      " 1029  924  273  700 1540  378]\n",
      "slice(None, None, None)\n"
     ]
    }
   ],
   "source": [
    "idxs_c, idxs_r = CUR(X_train, n_col=20, n_row=0)\n",
    "print(idxs_c)\n",
    "print(idxs_r)"
   ]
  },
  {
   "cell_type": "markdown",
   "metadata": {},
   "source": [
    "# CUR from KPCovR notebook"
   ]
  },
  {
   "cell_type": "code",
   "execution_count": 10,
   "metadata": {},
   "outputs": [
    {
     "name": "stdout",
     "output_type": "stream",
     "text": [
      "20\n"
     ]
    }
   ],
   "source": [
    "k=1\n",
    "nCUR = 20\n",
    "print(nCUR)\n",
    "A_copy = X_train.copy()"
   ]
  },
  {
   "cell_type": "code",
   "execution_count": 11,
   "metadata": {},
   "outputs": [
    {
     "name": "stdout",
     "output_type": "stream",
     "text": [
      "CPU times: user 1 µs, sys: 1e+03 ns, total: 2 µs\n",
      "Wall time: 4.29 µs\n"
     ]
    }
   ],
   "source": [
    "%time\n",
    "(U, sig, V) = np.linalg.svd(A_copy)\n",
    "pi = (V[:k]**2.0).sum(axis=0)\n",
    "j = pi.argmax()"
   ]
  },
  {
   "cell_type": "code",
   "execution_count": 12,
   "metadata": {},
   "outputs": [
    {
     "name": "stdout",
     "output_type": "stream",
     "text": [
      "CPU times: user 2 µs, sys: 0 ns, total: 2 µs\n",
      "Wall time: 4.77 µs\n"
     ]
    }
   ],
   "source": [
    "%time\n",
    "(U, sig, V) = sps.linalg.svds(A_copy,k)\n",
    "pi = (V[:k]**2.0).sum(axis=0)\n",
    "j = pi.argmax()"
   ]
  },
  {
   "cell_type": "code",
   "execution_count": 13,
   "metadata": {},
   "outputs": [],
   "source": [
    "v = A_copy[:,j]/np.sqrt(np.matmul(A_copy[:, j],A_copy[:, j]))\n",
    "\n",
    "for i in range(A_copy.shape[1]):\n",
    "    A_copy[:,i] -= v * np.dot(v,A_copy[:,i])"
   ]
  },
  {
   "cell_type": "code",
   "execution_count": 14,
   "metadata": {},
   "outputs": [
    {
     "data": {
      "application/vnd.jupyter.widget-view+json": {
       "model_id": "b77e5ee6c44b417e9f12b224fcf3a131",
       "version_major": 2,
       "version_minor": 0
      },
      "text/plain": [
       "HBox(children=(FloatProgress(value=0.0, max=19.0), HTML(value='')))"
      ]
     },
     "metadata": {},
     "output_type": "display_data"
    },
    {
     "name": "stdout",
     "output_type": "stream",
     "text": [
      "\n"
     ]
    }
   ],
   "source": [
    "idxs = [j]\n",
    "\n",
    "for n in tqdm(range(nCUR-1)):\n",
    "    (U, sig, V) = sps.linalg.svds(A_copy,k)\n",
    "    pi = (V[:k]**2.0).sum(axis=0)\n",
    "    #pi[idxs] = 0 #####\n",
    "    idxs.append(pi.argmax())\n",
    "    \n",
    "    v = A_copy[:,idxs[-1]]/np.sqrt(np.matmul(A_copy[:, idxs[-1]],A_copy[:, idxs[-1]]))\n",
    "\n",
    "    for i in range(A_copy.shape[1]):\n",
    "        A_copy[:,i] -= v * np.dot(v,A_copy[:,i])"
   ]
  },
  {
   "cell_type": "code",
   "execution_count": 15,
   "metadata": {},
   "outputs": [
    {
     "name": "stdout",
     "output_type": "stream",
     "text": [
      "[   0 1008 2268  196  294  147  448  434  420  784  112  672  938  259\n",
      " 1029  924  273  700 1540  378]\n"
     ]
    }
   ],
   "source": [
    "idxs = np.asarray(idxs)\n",
    "print(idxs)"
   ]
  }
 ],
 "metadata": {
  "kernelspec": {
   "display_name": "Python 3",
   "language": "python",
   "name": "python3"
  },
  "language_info": {
   "codemirror_mode": {
    "name": "ipython",
    "version": 3
   },
   "file_extension": ".py",
   "mimetype": "text/x-python",
   "name": "python",
   "nbconvert_exporter": "python",
   "pygments_lexer": "ipython3",
   "version": "3.6.9"
  }
 },
 "nbformat": 4,
 "nbformat_minor": 2
}
