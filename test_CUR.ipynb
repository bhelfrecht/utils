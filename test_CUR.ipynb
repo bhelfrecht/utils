{
 "cells": [
  {
   "cell_type": "code",
   "execution_count": 1,
   "metadata": {},
   "outputs": [
    {
     "name": "stderr",
     "output_type": "stream",
     "text": [
      "In /home/helfrech/.config/matplotlib/stylelib/cosmo.mplstyle: \n",
      "The savefig.frameon rcparam was deprecated in Matplotlib 3.1 and will be removed in 3.3.\n",
      "In /home/helfrech/.config/matplotlib/stylelib/cosmoLarge.mplstyle: \n",
      "The savefig.frameon rcparam was deprecated in Matplotlib 3.1 and will be removed in 3.3.\n"
     ]
    }
   ],
   "source": [
    "#!/usr/bin/env python3\n",
    "\n",
    "%reload_ext autoreload\n",
    "%autoreload 2\n",
    "\n",
    "# System\n",
    "import os\n",
    "import sys\n",
    "from tqdm.notebook import tqdm\n",
    "\n",
    "# Maths\n",
    "import numpy as np\n",
    "import scipy.sparse as sps\n",
    "\n",
    "# PCovR utilities\n",
    "from regression import LR, KRR, SparseKRR, PCovR, KPCovR, SparseKPCovR\n",
    "from decomposition import PCA, KPCA, SparseKPCA\n",
    "from kernels import linear_kernel, gaussian_kernel, center_kernel\n",
    "from tools import FPS, simple_split, CUR\n",
    "\n",
    "# ASE\n",
    "from ase.io import read, write\n",
    "\n",
    "# SOAP\n",
    "from rascal.representations import SphericalInvariants as SOAP\n",
    "\n",
    "# Scikit learn\n",
    "from sklearn.linear_model import LinearRegression\n",
    "from sklearn.kernel_ridge import KernelRidge\n",
    "from sklearn.decomposition import PCA as skPCA\n",
    "from sklearn.decomposition import KernelPCA as skKPCA\n",
    "\n",
    "# Plotting\n",
    "import matplotlib as mpl\n",
    "import matplotlib.pyplot as plt\n",
    "\n",
    "# Make the plots look nicer\n",
    "plot_parameters = {\n",
    "    'lines.linewidth': 1.0,\n",
    "    'lines.markersize': 2,\n",
    "    'patch.linewidth': 1.0,\n",
    "    'hatch.linewidth': 1.0,\n",
    "    'axes.linewidth': 1.0,\n",
    "    'xtick.top': True,\n",
    "    'xtick.bottom': True,\n",
    "    'xtick.direction': 'in',\n",
    "    'xtick.minor.visible': True,\n",
    "    'xtick.major.size': 4.0,\n",
    "    'xtick.minor.size': 2.0,\n",
    "    'xtick.major.pad': 5.0,\n",
    "    'xtick.minor.pad': 5.0,\n",
    "    'ytick.left': True,\n",
    "    'ytick.right': True,\n",
    "    'ytick.direction': 'in',\n",
    "    'ytick.minor.visible': True,\n",
    "    'ytick.major.size': 4.0,\n",
    "    'ytick.minor.size': 2.0,\n",
    "    'ytick.major.pad': 5.0,\n",
    "    'ytick.minor.pad': 5.0   \n",
    "}\n",
    "\n",
    "for pp in plot_parameters.keys():\n",
    "    mpl.rcParams[pp] = plot_parameters[pp]"
   ]
  },
  {
   "cell_type": "code",
   "execution_count": 2,
   "metadata": {},
   "outputs": [],
   "source": [
    "# Read xyz files\n",
    "s = read('/scratch/helfrech/Sync/GDrive/Projects/KPCovR/KernelPCovR/datasets/CSD-1000R.xyz', index=':5')\n",
    "\n",
    "# Extract chemical shifts\n",
    "cs = []\n",
    "for ss in s:\n",
    "    ss.wrap()\n",
    "    cs.append(ss.arrays['CS_local'])"
   ]
  },
  {
   "cell_type": "code",
   "execution_count": 3,
   "metadata": {},
   "outputs": [],
   "source": [
    "# Compute SOAPs (from librascal tutorial)\n",
    "soap = SOAP(soap_type='PowerSpectrum',\n",
    "           interaction_cutoff=3.5,\n",
    "           max_radial=6,\n",
    "           max_angular=6,\n",
    "           gaussian_sigma_type='Constant',\n",
    "           gaussian_sigma_constant=0.4,\n",
    "           cutoff_smooth_width=0.5)"
   ]
  },
  {
   "cell_type": "code",
   "execution_count": 4,
   "metadata": {},
   "outputs": [],
   "source": [
    "soap_rep = soap.transform(s)"
   ]
  },
  {
   "cell_type": "code",
   "execution_count": 5,
   "metadata": {},
   "outputs": [],
   "source": [
    "X = soap_rep.get_features(soap)\n",
    "Y = np.concatenate(cs)"
   ]
  },
  {
   "cell_type": "code",
   "execution_count": 6,
   "metadata": {},
   "outputs": [],
   "source": [
    "# Train-Test split\n",
    "f_train = 0.80\n",
    "X_train, X_test, Y_train, Y_test = simple_split(X, Y, f_train)"
   ]
  },
  {
   "cell_type": "code",
   "execution_count": 7,
   "metadata": {},
   "outputs": [],
   "source": [
    "# Center the data\n",
    "X_mean = np.mean(X_train, axis=0)\n",
    "Y_mean = np.mean(Y_train)\n",
    "\n",
    "X_train -= X_mean\n",
    "X_test -= X_mean\n",
    "Y_train -= Y_mean\n",
    "Y_test -= Y_mean"
   ]
  },
  {
   "cell_type": "markdown",
   "metadata": {},
   "source": [
    "# FPS"
   ]
  },
  {
   "cell_type": "code",
   "execution_count": 8,
   "metadata": {},
   "outputs": [
    {
     "name": "stdout",
     "output_type": "stream",
     "text": [
      "[1476    0 1008 2268  294  280  196  378 1764  882   28  784  448  147\n",
      " 1029  420   21  259 1680  924]\n"
     ]
    }
   ],
   "source": [
    "# Select FPS components from train set\n",
    "n_FPS = 20\n",
    "idxs, d = FPS(X_train.T, n_FPS)\n",
    "print(idxs)"
   ]
  },
  {
   "cell_type": "markdown",
   "metadata": {},
   "source": [
    "# CUR"
   ]
  },
  {
   "cell_type": "code",
   "execution_count": 9,
   "metadata": {},
   "outputs": [
    {
     "name": "stdout",
     "output_type": "stream",
     "text": [
      "[1.47283101e-01 1.20690125e-05 2.17698032e-06 ... 6.37498863e-07\n",
      " 4.26492822e-07 5.37821487e-07]\n",
      "0.14728310140845316 2.4088258856653443e-15\n",
      "[6.40790632e-36 3.43256972e-06 7.29051676e-07 ... 3.56219543e-06\n",
      " 5.04861302e-06 2.46086107e-06]\n",
      "0.1353274879475496 6.407906315462891e-36\n",
      "[2.78370153e-37 2.25793049e-06 3.87758564e-07 ... 3.40657521e-05\n",
      " 4.58949101e-05 2.55533714e-05]\n",
      "0.09830447794727894 2.7837015260751047e-37\n",
      "[5.94093411e-36 2.58761465e-06 8.47098104e-07 ... 3.63889658e-05\n",
      " 4.38611177e-05 2.99289953e-05]\n",
      "0.10068828861863695 3.0284872897086564e-37\n",
      "[5.10296183e-36 6.08648569e-05 1.06752516e-05 ... 1.45772973e-07\n",
      " 1.73951862e-06 3.52968205e-07]\n",
      "0.12889986268650047 6.645294973613878e-40\n",
      "[4.00664928e-37 2.52031979e-07 5.46520493e-09 ... 9.34233762e-06\n",
      " 1.45722767e-05 9.19824938e-06]\n",
      "0.062181215970150756 3.5959522017384006e-37\n",
      "[2.70886185e-36 5.73504938e-07 2.38457221e-07 ... 6.28300797e-06\n",
      " 4.65746917e-06 4.06856893e-06]\n",
      "0.07074548493115465 7.391441813007418e-38\n",
      "[3.04017947e-36 1.28488253e-05 2.71018585e-06 ... 1.82387844e-06\n",
      " 2.05339465e-07 2.16750362e-06]\n",
      "0.061614206632277256 1.4348255815945474e-37\n",
      "[1.79530209e-36 1.08848698e-04 2.06108021e-05 ... 1.35226863e-05\n",
      " 2.60716014e-06 2.04696032e-05]\n",
      "0.0471459321646618 2.1488827062056416e-38\n",
      "[3.22085556e-35 1.72225457e-06 2.27991208e-07 ... 2.57506117e-05\n",
      " 4.92160063e-05 7.62630606e-05]\n",
      "0.0858554801048327 8.853120875292069e-38\n",
      "[3.08895444e-35 9.18613233e-07 1.62717066e-07 ... 7.80618906e-05\n",
      " 1.12087069e-04 1.37478601e-04]\n",
      "0.11628127117916533 1.3970865112690298e-39\n",
      "[3.64964680e-35 5.12808561e-06 1.92551344e-06 ... 2.07888528e-05\n",
      " 2.28303218e-05 4.02527523e-05]\n",
      "0.06826765864455754 1.7213014820171643e-40\n",
      "[1.83421582e-35 5.69581889e-06 2.68775786e-06 ... 1.53825317e-05\n",
      " 1.90131697e-06 1.44835051e-05]\n",
      "0.04946429988493453 6.871763418010692e-38\n",
      "[4.97108651e-35 9.40156334e-07 3.43499388e-07 ... 5.38599088e-06\n",
      " 1.09261087e-05 2.99455672e-05]\n",
      "0.05099013085955028 6.604513579140854e-38\n",
      "[1.02326931e-34 2.32530728e-05 4.97911030e-06 ... 3.14306300e-07\n",
      " 1.43977566e-06 6.41568281e-06]\n",
      "0.06276847504099808 7.861223310121786e-38\n",
      "[4.38285742e-36 4.09883408e-05 8.05699964e-06 ... 8.78617556e-07\n",
      " 7.86795778e-06 1.64239934e-06]\n",
      "0.04105841160975375 3.921231180835113e-40\n",
      "[2.23540285e-35 1.88163763e-06 2.17649068e-06 ... 2.28248554e-06\n",
      " 4.86581164e-05 2.08712967e-05]\n",
      "0.05880284772076289 7.124494079131988e-39\n",
      "[5.42217165e-35 1.43689683e-05 4.16572596e-06 ... 7.10391150e-06\n",
      " 1.34999032e-05 3.75037315e-11]\n",
      "0.0511346054115095 1.0121151082506608e-40\n",
      "[1.91554443e-34 7.84088431e-06 1.62512596e-08 ... 3.38091590e-06\n",
      " 1.69924522e-05 1.81689284e-07]\n",
      "0.07552341690769693 1.1971104909141267e-40\n",
      "[1.44856423e-35 1.11532947e-06 3.76968263e-07 ... 1.04438802e-06\n",
      " 3.41106313e-05 1.75721747e-07]\n",
      "0.052346748358515424 5.668331141338536e-39\n",
      "[   0 1008 2268  196  294  147  448  434  840  420  784  924   14  672\n",
      "  938 1022  378  945  441 2030]\n",
      "slice(None, None, None)\n"
     ]
    }
   ],
   "source": [
    "idxs_c, idxs_r = CUR(X_train, n_col=20, n_row=0)\n",
    "print(idxs_c)\n",
    "print(idxs_r)"
   ]
  },
  {
   "cell_type": "markdown",
   "metadata": {},
   "source": [
    "# CUR from KPCovR notebook"
   ]
  },
  {
   "cell_type": "code",
   "execution_count": 10,
   "metadata": {},
   "outputs": [
    {
     "name": "stdout",
     "output_type": "stream",
     "text": [
      "20\n"
     ]
    }
   ],
   "source": [
    "k=1\n",
    "nCUR = 20\n",
    "print(nCUR)\n",
    "A_copy = X_train.copy()"
   ]
  },
  {
   "cell_type": "code",
   "execution_count": 11,
   "metadata": {},
   "outputs": [
    {
     "name": "stdout",
     "output_type": "stream",
     "text": [
      "CPU times: user 2 µs, sys: 2 µs, total: 4 µs\n",
      "Wall time: 6.68 µs\n"
     ]
    }
   ],
   "source": [
    "%time\n",
    "(U, sig, V) = np.linalg.svd(A_copy)\n",
    "pi = (V[:k]**2.0).sum(axis=0)\n",
    "j = pi.argmax()"
   ]
  },
  {
   "cell_type": "code",
   "execution_count": 12,
   "metadata": {},
   "outputs": [
    {
     "name": "stdout",
     "output_type": "stream",
     "text": [
      "CPU times: user 1e+03 ns, sys: 2 µs, total: 3 µs\n",
      "Wall time: 6.91 µs\n"
     ]
    }
   ],
   "source": [
    "%time\n",
    "(U, sig, V) = sps.linalg.svds(A_copy,k)\n",
    "pi = (V[:k]**2.0).sum(axis=0)\n",
    "j = pi.argmax()"
   ]
  },
  {
   "cell_type": "code",
   "execution_count": 13,
   "metadata": {},
   "outputs": [],
   "source": [
    "v = A_copy[:,j]/np.sqrt(np.matmul(A_copy[:, j],A_copy[:, j]))\n",
    "\n",
    "for i in range(A_copy.shape[1]):\n",
    "    A_copy[:,i] -= v * np.dot(v,A_copy[:,i])"
   ]
  },
  {
   "cell_type": "code",
   "execution_count": 14,
   "metadata": {},
   "outputs": [
    {
     "data": {
      "application/vnd.jupyter.widget-view+json": {
       "model_id": "080860be228c40e9b1dc733da1c4f4dc",
       "version_major": 2,
       "version_minor": 0
      },
      "text/plain": [
       "HBox(children=(FloatProgress(value=0.0, max=19.0), HTML(value='')))"
      ]
     },
     "metadata": {},
     "output_type": "display_data"
    },
    {
     "name": "stdout",
     "output_type": "stream",
     "text": [
      "\n"
     ]
    }
   ],
   "source": [
    "idxs = [j]\n",
    "\n",
    "for n in tqdm(range(nCUR-1)):\n",
    "    (U, sig, V) = sps.linalg.svds(A_copy,k)\n",
    "    pi = (V[:k]**2.0).sum(axis=0)\n",
    "    #pi[idxs] = 0 #####\n",
    "    idxs.append(pi.argmax())\n",
    "    \n",
    "    v = A_copy[:,idxs[-1]]/np.sqrt(np.matmul(A_copy[:, idxs[-1]],A_copy[:, idxs[-1]]))\n",
    "\n",
    "    for i in range(A_copy.shape[1]):\n",
    "        A_copy[:,i] -= v * np.dot(v,A_copy[:,i])"
   ]
  },
  {
   "cell_type": "code",
   "execution_count": 15,
   "metadata": {},
   "outputs": [
    {
     "name": "stdout",
     "output_type": "stream",
     "text": [
      "[   0 1008 2268  196  294  147  448  434  840  420  784  924   14  672\n",
      "  938 1022  378  945  441 2030]\n"
     ]
    }
   ],
   "source": [
    "idxs = np.asarray(idxs)\n",
    "print(idxs)"
   ]
  },
  {
   "cell_type": "markdown",
   "metadata": {},
   "source": [
    "# CUR-PCovR"
   ]
  },
  {
   "cell_type": "code",
   "execution_count": 58,
   "metadata": {},
   "outputs": [
    {
     "name": "stdout",
     "output_type": "stream",
     "text": [
      "[1.47283101e-01 1.20690125e-05 2.17698032e-06 ... 6.37498863e-07\n",
      " 4.26492822e-07 5.37821487e-07]\n",
      "0.1472831014084534 2.408825885644318e-15\n",
      "[1.30785917e-35 3.43256972e-06 7.29051676e-07 ... 3.56219543e-06\n",
      " 5.04861302e-06 2.46086107e-06]\n",
      "0.13532748794754967 1.3078591679913825e-35\n",
      "[2.40943259e-37 2.25793049e-06 3.87758564e-07 ... 3.40657521e-05\n",
      " 4.58949101e-05 2.55533714e-05]\n",
      "0.09830447794727887 2.4094325854199354e-37\n",
      "[2.22754871e-36 2.58761465e-06 8.47098104e-07 ... 3.63889658e-05\n",
      " 4.38611177e-05 2.99289953e-05]\n",
      "0.10068828861863702 2.227548713799348e-36\n",
      "[2.88404148e-35 6.08648569e-05 1.06752516e-05 ... 1.45772973e-07\n",
      " 1.73951862e-06 3.52968205e-07]\n",
      "0.12889986268650058 1.3951941274054764e-37\n",
      "[3.56469655e-39 2.52031979e-07 5.46520493e-09 ... 9.34233762e-06\n",
      " 1.45722767e-05 9.19824938e-06]\n",
      "0.06218121597015027 3.5646965549273e-39\n",
      "[3.12429617e-37 5.73504938e-07 2.38457221e-07 ... 6.28300797e-06\n",
      " 4.65746917e-06 4.06856893e-06]\n",
      "0.0707454849311546 2.363174862056862e-37\n",
      "[8.46270578e-36 1.28488253e-05 2.71018585e-06 ... 1.82387844e-06\n",
      " 2.05339465e-07 2.16750362e-06]\n",
      "0.06161420663227723 2.7888630701337713e-37\n",
      "[2.54709553e-35 1.08848698e-04 2.06108021e-05 ... 1.35226863e-05\n",
      " 2.60716014e-06 2.04696032e-05]\n",
      "0.047145932164661834 1.0759151624187938e-36\n",
      "[9.37891599e-37 1.72225457e-06 2.27991208e-07 ... 2.57506117e-05\n",
      " 4.92160063e-05 7.62630606e-05]\n",
      "0.0858554801048315 2.0038792074772935e-37\n",
      "[2.34933946e-35 9.18613233e-07 1.62717066e-07 ... 7.80618906e-05\n",
      " 1.12087069e-04 1.37478601e-04]\n",
      "0.11628127117916498 3.0292247753577906e-37\n",
      "[7.12135497e-35 5.12808561e-06 1.92551344e-06 ... 2.07888528e-05\n",
      " 2.28303218e-05 4.02527523e-05]\n",
      "0.06826765864455743 7.800708891498096e-38\n",
      "[1.63357496e-35 5.69581889e-06 2.68775786e-06 ... 1.53825317e-05\n",
      " 1.90131697e-06 1.44835051e-05]\n",
      "0.04946429988493452 4.991001390389293e-38\n",
      "[1.39335849e-34 9.40156334e-07 3.43499388e-07 ... 5.38599088e-06\n",
      " 1.09261087e-05 2.99455672e-05]\n",
      "0.050990130859550314 1.247071768264409e-37\n",
      "[1.28480979e-34 2.32530728e-05 4.97911030e-06 ... 3.14306300e-07\n",
      " 1.43977566e-06 6.41568281e-06]\n",
      "0.06276847504099808 1.382514978751938e-37\n",
      "[4.35099849e-36 4.09883408e-05 8.05699964e-06 ... 8.78617556e-07\n",
      " 7.86795778e-06 1.64239934e-06]\n",
      "0.041058411609753764 1.6694947362504605e-39\n",
      "[3.51287965e-35 1.88163763e-06 2.17649068e-06 ... 2.28248554e-06\n",
      " 4.86581164e-05 2.08712967e-05]\n",
      "0.05880284772076281 4.046280392665553e-39\n",
      "[5.29769261e-35 1.43689683e-05 4.16572596e-06 ... 7.10391150e-06\n",
      " 1.34999032e-05 3.75037315e-11]\n",
      "0.051134605411509444 4.726054393780435e-37\n",
      "[1.96098349e-34 7.84088431e-06 1.62512596e-08 ... 3.38091590e-06\n",
      " 1.69924522e-05 1.81689284e-07]\n",
      "0.07552341690769708 4.573111377120456e-38\n",
      "[1.73557103e-35 1.11532947e-06 3.76968263e-07 ... 1.04438802e-06\n",
      " 3.41106313e-05 1.75721747e-07]\n",
      "0.05234674835851527 2.902002604983902e-38\n",
      "[   0 1008 2268  196  294  147  448  434  840  420  784  924   14  672\n",
      "  938 1022  378  945  441 2030]\n",
      "slice(None, None, None)\n"
     ]
    }
   ],
   "source": [
    "idxs_c, idxs_r = CUR(X_train, Y_train, n_col=20, n_row=0, alpha=1.0)\n",
    "print(idxs_c)\n",
    "print(idxs_r)"
   ]
  },
  {
   "cell_type": "markdown",
   "metadata": {},
   "source": [
    "# CUR-PCovR from KPCovR notebook"
   ]
  },
  {
   "cell_type": "code",
   "execution_count": 46,
   "metadata": {},
   "outputs": [],
   "source": [
    "def sorted_eig(mat, thresh=0.0, n=None):\n",
    "    \"\"\"\n",
    "        Returns the eigenvalues and vectors sorted\n",
    "        from largest to smallest eigenvalue\n",
    "    \"\"\"\n",
    "    val, vec = np.linalg.eigh(mat)\n",
    "    val = np.flip(val, axis=0)\n",
    "    vec = np.flip(vec, axis=1)\n",
    "\n",
    "    vec[:, val<thresh] = 0\n",
    "    val[val<thresh] = 0\n",
    "\n",
    "    return val[:n], vec[:, :n]\n",
    "\n",
    "\n",
    "def get_Ct(X, Y, alpha=0.5, regularization=1e-6):\n",
    "    \"\"\" Creates the PCovR modified covariance\"\"\"\n",
    "    \n",
    "    cov = np.matmul(X.T, X)\n",
    "    v_C, U_C = sorted_eig(cov, thresh=regularization)\n",
    "    \n",
    "    Csqrt = np.matmul(np.matmul(U_C, np.diag(np.sqrt(v_C))), U_C.T)\n",
    "\n",
    "    C_lr = np.matmul(np.linalg.pinv(cov, rcond=regularization), np.matmul(X.T,Y))\n",
    "    C_lr = np.matmul(Csqrt, C_lr)\n",
    "    C_lr = np.matmul(C_lr, C_lr.T) ###\n",
    "    \n",
    "    C_pca = cov\n",
    "    \n",
    "    C =  alpha*C_pca +  (1.0-alpha)*C_lr\n",
    "   \n",
    "    return C\n",
    "\n",
    "def get_Ct2(X, Y, alpha=0.5, regularization=1e-6):                                                 \n",
    "        \n",
    "    cov = np.matmul(X.T, X)\n",
    "    v_C, U_C = sorted_eig(cov, thresh=regularization)                                                 \n",
    "    U_C = U_C[:, v_C>0]                                                                               \n",
    "    v_C = v_C[v_C>0] \n",
    "                                                                                                      \n",
    "    v_inv = np.array([np.linalg.pinv([[v]])[0][0] for v in v_C])                                      \n",
    "    \n",
    "    Csqrt = np.matmul(np.matmul(U_C, np.diag(np.sqrt(v_C))), U_C.T)                                   \n",
    "    C_inv = np.matmul(np.matmul(U_C, np.diag(v_inv)), U_C.T)                                          \n",
    "    \n",
    "    C_lr = np.matmul(C_inv, np.matmul(X.T,Y))                                                         \n",
    "    C_lr = np.matmul(Csqrt, C_lr)\n",
    "    C_lr = np.matmul(C_lr, C_lr.T)                                                                    \n",
    "\n",
    "    C =  alpha*cov +  (1.0-alpha)*C_lr                                                                \n",
    "\n",
    "    return C"
   ]
  },
  {
   "cell_type": "code",
   "execution_count": 47,
   "metadata": {},
   "outputs": [],
   "source": [
    "X_copy = X_train.copy()\n",
    "Y_copy = Y_train.copy()"
   ]
  },
  {
   "cell_type": "code",
   "execution_count": 48,
   "metadata": {},
   "outputs": [],
   "source": [
    "k = 1\n",
    "alpha = 0.9999\n",
    "nCUR = 10\n",
    "Ct = get_Ct(X_copy/np.linalg.norm(X_copy), Y_copy/np.linalg.norm(Y_copy), alpha=alpha, regularization=1.0E-15)\n",
    "Ct2 = get_Ct2(X_copy/np.linalg.norm(X_copy), Y_copy/np.linalg.norm(Y_copy), alpha=alpha, regularization=1.0E-15)"
   ]
  },
  {
   "cell_type": "code",
   "execution_count": 49,
   "metadata": {},
   "outputs": [
    {
     "name": "stdout",
     "output_type": "stream",
     "text": [
      "[[ 5.88877060e-02 -3.30522999e-04 -8.09250880e-05 ...  2.19243409e-04\n",
      "   1.99253626e-04  2.04802118e-04]\n",
      " [-3.30522999e-04  1.12119043e-04  1.05086061e-04 ...  1.00006193e-04\n",
      "   9.86090876e-05  9.96945136e-05]\n",
      " [-8.09250880e-05  1.05086061e-04  1.02362140e-04 ...  1.00171082e-04\n",
      "   9.93302196e-05  1.00058791e-04]\n",
      " ...\n",
      " [ 2.19243409e-04  1.00006193e-04  1.00171082e-04 ...  1.11726182e-04\n",
      "   1.10223603e-04  1.09350098e-04]\n",
      " [ 1.99253626e-04  9.86090876e-05  9.93302196e-05 ...  1.10223603e-04\n",
      "   1.14612312e-04  1.09839113e-04]\n",
      " [ 2.04802118e-04  9.96945136e-05  1.00058791e-04 ...  1.09350098e-04\n",
      "   1.09839113e-04  1.10905547e-04]]\n",
      "[[ 5.88877060e-02 -3.30522999e-04 -8.09250880e-05 ...  2.19243409e-04\n",
      "   1.99253626e-04  2.04802118e-04]\n",
      " [-3.30522999e-04  1.12119043e-04  1.05086061e-04 ...  1.00006193e-04\n",
      "   9.86090876e-05  9.96945136e-05]\n",
      " [-8.09250880e-05  1.05086061e-04  1.02362140e-04 ...  1.00171082e-04\n",
      "   9.93302196e-05  1.00058791e-04]\n",
      " ...\n",
      " [ 2.19243409e-04  1.00006193e-04  1.00171082e-04 ...  1.11726182e-04\n",
      "   1.10223603e-04  1.09350098e-04]\n",
      " [ 1.99253626e-04  9.86090876e-05  9.93302196e-05 ...  1.10223603e-04\n",
      "   1.14612312e-04  1.09839113e-04]\n",
      " [ 2.04802118e-04  9.96945136e-05  1.00058791e-04 ...  1.09350098e-04\n",
      "   1.09839113e-04  1.10905547e-04]]\n"
     ]
    }
   ],
   "source": [
    "print(Ct)\n",
    "print(Ct2)"
   ]
  },
  {
   "cell_type": "code",
   "execution_count": 50,
   "metadata": {},
   "outputs": [
    {
     "name": "stdout",
     "output_type": "stream",
     "text": [
      "[1.47332808e-01 1.16587696e-05 2.00491075e-06 ... 7.36506640e-07\n",
      " 5.08173440e-07 6.29105511e-07]\n"
     ]
    }
   ],
   "source": [
    "v_Ct, U_Ct = sorted_eig(Ct)\n",
    "\n",
    "pi = (U_Ct[:,:k]**2.0).sum(axis=1)\n",
    "print(pi)\n",
    "j = pi.argmax()"
   ]
  },
  {
   "cell_type": "code",
   "execution_count": 51,
   "metadata": {},
   "outputs": [],
   "source": [
    "X_c = X_copy[:, [j]]"
   ]
  },
  {
   "cell_type": "code",
   "execution_count": 52,
   "metadata": {},
   "outputs": [],
   "source": [
    "Q = np.linalg.solve(np.matmul(X_c.T,X_c),np.matmul(X_c.T,X_copy))\n",
    "Q = np.linalg.cholesky(np.matmul(Q,Q.T))\n",
    "\n",
    "T = np.matmul(X_c, Q)"
   ]
  },
  {
   "cell_type": "code",
   "execution_count": 53,
   "metadata": {},
   "outputs": [],
   "source": [
    "v1 = np.linalg.pinv(np.matmul(T.T, T))\n",
    "v1 = np.matmul(T, v1)\n",
    "v1 = np.matmul(v1, T.T)\n",
    "\n",
    "v2 = np.linalg.pinv(np.matmul(X_c.T, X_c))\n",
    "v2 = np.matmul(X_c, v2)\n",
    "v2 = np.matmul(v2, X_c.T)"
   ]
  },
  {
   "cell_type": "code",
   "execution_count": 54,
   "metadata": {},
   "outputs": [],
   "source": [
    "Y_copy -= np.matmul(v2, Y_copy)"
   ]
  },
  {
   "cell_type": "code",
   "execution_count": 55,
   "metadata": {},
   "outputs": [],
   "source": [
    "v = X_copy[:,j]/np.sqrt(np.matmul(X_copy[:, j],X_copy[:, j]))\n",
    "\n",
    "for i in range(X_copy.shape[1]):\n",
    "    X_copy[:,i] -= v * np.dot(v,X_copy[:,i])"
   ]
  },
  {
   "cell_type": "code",
   "execution_count": 56,
   "metadata": {},
   "outputs": [
    {
     "data": {
      "application/vnd.jupyter.widget-view+json": {
       "model_id": "30d754b6891b4fe8bd688bddd4059ac8",
       "version_major": 2,
       "version_minor": 0
      },
      "text/plain": [
       "HBox(children=(FloatProgress(value=0.0, max=9.0), HTML(value='')))"
      ]
     },
     "metadata": {},
     "output_type": "display_data"
    },
    {
     "name": "stdout",
     "output_type": "stream",
     "text": [
      "[0.00039683 0.00039683 0.00039683 ... 0.00039683 0.00039683 0.00039683]\n",
      "0.0003968307873173912 0.00039681740198272574\n",
      "[0.00039683 0.00039683 0.00039683 ... 0.00039683 0.00039683 0.00039683]\n",
      "0.0003968289816132657 0.0003968206049040105\n",
      "[0.00039683 0.00039683 0.00039683 ... 0.00039683 0.00039683 0.00039683]\n",
      "0.0003968298966154304 0.0003968188600866042\n",
      "[0.00039683 0.00039683 0.00039683 ... 0.00039683 0.00039683 0.00039683]\n",
      "0.0003968295932627368 0.0003968193782971142\n",
      "[0.00039683 0.00039683 0.00039683 ... 0.00039683 0.00039683 0.00039683]\n",
      "0.0003968289998798138 0.00039681939431651187\n",
      "[0.00039683 0.00039683 0.00039683 ... 0.00039683 0.00039683 0.00039683]\n",
      "0.0003968293309517867 0.0003968195883158087\n",
      "[0.00039683 0.00039683 0.00039683 ... 0.00039683 0.00039683 0.00039683]\n",
      "0.0003968281873455863 0.00039681917010375527\n",
      "[0.00039683 0.00039683 0.00039683 ... 0.00039683 0.00039683 0.00039683]\n",
      "0.0003968312486872693 0.00039681287132547246\n",
      "[0.00039683 0.00039683 0.00039683 ... 0.00039683 0.00039683 0.00039683]\n",
      "0.00039683106115409307 0.0003968159623809404\n",
      "\n"
     ]
    }
   ],
   "source": [
    "idxs = [j]\n",
    "\n",
    "for n in tqdm(range(nCUR-1)):\n",
    "    \n",
    "    try:\n",
    "        Ct = get_Ct(X_copy, Y_copy, alpha=alpha)\n",
    "    except:\n",
    "        print(f\"Only {n} features possible\")\n",
    "        break\n",
    "        \n",
    "    v_Ct, U_Ct = sorted_eig(Ct)\n",
    "    \n",
    "    pi = (U_Ct[:,:k]**2.0).sum(axis=1)\n",
    "    print(pi)\n",
    "    print(np.amax(pi), np.amin(pi))\n",
    "    \n",
    "    j=pi.argmax()\n",
    "    idxs.append(j)\n",
    "    \n",
    "    X_c = X_copy[:, idxs]\n",
    "    v = np.linalg.pinv(np.matmul(X_c.T, X_c))\n",
    "    v = np.matmul(X_c, v)\n",
    "    v = np.matmul(v, X_c.T)\n",
    "\n",
    "    Y_copy -= np.matmul(v, Y_copy)\n",
    "    \n",
    "    v = X_copy[:,j]/np.sqrt(np.matmul(X_copy[:, j],X_copy[:, j]))\n",
    "\n",
    "    for i in range(X_copy.shape[1]):\n",
    "        X_copy[:,i] -= v * np.dot(v,X_copy[:,i])"
   ]
  },
  {
   "cell_type": "code",
   "execution_count": 57,
   "metadata": {},
   "outputs": [
    {
     "name": "stdout",
     "output_type": "stream",
     "text": [
      "[   0  784  420  672 2268  280 1540  840  441  700]\n"
     ]
    }
   ],
   "source": [
    "idxs = np.asarray(idxs)\n",
    "print(idxs)"
   ]
  },
  {
   "cell_type": "code",
   "execution_count": null,
   "metadata": {},
   "outputs": [],
   "source": []
  }
 ],
 "metadata": {
  "kernelspec": {
   "display_name": "Python 3",
   "language": "python",
   "name": "python3"
  },
  "language_info": {
   "codemirror_mode": {
    "name": "ipython",
    "version": 3
   },
   "file_extension": ".py",
   "mimetype": "text/x-python",
   "name": "python",
   "nbconvert_exporter": "python",
   "pygments_lexer": "ipython3",
   "version": "3.6.9"
  }
 },
 "nbformat": 4,
 "nbformat_minor": 2
}
