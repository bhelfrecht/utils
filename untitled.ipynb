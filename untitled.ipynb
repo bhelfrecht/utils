{
 "cells": [
  {
   "cell_type": "code",
   "execution_count": 1,
   "metadata": {},
   "outputs": [],
   "source": [
    "%load_ext autoreload\n",
    "%autoreload 2"
   ]
  },
  {
   "cell_type": "code",
   "execution_count": 2,
   "metadata": {},
   "outputs": [],
   "source": [
    "import numpy as np\n",
    "from kernels import linear_kernel, linear_subkernel\n",
    "from kernels import gaussian_kernel, gaussian_subkernel\n",
    "from kernels import build_kernel, build_subkernel\n",
    "from kernels import diag_indices, tri_indices"
   ]
  },
  {
   "cell_type": "code",
   "execution_count": 3,
   "metadata": {},
   "outputs": [],
   "source": [
    "xa = np.random.rand(8, 5)\n",
    "xb = np.random.rand(4, 5)"
   ]
  },
  {
   "cell_type": "code",
   "execution_count": 4,
   "metadata": {},
   "outputs": [],
   "source": [
    "xa_split = [2, 5]\n",
    "xb_split = [2]\n",
    "xa = np.split(xa, xa_split)\n",
    "xb = np.split(xb, xb_split)"
   ]
  },
  {
   "cell_type": "code",
   "execution_count": 5,
   "metadata": {},
   "outputs": [
    {
     "name": "stderr",
     "output_type": "stream",
     "text": [
      "100%|██████████| 3/3 [00:00<00:00, 8071.14it/s]\n",
      "100%|██████████| 3/3 [00:00<00:00, 6432.98it/s]"
     ]
    },
    {
     "name": "stdout",
     "output_type": "stream",
     "text": [
      "[0.82021212 1.41656873]\n",
      "[0.29864351 0.37755728]\n"
     ]
    },
    {
     "name": "stderr",
     "output_type": "stream",
     "text": [
      "\n"
     ]
    }
   ],
   "source": [
    "k = 0\n",
    "k_linear = build_kernel(xa, xb, kernel='linear') \n",
    "k_gaussian = build_kernel(xa, xb, kernel='gaussian')\n",
    "print(np.diag(k_linear, k=k))\n",
    "print(np.diag(k_gaussian, k=k))"
   ]
  },
  {
   "cell_type": "code",
   "execution_count": 6,
   "metadata": {},
   "outputs": [
    {
     "name": "stderr",
     "output_type": "stream",
     "text": [
      "100%|██████████| 2/2 [00:00<00:00, 6973.07it/s]\n",
      "100%|██████████| 2/2 [00:00<00:00, 6600.01it/s]"
     ]
    },
    {
     "name": "stdout",
     "output_type": "stream",
     "text": [
      "[0.82021212 1.41656873]\n",
      "[0.29864351 0.37755728]\n"
     ]
    },
    {
     "name": "stderr",
     "output_type": "stream",
     "text": [
      "\n"
     ]
    }
   ],
   "source": [
    "k_linear_diag = build_subkernel(xa, xb, kernel='linear', k=k, section='diag')\n",
    "k_gaussian_diag = build_subkernel(xa, xb, kernel='gaussian', k=k, section='diag')\n",
    "print(k_linear_diag)\n",
    "print(k_gaussian_diag)"
   ]
  },
  {
   "cell_type": "code",
   "execution_count": 7,
   "metadata": {},
   "outputs": [
    {
     "name": "stdout",
     "output_type": "stream",
     "text": [
      "[[0.82021212 0.87127706]\n",
      " [0.         1.41656873]\n",
      " [0.         0.        ]]\n",
      "[[0.29864351 0.25171895]\n",
      " [0.         0.37755728]\n",
      " [0.         0.        ]]\n"
     ]
    }
   ],
   "source": [
    "print(np.triu(k_linear, k=k))\n",
    "print(np.triu(k_gaussian, k=k))"
   ]
  },
  {
   "cell_type": "code",
   "execution_count": 8,
   "metadata": {},
   "outputs": [
    {
     "name": "stderr",
     "output_type": "stream",
     "text": [
      "100%|██████████| 3/3 [00:00<00:00, 13472.07it/s]\n",
      "100%|██████████| 3/3 [00:00<00:00, 9184.61it/s]"
     ]
    },
    {
     "name": "stdout",
     "output_type": "stream",
     "text": [
      "[0.82021212 0.87127706 1.41656873]\n",
      "[0.29864351 0.25171895 0.37755728]\n"
     ]
    },
    {
     "name": "stderr",
     "output_type": "stream",
     "text": [
      "\n"
     ]
    }
   ],
   "source": [
    "k_linear_upper = build_subkernel(xa, xb, kernel='linear', k=k, section='upper')\n",
    "k_gaussian_upper = build_subkernel(xa, xb, kernel='gaussian', k=k, section='upper')\n",
    "print(k_linear_upper)\n",
    "print(k_gaussian_upper)"
   ]
  },
  {
   "cell_type": "code",
   "execution_count": 9,
   "metadata": {},
   "outputs": [],
   "source": [
    "if isinstance(xa, list):\n",
    "    xa_shape = len(xa)\n",
    "else:\n",
    "    xa_shape = xa.shape[0]\n",
    "    \n",
    "if isinstance(xb, list):\n",
    "    xb_shape = len(xb)\n",
    "else:\n",
    "    xb_shape = xb.shape[0]"
   ]
  },
  {
   "cell_type": "code",
   "execution_count": 10,
   "metadata": {},
   "outputs": [
    {
     "name": "stdout",
     "output_type": "stream",
     "text": [
      "[[0.82021212 0.87127706]\n",
      " [0.         1.41656873]\n",
      " [0.         0.        ]]\n",
      "[[0.29864351 0.25171895]\n",
      " [0.         0.37755728]\n",
      " [0.         0.        ]]\n"
     ]
    }
   ],
   "source": [
    "upper_idxs = tri_indices((xa_shape, xb_shape), k=k, tri='upper')\n",
    "k_linear_upper_new = np.zeros((xa_shape, xb_shape))\n",
    "k_gaussian_upper_new = np.zeros((xa_shape, xb_shape))\n",
    "k_linear_upper_new[upper_idxs] = k_linear_upper\n",
    "k_gaussian_upper_new[upper_idxs] = k_gaussian_upper\n",
    "print(k_linear_upper_new)\n",
    "print(k_gaussian_upper_new)"
   ]
  },
  {
   "cell_type": "code",
   "execution_count": 11,
   "metadata": {},
   "outputs": [
    {
     "name": "stdout",
     "output_type": "stream",
     "text": [
      "[[0.82021212 0.        ]\n",
      " [1.26582919 1.41656873]\n",
      " [0.75963888 0.81646599]]\n",
      "[[0.29864351 0.        ]\n",
      " [0.37501138 0.37755728]\n",
      " [0.53777948 0.475353  ]]\n"
     ]
    }
   ],
   "source": [
    "print(np.tril(k_linear, k=k))\n",
    "print(np.tril(k_gaussian, k=k))"
   ]
  },
  {
   "cell_type": "code",
   "execution_count": 12,
   "metadata": {},
   "outputs": [
    {
     "name": "stderr",
     "output_type": "stream",
     "text": [
      "100%|██████████| 5/5 [00:00<00:00, 14413.42it/s]\n",
      "100%|██████████| 5/5 [00:00<00:00, 10656.26it/s]"
     ]
    },
    {
     "name": "stdout",
     "output_type": "stream",
     "text": [
      "[0.82021212 1.26582919 1.41656873 0.75963888 0.81646599]\n",
      "[0.29864351 0.37501138 0.37755728 0.53777948 0.475353  ]\n"
     ]
    },
    {
     "name": "stderr",
     "output_type": "stream",
     "text": [
      "\n"
     ]
    }
   ],
   "source": [
    "k_linear_lower = build_subkernel(xa, xb, kernel='linear', k=k, section='lower')\n",
    "k_gaussian_lower = build_subkernel(xa, xb, kernel='gaussian', k=k, section='lower')\n",
    "print(k_linear_lower)\n",
    "print(k_gaussian_lower)"
   ]
  },
  {
   "cell_type": "code",
   "execution_count": 13,
   "metadata": {},
   "outputs": [
    {
     "name": "stdout",
     "output_type": "stream",
     "text": [
      "[[0.82021212 0.        ]\n",
      " [1.26582919 1.41656873]\n",
      " [0.75963888 0.81646599]]\n",
      "[[0.29864351 0.        ]\n",
      " [0.37501138 0.37755728]\n",
      " [0.53777948 0.475353  ]]\n"
     ]
    }
   ],
   "source": [
    "lower_idxs = tri_indices((xa_shape, xb_shape), k=k, tri='lower')\n",
    "k_linear_lower_new = np.zeros((xa_shape, xb_shape))\n",
    "k_gaussian_lower_new = np.zeros((xa_shape, xb_shape ))\n",
    "k_linear_lower_new[lower_idxs] = k_linear_lower\n",
    "k_gaussian_lower_new[lower_idxs] = k_gaussian_lower\n",
    "print(k_linear_lower_new)\n",
    "print(k_gaussian_lower_new)"
   ]
  }
 ],
 "metadata": {
  "kernelspec": {
   "display_name": "Python 3",
   "language": "python",
   "name": "python3"
  },
  "language_info": {
   "codemirror_mode": {
    "name": "ipython",
    "version": 3
   },
   "file_extension": ".py",
   "mimetype": "text/x-python",
   "name": "python",
   "nbconvert_exporter": "python",
   "pygments_lexer": "ipython3",
   "version": "3.6.9"
  },
  "toc": {
   "base_numbering": 1,
   "nav_menu": {},
   "number_sections": true,
   "sideBar": true,
   "skip_h1_title": false,
   "title_cell": "Table of Contents",
   "title_sidebar": "Contents",
   "toc_cell": false,
   "toc_position": {},
   "toc_section_display": true,
   "toc_window_display": false
  }
 },
 "nbformat": 4,
 "nbformat_minor": 2
}
