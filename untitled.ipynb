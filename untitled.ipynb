{
 "cells": [
  {
   "cell_type": "code",
   "execution_count": 1,
   "metadata": {},
   "outputs": [],
   "source": [
    "%load_ext autoreload\n",
    "%autoreload 2"
   ]
  },
  {
   "cell_type": "code",
   "execution_count": 2,
   "metadata": {},
   "outputs": [],
   "source": [
    "import numpy as np\n",
    "from kernels import linear_kernel, linear_kernel_diag, linear_kernel_tri\n",
    "from kernels import gaussian_kernel, gaussian_kernel_diag, gaussian_kernel_tri\n",
    "from kernels import diag_indices, tri_indices"
   ]
  },
  {
   "cell_type": "code",
   "execution_count": 3,
   "metadata": {},
   "outputs": [],
   "source": [
    "xa = np.random.rand(8, 5)\n",
    "xb = np.random.rand(4, 5)"
   ]
  },
  {
   "cell_type": "code",
   "execution_count": 4,
   "metadata": {},
   "outputs": [
    {
     "name": "stdout",
     "output_type": "stream",
     "text": [
      "[1.10758913 0.93161372 0.55072518 1.05213439]\n",
      "[0.69970216 0.28070735 0.55175946 0.65063209]\n"
     ]
    }
   ],
   "source": [
    "k = -3\n",
    "k_linear = linear_kernel(xa, xb)\n",
    "k_gaussian = gaussian_kernel(xa, xb)\n",
    "print(np.diag(k_linear, k=k))\n",
    "print(np.diag(k_gaussian, k=k))"
   ]
  },
  {
   "cell_type": "code",
   "execution_count": 5,
   "metadata": {},
   "outputs": [
    {
     "name": "stdout",
     "output_type": "stream",
     "text": [
      "[1.10758913 0.93161372 0.55072518 1.05213439]\n",
      "[0.69970216 0.28070735 0.55175946 0.65063209]\n"
     ]
    }
   ],
   "source": [
    "k_linear_diag = linear_kernel_diag(xa, xb, k=k)\n",
    "k_gaussian_diag = gaussian_kernel_diag(xa, xb, k=k)\n",
    "print(k_linear_diag)\n",
    "print(k_gaussian_diag)"
   ]
  },
  {
   "cell_type": "code",
   "execution_count": 6,
   "metadata": {},
   "outputs": [
    {
     "name": "stdout",
     "output_type": "stream",
     "text": [
      "[[1.57116278 1.66313347 1.1871946  1.14624941]\n",
      " [1.1350191  1.22261909 0.92854595 0.8859927 ]\n",
      " [2.53771068 2.81355813 1.91661024 1.95390255]\n",
      " [1.10758913 0.86089481 0.59119815 0.67283197]\n",
      " [0.         0.93161372 0.53067569 0.70227729]\n",
      " [0.         0.         0.55072518 0.66736124]\n",
      " [0.         0.         0.         1.05213439]\n",
      " [0.         0.         0.         0.        ]]\n",
      "[[0.59424009 0.56954973 0.54738639 0.61193987]\n",
      " [0.3958425  0.37609345 0.52002555 0.57948567]\n",
      " [0.43847172 0.60705022 0.25136405 0.328605  ]\n",
      " [0.69970216 0.34066085 0.49456602 0.70649617]\n",
      " [0.         0.28070735 0.31344477 0.53603307]\n",
      " [0.         0.         0.55175946 0.84535258]\n",
      " [0.         0.         0.         0.65063209]\n",
      " [0.         0.         0.         0.        ]]\n"
     ]
    }
   ],
   "source": [
    "print(np.triu(k_linear, k=k))\n",
    "print(np.triu(k_gaussian, k=k))"
   ]
  },
  {
   "cell_type": "code",
   "execution_count": 7,
   "metadata": {},
   "outputs": [
    {
     "name": "stdout",
     "output_type": "stream",
     "text": [
      "[1.57116278 1.66313347 1.1871946  1.14624941 1.1350191  1.22261909\n",
      " 0.92854595 0.8859927  2.53771068 2.81355813 1.91661024 1.95390255\n",
      " 1.10758913 0.86089481 0.59119815 0.67283197 0.93161372 0.53067569\n",
      " 0.70227729 0.55072518 0.66736124 1.05213439]\n",
      "[0.59424009 0.56954973 0.54738639 0.61193987 0.3958425  0.37609345\n",
      " 0.52002555 0.57948567 0.43847172 0.60705022 0.25136405 0.328605\n",
      " 0.69970216 0.34066085 0.49456602 0.70649617 0.28070735 0.31344477\n",
      " 0.53603307 0.55175946 0.84535258 0.65063209]\n"
     ]
    }
   ],
   "source": [
    "k_linear_upper = linear_kernel_tri(xa, xb, k=k, tri='upper')\n",
    "k_gaussian_upper = gaussian_kernel_tri(xa, xb, k=k, tri='upper')\n",
    "print(k_linear_upper)\n",
    "print(k_gaussian_upper)"
   ]
  },
  {
   "cell_type": "code",
   "execution_count": 9,
   "metadata": {},
   "outputs": [
    {
     "name": "stdout",
     "output_type": "stream",
     "text": [
      "[[1.57116278 1.66313347 1.1871946  1.14624941]\n",
      " [1.1350191  1.22261909 0.92854595 0.8859927 ]\n",
      " [2.53771068 2.81355813 1.91661024 1.95390255]\n",
      " [1.10758913 0.86089481 0.59119815 0.67283197]\n",
      " [0.         0.93161372 0.53067569 0.70227729]\n",
      " [0.         0.         0.55072518 0.66736124]\n",
      " [0.         0.         0.         1.05213439]\n",
      " [0.         0.         0.         0.        ]]\n",
      "[[0.59424009 0.56954973 0.54738639 0.61193987]\n",
      " [0.3958425  0.37609345 0.52002555 0.57948567]\n",
      " [0.43847172 0.60705022 0.25136405 0.328605  ]\n",
      " [0.69970216 0.34066085 0.49456602 0.70649617]\n",
      " [0.         0.28070735 0.31344477 0.53603307]\n",
      " [0.         0.         0.55175946 0.84535258]\n",
      " [0.         0.         0.         0.65063209]\n",
      " [0.         0.         0.         0.        ]]\n"
     ]
    }
   ],
   "source": [
    "upper_idxs = tri_indices((xa.shape[0], xb.shape[0]), k=k, tri='upper')\n",
    "k_linear_upper_new = np.zeros((xa.shape[0], xb.shape[0]))\n",
    "k_gaussian_upper_new = np.zeros((xa.shape[0], xb.shape[0]))\n",
    "k_linear_upper_new[upper_idxs] = k_linear_upper\n",
    "k_gaussian_upper_new[upper_idxs] = k_gaussian_upper\n",
    "print(k_linear_upper_new)\n",
    "print(k_gaussian_upper_new)"
   ]
  },
  {
   "cell_type": "code",
   "execution_count": 10,
   "metadata": {},
   "outputs": [
    {
     "name": "stdout",
     "output_type": "stream",
     "text": [
      "[[0.         0.         0.         0.        ]\n",
      " [0.         0.         0.         0.        ]\n",
      " [0.         0.         0.         0.        ]\n",
      " [1.10758913 0.         0.         0.        ]\n",
      " [1.1035527  0.93161372 0.         0.        ]\n",
      " [0.860016   0.96408647 0.55072518 0.        ]\n",
      " [1.57042466 1.38073885 0.95779735 1.05213439]\n",
      " [1.28708546 1.37276819 0.82819654 0.98128049]]\n",
      "[[0.         0.         0.         0.        ]\n",
      " [0.         0.         0.         0.        ]\n",
      " [0.         0.         0.         0.        ]\n",
      " [0.69970216 0.         0.         0.        ]\n",
      " [0.49649297 0.28070735 0.         0.        ]\n",
      " [0.51588608 0.50656275 0.55175946 0.        ]\n",
      " [0.76154369 0.41554762 0.44403384 0.65063209]\n",
      " [0.69552155 0.6582921  0.55152768 0.90889485]]\n"
     ]
    }
   ],
   "source": [
    "print(np.tril(k_linear, k=k))\n",
    "print(np.tril(k_gaussian, k=k))"
   ]
  },
  {
   "cell_type": "code",
   "execution_count": 11,
   "metadata": {},
   "outputs": [
    {
     "name": "stdout",
     "output_type": "stream",
     "text": [
      "[1.10758913 1.1035527  0.93161372 0.860016   0.96408647 0.55072518\n",
      " 1.57042466 1.38073885 0.95779735 1.05213439 1.28708546 1.37276819\n",
      " 0.82819654 0.98128049]\n",
      "[0.69970216 0.49649297 0.28070735 0.51588608 0.50656275 0.55175946\n",
      " 0.76154369 0.41554762 0.44403384 0.65063209 0.69552155 0.6582921\n",
      " 0.55152768 0.90889485]\n"
     ]
    }
   ],
   "source": [
    "k_linear_lower = linear_kernel_tri(xa, xb, k=k, tri='lower')\n",
    "k_gaussian_lower = gaussian_kernel_tri(xa, xb, k=k, tri='lower')\n",
    "print(k_linear_lower)\n",
    "print(k_gaussian_lower)"
   ]
  },
  {
   "cell_type": "code",
   "execution_count": 12,
   "metadata": {},
   "outputs": [
    {
     "name": "stdout",
     "output_type": "stream",
     "text": [
      "[[0.         0.         0.         0.        ]\n",
      " [0.         0.         0.         0.        ]\n",
      " [0.         0.         0.         0.        ]\n",
      " [1.10758913 0.         0.         0.        ]\n",
      " [1.1035527  0.93161372 0.         0.        ]\n",
      " [0.860016   0.96408647 0.55072518 0.        ]\n",
      " [1.57042466 1.38073885 0.95779735 1.05213439]\n",
      " [1.28708546 1.37276819 0.82819654 0.98128049]]\n",
      "[[0.         0.         0.         0.        ]\n",
      " [0.         0.         0.         0.        ]\n",
      " [0.         0.         0.         0.        ]\n",
      " [0.69970216 0.         0.         0.        ]\n",
      " [0.49649297 0.28070735 0.         0.        ]\n",
      " [0.51588608 0.50656275 0.55175946 0.        ]\n",
      " [0.76154369 0.41554762 0.44403384 0.65063209]\n",
      " [0.69552155 0.6582921  0.55152768 0.90889485]]\n"
     ]
    }
   ],
   "source": [
    "lower_idxs = tri_indices((xa.shape[0], xb.shape[0]), k=k, tri='lower')\n",
    "k_linear_lower_new = np.zeros((xa.shape[0], xb.shape[0]))\n",
    "k_gaussian_lower_new = np.zeros((xa.shape[0], xb.shape[0]))\n",
    "k_linear_lower_new[lower_idxs] = k_linear_lower\n",
    "k_gaussian_lower_new[lower_idxs] = k_gaussian_lower\n",
    "print(k_linear_lower_new)\n",
    "print(k_gaussian_lower_new)"
   ]
  }
 ],
 "metadata": {
  "kernelspec": {
   "display_name": "Python 3",
   "language": "python",
   "name": "python3"
  },
  "language_info": {
   "codemirror_mode": {
    "name": "ipython",
    "version": 3
   },
   "file_extension": ".py",
   "mimetype": "text/x-python",
   "name": "python",
   "nbconvert_exporter": "python",
   "pygments_lexer": "ipython3",
   "version": "3.6.9"
  },
  "toc": {
   "base_numbering": 1,
   "nav_menu": {},
   "number_sections": true,
   "sideBar": true,
   "skip_h1_title": false,
   "title_cell": "Table of Contents",
   "title_sidebar": "Contents",
   "toc_cell": false,
   "toc_position": {},
   "toc_section_display": true,
   "toc_window_display": false
  }
 },
 "nbformat": 4,
 "nbformat_minor": 2
}
