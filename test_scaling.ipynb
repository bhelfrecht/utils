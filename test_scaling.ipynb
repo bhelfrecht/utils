{
 "cells": [
  {
   "cell_type": "code",
   "execution_count": 936,
   "metadata": {},
   "outputs": [],
   "source": [
    "#!/usr/bin/env python3\n",
    "\n",
    "%reload_ext autoreload\n",
    "%autoreload 2\n",
    "\n",
    "# Maths\n",
    "import numpy as np\n",
    "\n",
    "# PCovR utilities\n",
    "from regression import LR, KRR, SparseKRR, IterativeSparseKRR, PCovR, KPCovR, SparseKPCovR\n",
    "from decomposition import PCA, KPCA, SparseKPCA, IterativeSparseKPCA\n",
    "from kernels import linear_kernel, gaussian_kernel, center_kernel\n",
    "from selection import FPS\n",
    "from split import simple_split\n",
    "\n",
    "# ASE\n",
    "from ase.io import read, write\n",
    "\n",
    "# SOAP\n",
    "from rascal.representations import SphericalInvariants as SOAP\n",
    "from rascal.neighbourlist.structure_manager import mask_center_atoms_by_species\n",
    "\n",
    "# Scikit learn\n",
    "from sklearn.linear_model import LinearRegression\n",
    "from sklearn.kernel_ridge import KernelRidge\n",
    "from sklearn.decomposition import PCA as sklPCA\n",
    "from sklearn.decomposition import KernelPCA as sklKPCA\n",
    "\n",
    "# Plotting\n",
    "import matplotlib as mpl\n",
    "import matplotlib.pyplot as plt\n",
    "\n",
    "# Make the plots look nicer\n",
    "plot_parameters = {\n",
    "    'lines.linewidth': 1.0,\n",
    "    'lines.markersize': 2,\n",
    "    'patch.linewidth': 1.0,\n",
    "    'hatch.linewidth': 1.0,\n",
    "    'axes.linewidth': 1.0,\n",
    "    'xtick.top': True,\n",
    "    'xtick.bottom': True,\n",
    "    'xtick.direction': 'in',\n",
    "    'xtick.minor.visible': True,\n",
    "    'xtick.major.size': 4.0,\n",
    "    'xtick.minor.size': 2.0,\n",
    "    'xtick.major.pad': 5.0,\n",
    "    'xtick.minor.pad': 5.0,\n",
    "    'ytick.left': True,\n",
    "    'ytick.right': True,\n",
    "    'ytick.direction': 'in',\n",
    "    'ytick.minor.visible': True,\n",
    "    'ytick.major.size': 4.0,\n",
    "    'ytick.minor.size': 2.0,\n",
    "    'ytick.major.pad': 5.0,\n",
    "    'ytick.minor.pad': 5.0   \n",
    "}\n",
    "\n",
    "for pp in plot_parameters.keys():\n",
    "    mpl.rcParams[pp] = plot_parameters[pp]"
   ]
  },
  {
   "cell_type": "code",
   "execution_count": 937,
   "metadata": {},
   "outputs": [],
   "source": [
    "# Read xyz files\n",
    "s = read('/scratch/helfrech/Sync/Shared/KernelPCovR/datasets/DEEM_10000-prop-wrapped.xyz', index=':100')\n",
    "\n",
    "# Extract local properties\n",
    "v = []\n",
    "e = []\n",
    "for ss in s:\n",
    "    mask_center_atoms_by_species(ss, species_select='Si')\n",
    "    vv = ss.arrays['Si_volumes']\n",
    "    vv = vv[~np.isnan(vv)]\n",
    "    v.append(vv)\n",
    "    ee = ss.arrays['Si_energies']\n",
    "    ee = ee[~np.isnan(ee)]\n",
    "    e.append(ee)"
   ]
  },
  {
   "cell_type": "code",
   "execution_count": 938,
   "metadata": {},
   "outputs": [],
   "source": [
    "# Compute SOAPs (from librascal tutorial)\n",
    "soap = SOAP(soap_type='PowerSpectrum',\n",
    "           interaction_cutoff=6.0,\n",
    "           max_radial=8,\n",
    "           max_angular=6,\n",
    "           gaussian_sigma_type='Constant',\n",
    "           gaussian_sigma_constant=0.4,\n",
    "           cutoff_smooth_width=0.5)"
   ]
  },
  {
   "cell_type": "code",
   "execution_count": 939,
   "metadata": {},
   "outputs": [],
   "source": [
    "soap_rep = soap.transform(s)"
   ]
  },
  {
   "cell_type": "code",
   "execution_count": 940,
   "metadata": {},
   "outputs": [],
   "source": [
    "X = soap_rep.get_features(soap)\n",
    "Yv = np.concatenate(v)\n",
    "Ye = np.concatenate(e)\n",
    "Y = np.stack((Yv, Ye), axis=1)\n",
    "Y[:, 0] *= 1.0E4"
   ]
  },
  {
   "cell_type": "code",
   "execution_count": 941,
   "metadata": {},
   "outputs": [],
   "source": [
    "# Train-Test split\n",
    "f_train = 0.80\n",
    "X_train, X_test, Y_train, Y_test = simple_split(X, Y, f_train)"
   ]
  },
  {
   "cell_type": "code",
   "execution_count": 942,
   "metadata": {},
   "outputs": [],
   "source": [
    "# Select FPS components from train set\n",
    "n_FPS = 200\n",
    "idxs, d = FPS(X_train.T, n_FPS)\n",
    "\n",
    "X_train = X_train[:, idxs]\n",
    "X_test = X_test[:, idxs]"
   ]
  },
  {
   "cell_type": "code",
   "execution_count": 943,
   "metadata": {},
   "outputs": [],
   "source": [
    "# Center the data\n",
    "X_mean = np.mean(X_train, axis=0)\n",
    "Y_mean = np.mean(Y_train, axis=0)\n",
    "\n",
    "X_train -= X_mean\n",
    "X_test -= X_mean\n",
    "Y_train -= Y_mean\n",
    "Y_test -= Y_mean"
   ]
  },
  {
   "cell_type": "code",
   "execution_count": 944,
   "metadata": {},
   "outputs": [],
   "source": [
    "# Normalize the data\n",
    "X_scale = np.linalg.norm(X_train)/np.sqrt(X_train.shape[0])\n",
    "Y_scale = np.linalg.norm(Y_train, axis=0)/np.sqrt(Y_train.shape[0] / Y_train.shape[1])\n",
    "#Y_scale = np.std(Y_train, axis=0)\n",
    "#X_scale = 1.0\n",
    "#Y_scale = 1.0\n",
    "\n",
    "X_train_scaled = X_train / X_scale\n",
    "X_test_scaled = X_test / X_scale\n",
    "Y_train_scaled = Y_train / Y_scale\n",
    "Y_test_scaled = Y_test / Y_scale"
   ]
  },
  {
   "cell_type": "raw",
   "metadata": {},
   "source": [
    "# Start with just 1 property\n",
    "Y_train = Y_train[:, 0]\n",
    "Y_test = Y_test[:, 0]\n",
    "Y_train_scaled = Y_train_scaled[:, 0]\n",
    "Y_test_scaled = Y_test_scaled[:, 0]"
   ]
  },
  {
   "cell_type": "code",
   "execution_count": 945,
   "metadata": {},
   "outputs": [
    {
     "data": {
      "text/plain": [
       "((1153, 200), (1153, 2))"
      ]
     },
     "execution_count": 945,
     "metadata": {},
     "output_type": "execute_result"
    }
   ],
   "source": [
    "X_train.shape, Y_train.shape"
   ]
  },
  {
   "cell_type": "code",
   "execution_count": 946,
   "metadata": {},
   "outputs": [
    {
     "data": {
      "text/plain": [
       "(0.004999999999999999,\n",
       " array([7.46763370e-05, 1.06915131e-02, 4.16900648e-02, 2.44294053e-02,\n",
       "        3.05598520e-02, 4.79795500e-02, 4.37099187e-02, 1.44969263e-02,\n",
       "        2.65831287e-02, 3.72982124e-02, 9.77736481e-03, 1.88380157e-02,\n",
       "        3.18420517e-02, 6.88702137e-03, 4.67502374e-03, 1.97688765e-02,\n",
       "        5.12291212e-03, 2.31915466e-02, 9.01150867e-03, 1.75609111e-04,\n",
       "        2.52376701e-02, 8.94572571e-03, 6.87692204e-03, 7.58053538e-03,\n",
       "        2.79486580e-02, 9.08700557e-03, 2.42978660e-02, 2.34132960e-02,\n",
       "        1.44886283e-02, 1.00748033e-02, 5.74681168e-03, 5.26204898e-03,\n",
       "        2.25104237e-03, 4.97620664e-03, 4.05548087e-03, 2.22680618e-03,\n",
       "        1.04691337e-02, 5.54076177e-03, 6.45946588e-03, 9.42018877e-03,\n",
       "        4.49076547e-03, 9.84299173e-03, 5.53553758e-03, 7.71017801e-03,\n",
       "        3.83382934e-03, 6.27254494e-03, 8.77049125e-03, 2.08319813e-02,\n",
       "        4.64170109e-03, 2.02408413e-03, 1.10987046e-02, 4.51661732e-04,\n",
       "        3.73030585e-03, 2.13349807e-03, 1.58030339e-02, 6.29561710e-03,\n",
       "        2.18225313e-03, 1.47232255e-03, 4.39887953e-03, 2.54173496e-03,\n",
       "        2.41905640e-03, 1.70802260e-03, 5.43658626e-03, 1.23752963e-03,\n",
       "        4.20742725e-03, 9.76368005e-03, 3.29428568e-03, 3.81283187e-03,\n",
       "        2.96422783e-03, 5.38169473e-03, 9.25329244e-03, 5.50378903e-03,\n",
       "        2.94943530e-03, 1.24428648e-03, 2.25704342e-03, 4.82606917e-03,\n",
       "        3.58029411e-03, 2.08309755e-03, 2.10015298e-03, 2.40771088e-03,\n",
       "        1.21873394e-03, 1.32794838e-03, 1.35095486e-03, 4.64533701e-03,\n",
       "        3.76746745e-03, 1.96243817e-03, 1.10397556e-03, 5.64965326e-03,\n",
       "        4.57723071e-03, 8.57159201e-04, 1.80984875e-03, 2.51071030e-03,\n",
       "        1.64609978e-03, 6.91398791e-04, 5.07693025e-04, 1.91168938e-03,\n",
       "        4.95721061e-03, 1.18027482e-03, 5.41534589e-04, 1.47997308e-03,\n",
       "        1.45026226e-03, 3.41723399e-03, 2.16882272e-03, 1.80446391e-03,\n",
       "        1.18966994e-03, 1.42718961e-03, 1.32147093e-03, 8.00222742e-03,\n",
       "        2.08391816e-03, 9.40836144e-04, 1.72921609e-03, 1.26914113e-03,\n",
       "        8.27777031e-04, 9.01185045e-04, 1.21992135e-03, 9.62612165e-04,\n",
       "        2.41815013e-04, 1.21643983e-03, 1.62322799e-03, 1.05304203e-03,\n",
       "        9.78095648e-04, 6.27385557e-03, 1.05446329e-03, 1.63613679e-03,\n",
       "        8.14036185e-04, 5.08279055e-04, 1.45545878e-03, 1.11266908e-03,\n",
       "        6.19839767e-04, 1.06818930e-03, 1.42029652e-03, 1.48764827e-03,\n",
       "        1.03764347e-03, 8.03743661e-04, 1.18446945e-03, 9.27348993e-03,\n",
       "        1.02967639e-03, 9.56456824e-04, 1.14054981e-03, 2.85681218e-03,\n",
       "        1.17054882e-03, 6.50643583e-04, 7.84406092e-04, 9.65370935e-04,\n",
       "        9.56489283e-04, 1.03182006e-03, 8.17693911e-04, 1.88683500e-03,\n",
       "        9.75984247e-04, 2.28950958e-03, 2.65530734e-03, 5.85401975e-04,\n",
       "        1.26472397e-03, 1.01458010e-03, 5.09297361e-04, 1.71319012e-03,\n",
       "        1.03980676e-03, 9.54721955e-04, 1.68357762e-03, 6.22694778e-04,\n",
       "        2.16341980e-03, 9.90308391e-04, 5.51346326e-04, 1.44653640e-03,\n",
       "        7.66763973e-04, 5.46897430e-04, 5.20195822e-04, 9.47618810e-04,\n",
       "        2.95912576e-04, 8.78108529e-04, 1.08282608e-03, 1.68831681e-03,\n",
       "        1.02847104e-03, 1.39078098e-04, 1.20208803e-03, 2.86625065e-04,\n",
       "        1.89961161e-03, 6.67495422e-04, 7.61794381e-04, 6.16737171e-04,\n",
       "        7.99272370e-05, 2.41166709e-03, 7.48262459e-04, 4.86888907e-04,\n",
       "        5.94025503e-04, 8.62291915e-04, 1.00272649e-03, 3.38970762e-04,\n",
       "        7.68252651e-04, 7.20796362e-04, 3.79827771e-03, 8.46184756e-04,\n",
       "        8.33232930e-04, 8.24383201e-04, 1.90780042e-03, 5.60661522e-04,\n",
       "        9.29789292e-04, 1.57432187e-03, 5.16783611e-04, 1.22752062e-03]))"
      ]
     },
     "execution_count": 946,
     "metadata": {},
     "output_type": "execute_result"
    }
   ],
   "source": [
    "np.var(X_train_scaled), np.var(X_train_scaled, axis=0)"
   ]
  },
  {
   "cell_type": "code",
   "execution_count": 947,
   "metadata": {},
   "outputs": [
    {
     "data": {
      "text/plain": [
       "(0.5, array([0.5, 0.5]))"
      ]
     },
     "execution_count": 947,
     "metadata": {},
     "output_type": "execute_result"
    }
   ],
   "source": [
    "np.var(Y_train_scaled), np.var(Y_train_scaled, axis=0)"
   ]
  },
  {
   "cell_type": "markdown",
   "metadata": {},
   "source": [
    "# PCovR terms"
   ]
  },
  {
   "cell_type": "code",
   "execution_count": 948,
   "metadata": {},
   "outputs": [],
   "source": [
    "def G(X, Yhat, alpha=0.5):\n",
    "    G_pca = np.matmul(X, X.T)\n",
    "    G_lr = np.matmul(Yhat, Yhat.T)\n",
    "    print(np.linalg.norm(G_pca))\n",
    "    print(np.linalg.norm(G_lr))\n",
    "    \n",
    "def G_with_norm(X, Y, Yhat, alpha=0.5):\n",
    "    G_pca = np.matmul(X, X.T)/np.linalg.norm(X)**2\n",
    "    G_lr = np.matmul(Yhat, Yhat.T)/np.linalg.norm(Y)**2\n",
    "    print(np.linalg.norm(G_pca))\n",
    "    print(np.linalg.norm(G_lr))"
   ]
  },
  {
   "cell_type": "code",
   "execution_count": 949,
   "metadata": {},
   "outputs": [],
   "source": [
    "# Compute LR solutions of train and test set\n",
    "lr = LR()\n",
    "lr.fit(X_train, Y_train)\n",
    "Yhat_train = lr.transform(X_train)\n",
    "Yhat_test = lr.transform(X_test)"
   ]
  },
  {
   "cell_type": "code",
   "execution_count": 950,
   "metadata": {},
   "outputs": [],
   "source": [
    "# Compute scaled LR solutions of train and test set\n",
    "lr_scale = LR()\n",
    "lr_scale.fit(X_train_scaled, Y_train_scaled)\n",
    "Yhat_train_scaled = lr_scale.transform(X_train_scaled)\n",
    "Yhat_test_scaled = lr_scale.transform(X_test_scaled)"
   ]
  },
  {
   "cell_type": "code",
   "execution_count": 951,
   "metadata": {},
   "outputs": [
    {
     "name": "stdout",
     "output_type": "stream",
     "text": [
      "13.421202488608541\n",
      "3598212417575.713\n"
     ]
    }
   ],
   "source": [
    "G(X_train, Yhat_train) # BAD"
   ]
  },
  {
   "cell_type": "code",
   "execution_count": 952,
   "metadata": {},
   "outputs": [
    {
     "name": "stdout",
     "output_type": "stream",
     "text": [
      "517.1620254382669\n",
      "779.8479957866109\n"
     ]
    }
   ],
   "source": [
    "G(X_train_scaled, Yhat_train_scaled) # OK"
   ]
  },
  {
   "cell_type": "code",
   "execution_count": 953,
   "metadata": {},
   "outputs": [
    {
     "name": "stdout",
     "output_type": "stream",
     "text": [
      "0.44853601512425567\n",
      "0.9357393221128638\n"
     ]
    }
   ],
   "source": [
    "G_with_norm(X_train, Y_train, Yhat_train) # OK"
   ]
  },
  {
   "cell_type": "code",
   "execution_count": 954,
   "metadata": {},
   "outputs": [
    {
     "name": "stdout",
     "output_type": "stream",
     "text": [
      "0.4485360151242556\n",
      "0.6763642634749442\n"
     ]
    }
   ],
   "source": [
    "G_with_norm(X_train_scaled, Y_train_scaled, Yhat_train_scaled) # OK"
   ]
  },
  {
   "cell_type": "markdown",
   "metadata": {},
   "source": [
    "# KPCovR terms"
   ]
  },
  {
   "cell_type": "code",
   "execution_count": 955,
   "metadata": {},
   "outputs": [],
   "source": [
    "def GK(K, Yhat, alpha=0.5):\n",
    "    G_kpca = K\n",
    "    G_krr = np.matmul(Yhat, Yhat.T)\n",
    "    print(np.linalg.norm(G_kpca))\n",
    "    print(np.linalg.norm(G_krr))\n",
    "    \n",
    "def GK_with_norm(K, Y, Yhat, alpha=0.5):\n",
    "    G_kpca = K / np.trace(K)\n",
    "    G_krr = np.matmul(Yhat, Yhat.T)/np.linalg.norm(Y)**2\n",
    "    print(np.linalg.norm(G_kpca))\n",
    "    print(np.linalg.norm(G_krr))"
   ]
  },
  {
   "cell_type": "markdown",
   "metadata": {},
   "source": [
    "## Linear kernel"
   ]
  },
  {
   "cell_type": "code",
   "execution_count": 956,
   "metadata": {},
   "outputs": [],
   "source": [
    "# Build linear kernel, non-normalized X\n",
    "KL_train = linear_kernel(X_train, X_train)\n",
    "KL_test = linear_kernel(X_test, X_train)\n",
    "\n",
    "KL_test = center_kernel(KL_test, K_ref=KL_train)\n",
    "KL_train = center_kernel(KL_train)\n",
    "\n",
    "KL_scale = np.trace(KL_train)\n",
    "\n",
    "KL_train_scaled = KL_train / KL_scale\n",
    "KL_test_scaled = KL_test / KL_scale"
   ]
  },
  {
   "cell_type": "code",
   "execution_count": 957,
   "metadata": {},
   "outputs": [],
   "source": [
    "# Build linear kernel, normalized X\n",
    "KL_train_Xscaled = linear_kernel(X_train_scaled, X_train_scaled)\n",
    "KL_test_Xscaled = linear_kernel(X_test_scaled, X_train_scaled)\n",
    "\n",
    "KL_test_Xscaled = center_kernel(KL_test_Xscaled, K_ref=KL_train_Xscaled)\n",
    "KL_train_Xscaled = center_kernel(KL_train_Xscaled)"
   ]
  },
  {
   "cell_type": "code",
   "execution_count": 958,
   "metadata": {},
   "outputs": [
    {
     "data": {
      "text/plain": [
       "(29.92224043567723, 1.0, 1152.9999999999998)"
      ]
     },
     "execution_count": 958,
     "metadata": {},
     "output_type": "execute_result"
    }
   ],
   "source": [
    "np.trace(KL_train), np.trace(KL_train_scaled), np.trace(KL_train_Xscaled)"
   ]
  },
  {
   "cell_type": "code",
   "execution_count": 959,
   "metadata": {},
   "outputs": [],
   "source": [
    "# Compute KRR solutions of train and test set\n",
    "krrL = KRR()\n",
    "krrL.fit(KL_train, Y_train)\n",
    "YhatKL_train = krrL.transform(KL_train)\n",
    "YhatKL_test = krrL.transform(KL_test)"
   ]
  },
  {
   "cell_type": "code",
   "execution_count": 960,
   "metadata": {},
   "outputs": [],
   "source": [
    "# Compute scaled KRR solutions of train and test set\n",
    "krrL_scaled = KRR()\n",
    "krrL_scaled.fit(KL_train_scaled, Y_train_scaled)\n",
    "YhatKL_train_scaled = krrL_scaled.transform(KL_train_scaled)\n",
    "YhatKL_test_scaled = krrL_scaled.transform(KL_test_scaled)"
   ]
  },
  {
   "cell_type": "code",
   "execution_count": 961,
   "metadata": {},
   "outputs": [],
   "source": [
    "# Compute Xscaled KRR solutions of train and test set\n",
    "krrL_Xscaled = KRR()\n",
    "krrL_Xscaled.fit(KL_train_Xscaled, Y_train_scaled)\n",
    "YhatKL_train_Xscaled = krrL_Xscaled.transform(KL_train_Xscaled)\n",
    "YhatKL_test_Xscaled = krrL_Xscaled.transform(KL_test_Xscaled)"
   ]
  },
  {
   "cell_type": "code",
   "execution_count": 962,
   "metadata": {},
   "outputs": [
    {
     "name": "stdout",
     "output_type": "stream",
     "text": [
      "13.421202488608541\n",
      "3845314818371.949\n"
     ]
    }
   ],
   "source": [
    "GK(KL_train, Y_train, YhatKL_train) # BAD"
   ]
  },
  {
   "cell_type": "code",
   "execution_count": 963,
   "metadata": {},
   "outputs": [
    {
     "name": "stdout",
     "output_type": "stream",
     "text": [
      "0.4485360151242558\n",
      "779.8469912547172\n"
     ]
    }
   ],
   "source": [
    "GK(KL_train_scaled, YhatKL_train_scaled) # BAD"
   ]
  },
  {
   "cell_type": "code",
   "execution_count": 964,
   "metadata": {},
   "outputs": [
    {
     "name": "stdout",
     "output_type": "stream",
     "text": [
      "517.1620254382669\n",
      "779.8479948778796\n"
     ]
    }
   ],
   "source": [
    "GK(KL_train_Xscaled, YhatKL_train_Xscaled) # OK"
   ]
  },
  {
   "cell_type": "code",
   "execution_count": 965,
   "metadata": {},
   "outputs": [
    {
     "name": "stdout",
     "output_type": "stream",
     "text": [
      "0.4485360151242558\n",
      "0.9357392840661494\n"
     ]
    }
   ],
   "source": [
    "GK_with_norm(KL_train, Y_train, YhatKL_train) # OK"
   ]
  },
  {
   "cell_type": "code",
   "execution_count": 966,
   "metadata": {},
   "outputs": [
    {
     "name": "stdout",
     "output_type": "stream",
     "text": [
      "0.4485360151242558\n",
      "0.676363392241732\n"
     ]
    }
   ],
   "source": [
    "GK_with_norm(KL_train_scaled, Y_train_scaled, YhatKL_train_scaled) # OK"
   ]
  },
  {
   "cell_type": "code",
   "execution_count": 967,
   "metadata": {},
   "outputs": [
    {
     "name": "stdout",
     "output_type": "stream",
     "text": [
      "0.44853601512425584\n",
      "0.6763642626867993\n"
     ]
    }
   ],
   "source": [
    "GK_with_norm(KL_train_Xscaled, Y_train_scaled, YhatKL_train_Xscaled) # OK"
   ]
  },
  {
   "cell_type": "markdown",
   "metadata": {},
   "source": [
    "## Gaussian kernel"
   ]
  },
  {
   "cell_type": "code",
   "execution_count": 968,
   "metadata": {},
   "outputs": [],
   "source": [
    "# Build gaussian kernel\n",
    "KG_train = gaussian_kernel(X_train, X_train)\n",
    "KG_test = gaussian_kernel(X_test, X_train)\n",
    "\n",
    "KG_test = center_kernel(KG_test, K_ref=KG_train)\n",
    "KG_train = center_kernel(KG_train)\n",
    "\n",
    "KG_scale = np.trace(KG_train)\n",
    "\n",
    "KG_train_scaled = KG_train / KG_scale\n",
    "KG_test_scaled = KG_test / KG_scale"
   ]
  },
  {
   "cell_type": "code",
   "execution_count": 969,
   "metadata": {},
   "outputs": [],
   "source": [
    "# Build gaussian kernel, normalized X\n",
    "KG_train_Xscaled = gaussian_kernel(X_train_scaled, X_train_scaled)\n",
    "KG_test_Xscaled = gaussian_kernel(X_test_scaled, X_train_scaled)\n",
    "\n",
    "KG_test_Xscaled = center_kernel(KG_test_Xscaled, K_ref=KG_train_Xscaled)\n",
    "KG_train_Xscaled = center_kernel(KG_train_Xscaled)"
   ]
  },
  {
   "cell_type": "code",
   "execution_count": 970,
   "metadata": {},
   "outputs": [
    {
     "data": {
      "text/plain": [
       "(57.78637062623631, 1.0, 901.5848723918432)"
      ]
     },
     "execution_count": 970,
     "metadata": {},
     "output_type": "execute_result"
    }
   ],
   "source": [
    "np.trace(KG_train), np.trace(KG_train_scaled), np.trace(KG_train_Xscaled)"
   ]
  },
  {
   "cell_type": "code",
   "execution_count": 971,
   "metadata": {},
   "outputs": [],
   "source": [
    "# Compute KRR solutions of train and test set\n",
    "krrG = KRR()\n",
    "krrG.fit(KG_train, Y_train)\n",
    "YhatKG_train = krrG.transform(KG_train)\n",
    "YhatKG_test = krrG.transform(KG_test)"
   ]
  },
  {
   "cell_type": "code",
   "execution_count": 972,
   "metadata": {},
   "outputs": [],
   "source": [
    "# Compute scaled KRR solutions of train and test set\n",
    "krrG_scaled = KRR()\n",
    "krrG_scaled.fit(KG_train_scaled, Y_train_scaled)\n",
    "YhatKG_train_scaled = krrG_scaled.transform(KG_train_scaled)\n",
    "YhatKG_test_scaled = krrG_scaled.transform(KG_test_scaled)"
   ]
  },
  {
   "cell_type": "code",
   "execution_count": 973,
   "metadata": {},
   "outputs": [],
   "source": [
    "# Compute scaled KRR solutions of train and test set\n",
    "krrG_Xscaled = KRR()\n",
    "krrG_Xscaled.fit(KG_train_Xscaled, Y_train_scaled)\n",
    "YhatKG_train_Xscaled = krrG_Xscaled.transform(KG_train_Xscaled)\n",
    "YhatKG_test_Xscaled = krrG_Xscaled.transform(KG_test_Xscaled)"
   ]
  },
  {
   "cell_type": "code",
   "execution_count": 974,
   "metadata": {},
   "outputs": [
    {
     "name": "stdout",
     "output_type": "stream",
     "text": [
      "24.996044100387873\n",
      "3845314811253.022\n"
     ]
    }
   ],
   "source": [
    "GK(KG_train, YhatKG_train) # BAD"
   ]
  },
  {
   "cell_type": "code",
   "execution_count": 975,
   "metadata": {},
   "outputs": [
    {
     "name": "stdout",
     "output_type": "stream",
     "text": [
      "0.43255950892058803\n",
      "815.3829491599207\n"
     ]
    }
   ],
   "source": [
    "GK(KG_train_scaled, YhatKG_train_scaled) # BAD"
   ]
  },
  {
   "cell_type": "code",
   "execution_count": 976,
   "metadata": {},
   "outputs": [
    {
     "name": "stdout",
     "output_type": "stream",
     "text": [
      "162.43663465023985\n",
      "815.383012547666\n"
     ]
    }
   ],
   "source": [
    "GK(KG_train_Xscaled, YhatKG_train_Xscaled) # OK"
   ]
  },
  {
   "cell_type": "code",
   "execution_count": 977,
   "metadata": {
    "scrolled": true
   },
   "outputs": [
    {
     "name": "stdout",
     "output_type": "stream",
     "text": [
      "0.43255950892058803\n",
      "0.9999999603182806\n"
     ]
    }
   ],
   "source": [
    "GK_with_norm(KG_train, Y_train, YhatKG_train) # OK"
   ]
  },
  {
   "cell_type": "code",
   "execution_count": 978,
   "metadata": {},
   "outputs": [
    {
     "name": "stdout",
     "output_type": "stream",
     "text": [
      "0.43255950892058803\n",
      "0.7071838240762537\n"
     ]
    }
   ],
   "source": [
    "GK_with_norm(KG_train_scaled, Y_train_scaled, YhatKG_train_scaled) # OK"
   ]
  },
  {
   "cell_type": "code",
   "execution_count": 979,
   "metadata": {},
   "outputs": [
    {
     "name": "stdout",
     "output_type": "stream",
     "text": [
      "0.18016787950235522\n",
      "0.7071838790526158\n"
     ]
    }
   ],
   "source": [
    "GK_with_norm(KG_train_Xscaled, Y_train_scaled, YhatKG_train_Xscaled) # OK"
   ]
  }
 ],
 "metadata": {
  "kernelspec": {
   "display_name": "Python 3",
   "language": "python",
   "name": "python3"
  },
  "language_info": {
   "codemirror_mode": {
    "name": "ipython",
    "version": 3
   },
   "file_extension": ".py",
   "mimetype": "text/x-python",
   "name": "python",
   "nbconvert_exporter": "python",
   "pygments_lexer": "ipython3",
   "version": "3.6.9"
  },
  "toc": {
   "base_numbering": 1,
   "nav_menu": {
    "height": "228px",
    "width": "231px"
   },
   "number_sections": true,
   "sideBar": true,
   "skip_h1_title": false,
   "title_cell": "Table of Contents",
   "title_sidebar": "Contents",
   "toc_cell": false,
   "toc_position": {},
   "toc_section_display": true,
   "toc_window_display": false
  }
 },
 "nbformat": 4,
 "nbformat_minor": 2
}
