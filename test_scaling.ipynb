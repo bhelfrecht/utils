{
 "cells": [
  {
   "cell_type": "code",
   "execution_count": 703,
   "metadata": {},
   "outputs": [],
   "source": [
    "#!/usr/bin/env python3\n",
    "\n",
    "%reload_ext autoreload\n",
    "%autoreload 2\n",
    "\n",
    "# Maths\n",
    "import numpy as np\n",
    "\n",
    "# PCovR utilities\n",
    "from regression import LR, KRR, SparseKRR, IterativeSparseKRR, PCovR, KPCovR, SparseKPCovR\n",
    "from decomposition import PCA, KPCA, SparseKPCA, IterativeSparseKPCA\n",
    "from kernels import linear_kernel, gaussian_kernel, center_kernel\n",
    "from selection import FPS\n",
    "from split import simple_split\n",
    "\n",
    "# ASE\n",
    "from ase.io import read, write\n",
    "\n",
    "# SOAP\n",
    "from rascal.representations import SphericalInvariants as SOAP\n",
    "from rascal.neighbourlist.structure_manager import mask_center_atoms_by_species\n",
    "\n",
    "# Scikit learn\n",
    "from sklearn.linear_model import LinearRegression\n",
    "from sklearn.kernel_ridge import KernelRidge\n",
    "from sklearn.decomposition import PCA as sklPCA\n",
    "from sklearn.decomposition import KernelPCA as sklKPCA\n",
    "\n",
    "# Plotting\n",
    "import matplotlib as mpl\n",
    "import matplotlib.pyplot as plt\n",
    "\n",
    "# Make the plots look nicer\n",
    "plot_parameters = {\n",
    "    'lines.linewidth': 1.0,\n",
    "    'lines.markersize': 2,\n",
    "    'patch.linewidth': 1.0,\n",
    "    'hatch.linewidth': 1.0,\n",
    "    'axes.linewidth': 1.0,\n",
    "    'xtick.top': True,\n",
    "    'xtick.bottom': True,\n",
    "    'xtick.direction': 'in',\n",
    "    'xtick.minor.visible': True,\n",
    "    'xtick.major.size': 4.0,\n",
    "    'xtick.minor.size': 2.0,\n",
    "    'xtick.major.pad': 5.0,\n",
    "    'xtick.minor.pad': 5.0,\n",
    "    'ytick.left': True,\n",
    "    'ytick.right': True,\n",
    "    'ytick.direction': 'in',\n",
    "    'ytick.minor.visible': True,\n",
    "    'ytick.major.size': 4.0,\n",
    "    'ytick.minor.size': 2.0,\n",
    "    'ytick.major.pad': 5.0,\n",
    "    'ytick.minor.pad': 5.0   \n",
    "}\n",
    "\n",
    "for pp in plot_parameters.keys():\n",
    "    mpl.rcParams[pp] = plot_parameters[pp]"
   ]
  },
  {
   "cell_type": "code",
   "execution_count": 704,
   "metadata": {},
   "outputs": [],
   "source": [
    "# Read xyz files\n",
    "s = read('/scratch/helfrech/Sync/Shared/KernelPCovR/datasets/DEEM_10000-prop-wrapped.xyz', index=':100')\n",
    "\n",
    "# Extract local properties\n",
    "v = []\n",
    "e = []\n",
    "for ss in s:\n",
    "    mask_center_atoms_by_species(ss, species_select='Si')\n",
    "    vv = ss.arrays['Si_volumes']\n",
    "    vv = vv[~np.isnan(vv)]\n",
    "    v.append(vv)\n",
    "    ee = ss.arrays['Si_energies']\n",
    "    ee = ee[~np.isnan(ee)]\n",
    "    e.append(ee)"
   ]
  },
  {
   "cell_type": "code",
   "execution_count": 705,
   "metadata": {},
   "outputs": [],
   "source": [
    "# Compute SOAPs (from librascal tutorial)\n",
    "soap = SOAP(soap_type='PowerSpectrum',\n",
    "           interaction_cutoff=6.0,\n",
    "           max_radial=8,\n",
    "           max_angular=6,\n",
    "           gaussian_sigma_type='Constant',\n",
    "           gaussian_sigma_constant=0.4,\n",
    "           cutoff_smooth_width=0.5)"
   ]
  },
  {
   "cell_type": "code",
   "execution_count": 706,
   "metadata": {},
   "outputs": [],
   "source": [
    "soap_rep = soap.transform(s)"
   ]
  },
  {
   "cell_type": "code",
   "execution_count": 707,
   "metadata": {},
   "outputs": [],
   "source": [
    "X = soap_rep.get_features(soap)\n",
    "Yv = np.concatenate(v)\n",
    "Ye = np.concatenate(e)\n",
    "Y = np.stack((Yv, Ye), axis=1)\n",
    "Y[:, 0] *= 1.0E4"
   ]
  },
  {
   "cell_type": "code",
   "execution_count": 708,
   "metadata": {},
   "outputs": [],
   "source": [
    "# Train-Test split\n",
    "f_train = 0.80\n",
    "X_train, X_test, Y_train, Y_test = simple_split(X, Y, f_train)"
   ]
  },
  {
   "cell_type": "code",
   "execution_count": 709,
   "metadata": {},
   "outputs": [],
   "source": [
    "# Select FPS components from train set\n",
    "n_FPS = 200\n",
    "idxs, d = FPS(X_train.T, n_FPS)\n",
    "\n",
    "X_train = X_train[:, idxs]\n",
    "X_test = X_test[:, idxs]"
   ]
  },
  {
   "cell_type": "code",
   "execution_count": 710,
   "metadata": {},
   "outputs": [],
   "source": [
    "# Center the data\n",
    "X_mean = np.mean(X_train, axis=0)\n",
    "Y_mean = np.mean(Y_train, axis=0)\n",
    "\n",
    "X_train -= X_mean\n",
    "X_test -= X_mean\n",
    "Y_train -= Y_mean\n",
    "Y_test -= Y_mean"
   ]
  },
  {
   "cell_type": "code",
   "execution_count": 711,
   "metadata": {},
   "outputs": [],
   "source": [
    "# Normalize the data\n",
    "X_scale = np.linalg.norm(X_train)/np.sqrt(X_train.shape[0])\n",
    "Y_scale = np.linalg.norm(Y_train, axis=0)/np.sqrt(Y_train.shape[0] / Y_train.shape[1])\n",
    "#Y_scale = np.std(Y_train, axis=0)\n",
    "#X_scale = 1.0\n",
    "#Y_scale = 1.0\n",
    "\n",
    "X_train_scaled = X_train / X_scale\n",
    "X_test_scaled = X_test / X_scale\n",
    "Y_train_scaled = Y_train / Y_scale\n",
    "Y_test_scaled = Y_test / Y_scale"
   ]
  },
  {
   "cell_type": "raw",
   "metadata": {},
   "source": [
    "# Start with just 1 property\n",
    "Y_train = Y_train[:, 0]\n",
    "Y_test = Y_test[:, 0]\n",
    "Y_train_scaled = Y_train_scaled[:, 0]\n",
    "Y_test_scaled = Y_test_scaled[:, 0]"
   ]
  },
  {
   "cell_type": "code",
   "execution_count": 712,
   "metadata": {},
   "outputs": [
    {
     "data": {
      "text/plain": [
       "((1153, 200), (1153, 2))"
      ]
     },
     "execution_count": 712,
     "metadata": {},
     "output_type": "execute_result"
    }
   ],
   "source": [
    "X_train.shape, Y_train.shape"
   ]
  },
  {
   "cell_type": "code",
   "execution_count": 713,
   "metadata": {},
   "outputs": [
    {
     "data": {
      "text/plain": [
       "(0.005000000000000002,\n",
       " array([0.00506361, 0.01088657, 0.02638088, 0.00017527, 0.02768523,\n",
       "        0.03161461, 0.0490499 , 0.01527895, 0.00372817, 0.04449884,\n",
       "        0.0187499 , 0.03217988, 0.02085518, 0.03626766, 0.0054388 ,\n",
       "        0.01963719, 0.01012529, 0.04214018, 0.00516689, 0.02365363,\n",
       "        0.00897477, 0.00859821, 0.00452602, 0.02534818, 0.00869003,\n",
       "        0.0109094 , 0.00532316, 0.02454363, 0.02490946, 0.00669818,\n",
       "        0.00042194, 0.00557891, 0.00460156, 0.00982135, 0.01471558,\n",
       "        0.00964468, 0.00324133, 0.01072166, 0.00376222, 0.00656494,\n",
       "        0.00221936, 0.00956662, 0.00203181, 0.00464341, 0.00515841,\n",
       "        0.00828375, 0.00237123, 0.02392129, 0.00512468, 0.00754408,\n",
       "        0.00873337, 0.00701287, 0.01579248, 0.00210025, 0.00173834,\n",
       "        0.00154841, 0.00483503, 0.00436785, 0.00617153, 0.00216541,\n",
       "        0.0044285 , 0.0012899 , 0.00531098, 0.00428513, 0.00982737,\n",
       "        0.00382568, 0.00165086, 0.00297084, 0.00223697, 0.0054732 ,\n",
       "        0.00370447, 0.00295818, 0.0090985 , 0.00230665, 0.0054825 ,\n",
       "        0.0001243 , 0.00094116, 0.00472729, 0.00119076, 0.00207429,\n",
       "        0.00244448, 0.00211519, 0.00123923, 0.00208281, 0.00224967,\n",
       "        0.00175988, 0.00557384, 0.00112655, 0.00084347, 0.00467655,\n",
       "        0.0005108 , 0.00171798, 0.00122658, 0.00101565, 0.00068521,\n",
       "        0.00658502, 0.00202691, 0.00101551, 0.0014833 , 0.00249121,\n",
       "        0.00120511, 0.00343987, 0.00119673, 0.00217259, 0.00186093,\n",
       "        0.00092456, 0.00230458, 0.00177475, 0.00148068, 0.00086552,\n",
       "        0.00791   , 0.00139485, 0.00091866, 0.00115106, 0.00133379,\n",
       "        0.00162433, 0.00131483, 0.00106393, 0.00083327, 0.0010695 ,\n",
       "        0.00154725, 0.0012765 , 0.00142336, 0.00081018, 0.0008012 ,\n",
       "        0.00105652, 0.00184621, 0.0010486 , 0.00092853, 0.00110357,\n",
       "        0.00635135, 0.00052526, 0.00086374, 0.00385012, 0.00058891,\n",
       "        0.0006087 , 0.00083659, 0.0008316 , 0.00143997, 0.00118647,\n",
       "        0.00858625, 0.00012089, 0.0010433 , 0.00155479, 0.00097502,\n",
       "        0.00056998, 0.00060437, 0.00283355, 0.00067272, 0.00096149,\n",
       "        0.00084079, 0.00120661, 0.00097586, 0.00098939, 0.00096339,\n",
       "        0.00075859, 0.00025189, 0.00109007, 0.00052319, 0.0009208 ,\n",
       "        0.00081824, 0.00045833, 0.0025924 , 0.00076713, 0.00042221,\n",
       "        0.00230254, 0.00057109, 0.00109993, 0.00124767, 0.00173601,\n",
       "        0.00097464, 0.00069712, 0.00085853, 0.00054055, 0.00107322,\n",
       "        0.00121231, 0.00145705, 0.00257922, 0.00076693, 0.00029436,\n",
       "        0.00051   , 0.00168711, 0.00104462, 0.00192656, 0.00047142,\n",
       "        0.0003376 , 0.00082787, 0.000424  , 0.00081967, 0.00046551,\n",
       "        0.0004112 , 0.00086358, 0.00070396, 0.00117624, 0.00055643,\n",
       "        0.00062349, 0.00061402, 0.00096694, 0.00168671, 0.00192704]))"
      ]
     },
     "execution_count": 713,
     "metadata": {},
     "output_type": "execute_result"
    }
   ],
   "source": [
    "np.var(X_train_scaled), np.var(X_train_scaled, axis=0)"
   ]
  },
  {
   "cell_type": "code",
   "execution_count": 714,
   "metadata": {},
   "outputs": [
    {
     "data": {
      "text/plain": [
       "(0.4999999999999997, array([0.5, 0.5]))"
      ]
     },
     "execution_count": 714,
     "metadata": {},
     "output_type": "execute_result"
    }
   ],
   "source": [
    "np.var(Y_train_scaled), np.var(Y_train_scaled, axis=0)"
   ]
  },
  {
   "cell_type": "markdown",
   "metadata": {},
   "source": [
    "# PCovR terms"
   ]
  },
  {
   "cell_type": "code",
   "execution_count": 715,
   "metadata": {},
   "outputs": [],
   "source": [
    "def G(X, Yhat, alpha=0.5):\n",
    "    G_pca = np.matmul(X, X.T)\n",
    "    G_lr = np.matmul(Yhat, Yhat.T)\n",
    "    print(np.linalg.norm(G_pca))\n",
    "    print(np.linalg.norm(G_lr))\n",
    "    \n",
    "def G_with_norm(X, Y, Yhat, alpha=0.5):\n",
    "    G_pca = np.matmul(X, X.T)/np.linalg.norm(X)**2\n",
    "    G_lr = np.matmul(Yhat, Yhat.T)/np.linalg.norm(Y)**2\n",
    "    print(np.linalg.norm(G_pca))\n",
    "    print(np.linalg.norm(G_lr))"
   ]
  },
  {
   "cell_type": "code",
   "execution_count": 716,
   "metadata": {},
   "outputs": [],
   "source": [
    "# Compute LR solutions of train and test set\n",
    "lr = LR()\n",
    "lr.fit(X_train, Y_train)\n",
    "Yhat_train = lr.transform(X_train)\n",
    "Yhat_test = lr.transform(X_test)"
   ]
  },
  {
   "cell_type": "code",
   "execution_count": 717,
   "metadata": {},
   "outputs": [],
   "source": [
    "# Compute scaled LR solutions of train and test set\n",
    "lr_scale = LR()\n",
    "lr_scale.fit(X_train_scaled, Y_train_scaled)\n",
    "Yhat_train_scaled = lr_scale.transform(X_train_scaled)\n",
    "Yhat_test_scaled = lr_scale.transform(X_test_scaled)"
   ]
  },
  {
   "cell_type": "code",
   "execution_count": 718,
   "metadata": {},
   "outputs": [
    {
     "name": "stdout",
     "output_type": "stream",
     "text": [
      "13.43792874831383\n",
      "3894428172048.081\n"
     ]
    }
   ],
   "source": [
    "G(X_train, Yhat_train) # BAD"
   ]
  },
  {
   "cell_type": "code",
   "execution_count": 719,
   "metadata": {},
   "outputs": [
    {
     "name": "stdout",
     "output_type": "stream",
     "text": [
      "520.1485784388886\n",
      "780.631684558894\n"
     ]
    }
   ],
   "source": [
    "G(X_train_scaled, Yhat_train_scaled) # OK"
   ]
  },
  {
   "cell_type": "code",
   "execution_count": 720,
   "metadata": {},
   "outputs": [
    {
     "name": "stdout",
     "output_type": "stream",
     "text": [
      "0.4511262605714555\n",
      "0.9381218510638325\n"
     ]
    }
   ],
   "source": [
    "G_with_norm(X_train, Y_train, Yhat_train) # OK"
   ]
  },
  {
   "cell_type": "code",
   "execution_count": 721,
   "metadata": {},
   "outputs": [
    {
     "name": "stdout",
     "output_type": "stream",
     "text": [
      "0.4511262605714555\n",
      "0.6770439588542015\n"
     ]
    }
   ],
   "source": [
    "G_with_norm(X_train_scaled, Y_train_scaled, Yhat_train_scaled) # OK"
   ]
  },
  {
   "cell_type": "markdown",
   "metadata": {},
   "source": [
    "# KPCovR terms"
   ]
  },
  {
   "cell_type": "code",
   "execution_count": 722,
   "metadata": {},
   "outputs": [],
   "source": [
    "def GK(K, Yhat, alpha=0.5):\n",
    "    G_kpca = K\n",
    "    G_krr = np.matmul(Yhat, Yhat.T)\n",
    "    print(np.linalg.norm(G_kpca))\n",
    "    print(np.linalg.norm(G_krr))\n",
    "    \n",
    "def GK_with_norm(K, Y, Yhat, alpha=0.5):\n",
    "    G_kpca = K / np.trace(K)\n",
    "    G_krr = np.matmul(Yhat, Yhat.T)/np.linalg.norm(Y)**2\n",
    "    print(np.linalg.norm(G_kpca))\n",
    "    print(np.linalg.norm(G_krr))"
   ]
  },
  {
   "cell_type": "markdown",
   "metadata": {},
   "source": [
    "## Linear kernel"
   ]
  },
  {
   "cell_type": "code",
   "execution_count": 723,
   "metadata": {},
   "outputs": [],
   "source": [
    "# Build linear kernel, non-normalized X\n",
    "KL_train = linear_kernel(X_train, X_train)\n",
    "KL_test = linear_kernel(X_test, X_train)\n",
    "\n",
    "KL_test = center_kernel(KL_test, K_ref=KL_train)\n",
    "KL_train = center_kernel(KL_train)\n",
    "\n",
    "KL_scale = np.trace(KL_train)\n",
    "\n",
    "KL_train_scaled = KL_train / KL_scale\n",
    "KL_test_scaled = KL_test / KL_scale"
   ]
  },
  {
   "cell_type": "code",
   "execution_count": 724,
   "metadata": {},
   "outputs": [],
   "source": [
    "# Build linear kernel, normalized X\n",
    "KL_train_Xscaled = linear_kernel(X_train_scaled, X_train_scaled)\n",
    "KL_test_Xscaled = linear_kernel(X_test_scaled, X_train_scaled)\n",
    "\n",
    "KL_test_Xscaled = center_kernel(KL_test_Xscaled, K_ref=KL_train_Xscaled)\n",
    "KL_train_Xscaled = center_kernel(KL_train_Xscaled)"
   ]
  },
  {
   "cell_type": "code",
   "execution_count": 725,
   "metadata": {},
   "outputs": [
    {
     "data": {
      "text/plain": [
       "(29.78751166312418, 1.0, 1153.0)"
      ]
     },
     "execution_count": 725,
     "metadata": {},
     "output_type": "execute_result"
    }
   ],
   "source": [
    "np.trace(KL_train), np.trace(KL_train_scaled), np.trace(KL_train_Xscaled)"
   ]
  },
  {
   "cell_type": "code",
   "execution_count": 726,
   "metadata": {},
   "outputs": [],
   "source": [
    "# Compute KRR solutions of train and test set\n",
    "krrL = KRR()\n",
    "krrL.fit(KL_train, Y_train)\n",
    "YhatKL_train = krrL.transform(KL_train)\n",
    "YhatKL_test = krrL.transform(KL_test)"
   ]
  },
  {
   "cell_type": "code",
   "execution_count": 727,
   "metadata": {},
   "outputs": [],
   "source": [
    "# Compute scaled KRR solutions of train and test set\n",
    "krrL_scaled = KRR()\n",
    "krrL_scaled.fit(KL_train_scaled, Y_train_scaled)\n",
    "YhatKL_train_scaled = krrL_scaled.transform(KL_train_scaled)\n",
    "YhatKL_test_scaled = krrL_scaled.transform(KL_test_scaled)"
   ]
  },
  {
   "cell_type": "code",
   "execution_count": 728,
   "metadata": {},
   "outputs": [],
   "source": [
    "# Compute Xscaled KRR solutions of train and test set\n",
    "krrL_Xscaled = KRR()\n",
    "krrL_Xscaled.fit(KL_train_Xscaled, Y_train_scaled)\n",
    "YhatKL_train_Xscaled = krrL_Xscaled.transform(KL_train_Xscaled)\n",
    "YhatKL_test_Xscaled = krrL_Xscaled.transform(KL_test_Xscaled)"
   ]
  },
  {
   "cell_type": "code",
   "execution_count": 729,
   "metadata": {},
   "outputs": [
    {
     "name": "stdout",
     "output_type": "stream",
     "text": [
      "13.437928748313832\n",
      "4151302978217.31\n"
     ]
    }
   ],
   "source": [
    "GK(KL_train, Y_train, YhatKL_train) # BAD"
   ]
  },
  {
   "cell_type": "code",
   "execution_count": 730,
   "metadata": {},
   "outputs": [
    {
     "name": "stdout",
     "output_type": "stream",
     "text": [
      "0.4511262605714555\n",
      "780.6315665540532\n"
     ]
    }
   ],
   "source": [
    "GK(KL_train_scaled, YhatKL_train_scaled) # BAD"
   ]
  },
  {
   "cell_type": "code",
   "execution_count": 731,
   "metadata": {},
   "outputs": [
    {
     "name": "stdout",
     "output_type": "stream",
     "text": [
      "520.1485784388886\n",
      "780.631683695793\n"
     ]
    }
   ],
   "source": [
    "GK(KL_train_Xscaled, YhatKL_train_Xscaled) # OK"
   ]
  },
  {
   "cell_type": "code",
   "execution_count": 732,
   "metadata": {},
   "outputs": [
    {
     "name": "stdout",
     "output_type": "stream",
     "text": [
      "0.4511262605714555\n",
      "0.9381217995945569\n"
     ]
    }
   ],
   "source": [
    "GK_with_norm(KL_train, Y_train, YhatKL_train) # OK"
   ]
  },
  {
   "cell_type": "code",
   "execution_count": 733,
   "metadata": {},
   "outputs": [
    {
     "name": "stdout",
     "output_type": "stream",
     "text": [
      "0.4511262605714555\n",
      "0.6770438565082859\n"
     ]
    }
   ],
   "source": [
    "GK_with_norm(KL_train_scaled, Y_train_scaled, YhatKL_train_scaled) # OK"
   ]
  },
  {
   "cell_type": "code",
   "execution_count": 734,
   "metadata": {},
   "outputs": [
    {
     "name": "stdout",
     "output_type": "stream",
     "text": [
      "0.4511262605714556\n",
      "0.6770439581056316\n"
     ]
    }
   ],
   "source": [
    "GK_with_norm(KL_train_Xscaled, Y_train_scaled, YhatKL_train_Xscaled) # OK"
   ]
  },
  {
   "cell_type": "markdown",
   "metadata": {},
   "source": [
    "## Gaussian kernel"
   ]
  },
  {
   "cell_type": "code",
   "execution_count": 735,
   "metadata": {},
   "outputs": [],
   "source": [
    "# Build gaussian kernel\n",
    "KG_train = gaussian_kernel(X_train, X_train)\n",
    "KG_test = gaussian_kernel(X_test, X_train)\n",
    "\n",
    "KG_test = center_kernel(KG_test, K_ref=KG_train)\n",
    "KG_train = center_kernel(KG_train)\n",
    "\n",
    "KG_scale = np.trace(KG_train)\n",
    "\n",
    "KG_train_scaled = KG_train / KG_scale\n",
    "KG_test_scaled = KG_test / KG_scale"
   ]
  },
  {
   "cell_type": "code",
   "execution_count": 736,
   "metadata": {},
   "outputs": [],
   "source": [
    "# Build gaussian kernel, normalized X\n",
    "KG_train_Xscaled = gaussian_kernel(X_train_scaled, X_train_scaled)\n",
    "KG_test_Xscaled = gaussian_kernel(X_test_scaled, X_train_scaled)\n",
    "\n",
    "KG_test_Xscaled = center_kernel(KG_test_Xscaled, K_ref=KG_train_Xscaled)\n",
    "KG_train_Xscaled = center_kernel(KG_train_Xscaled)"
   ]
  },
  {
   "cell_type": "code",
   "execution_count": 737,
   "metadata": {},
   "outputs": [
    {
     "data": {
      "text/plain": [
       "(57.53003488328018, 0.9999999999999999, 901.1200533701208)"
      ]
     },
     "execution_count": 737,
     "metadata": {},
     "output_type": "execute_result"
    }
   ],
   "source": [
    "np.trace(KG_train), np.trace(KG_train_scaled), np.trace(KG_train_Xscaled)"
   ]
  },
  {
   "cell_type": "code",
   "execution_count": 738,
   "metadata": {},
   "outputs": [],
   "source": [
    "# Compute KRR solutions of train and test set\n",
    "krrG = KRR()\n",
    "krrG.fit(KG_train, Y_train)\n",
    "YhatKG_train = krrG.transform(KG_train)\n",
    "YhatKG_test = krrG.transform(KG_test)"
   ]
  },
  {
   "cell_type": "code",
   "execution_count": 739,
   "metadata": {},
   "outputs": [],
   "source": [
    "# Compute scaled KRR solutions of train and test set\n",
    "krrG_scaled = KRR()\n",
    "krrG_scaled.fit(KG_train_scaled, Y_train_scaled)\n",
    "YhatKG_train_scaled = krrG_scaled.transform(KG_train_scaled)\n",
    "YhatKG_test_scaled = krrG_scaled.transform(KG_test_scaled)"
   ]
  },
  {
   "cell_type": "code",
   "execution_count": 740,
   "metadata": {},
   "outputs": [],
   "source": [
    "# Compute scaled KRR solutions of train and test set\n",
    "krrG_Xscaled = KRR()\n",
    "krrG_Xscaled.fit(KG_train_Xscaled, Y_train_scaled)\n",
    "YhatKG_train_Xscaled = krrG_Xscaled.transform(KG_train_Xscaled)\n",
    "YhatKG_test_Xscaled = krrG_Xscaled.transform(KG_test_Xscaled)"
   ]
  },
  {
   "cell_type": "code",
   "execution_count": 741,
   "metadata": {},
   "outputs": [
    {
     "name": "stdout",
     "output_type": "stream",
     "text": [
      "25.027236374037745\n",
      "4151302971682.5215\n"
     ]
    }
   ],
   "source": [
    "GK(KG_train, YhatKG_train) # BAD"
   ]
  },
  {
   "cell_type": "code",
   "execution_count": 742,
   "metadata": {},
   "outputs": [
    {
     "name": "stdout",
     "output_type": "stream",
     "text": [
      "0.43502904917082463\n",
      "815.4638467082684\n"
     ]
    }
   ],
   "source": [
    "GK(KG_train_scaled, YhatKG_train_scaled) # BAD"
   ]
  },
  {
   "cell_type": "code",
   "execution_count": 743,
   "metadata": {},
   "outputs": [
    {
     "name": "stdout",
     "output_type": "stream",
     "text": [
      "162.86806303586818\n",
      "815.4639042617947\n"
     ]
    }
   ],
   "source": [
    "GK(KG_train_Xscaled, YhatKG_train_Xscaled) # OK"
   ]
  },
  {
   "cell_type": "code",
   "execution_count": 744,
   "metadata": {
    "scrolled": true
   },
   "outputs": [
    {
     "name": "stdout",
     "output_type": "stream",
     "text": [
      "0.43502904917082463\n",
      "0.999999963042973\n"
     ]
    }
   ],
   "source": [
    "GK_with_norm(KG_train, Y_train, YhatKG_train) # OK"
   ]
  },
  {
   "cell_type": "code",
   "execution_count": 745,
   "metadata": {},
   "outputs": [
    {
     "name": "stdout",
     "output_type": "stream",
     "text": [
      "0.4350290491708247\n",
      "0.7072539867374407\n"
     ]
    }
   ],
   "source": [
    "GK_with_norm(KG_train_scaled, Y_train_scaled, YhatKG_train_scaled) # OK"
   ]
  },
  {
   "cell_type": "code",
   "execution_count": 746,
   "metadata": {},
   "outputs": [
    {
     "name": "stdout",
     "output_type": "stream",
     "text": [
      "0.18073958339596816\n",
      "0.7072540366537688\n"
     ]
    }
   ],
   "source": [
    "GK_with_norm(KG_train_Xscaled, Y_train_scaled, YhatKG_train_Xscaled) # OK"
   ]
  }
 ],
 "metadata": {
  "kernelspec": {
   "display_name": "Python 3",
   "language": "python",
   "name": "python3"
  },
  "language_info": {
   "codemirror_mode": {
    "name": "ipython",
    "version": 3
   },
   "file_extension": ".py",
   "mimetype": "text/x-python",
   "name": "python",
   "nbconvert_exporter": "python",
   "pygments_lexer": "ipython3",
   "version": "3.6.9"
  },
  "toc": {
   "base_numbering": 1,
   "nav_menu": {
    "height": "228px",
    "width": "231px"
   },
   "number_sections": true,
   "sideBar": true,
   "skip_h1_title": false,
   "title_cell": "Table of Contents",
   "title_sidebar": "Contents",
   "toc_cell": false,
   "toc_position": {},
   "toc_section_display": true,
   "toc_window_display": false
  }
 },
 "nbformat": 4,
 "nbformat_minor": 2
}
