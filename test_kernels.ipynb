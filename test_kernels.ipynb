{
 "cells": [
  {
   "cell_type": "code",
   "execution_count": 1,
   "metadata": {},
   "outputs": [
    {
     "name": "stderr",
     "output_type": "stream",
     "text": [
      "In /home/helfrech/.config/matplotlib/stylelib/cosmo.mplstyle: \n",
      "The savefig.frameon rcparam was deprecated in Matplotlib 3.1 and will be removed in 3.3.\n",
      "In /home/helfrech/.config/matplotlib/stylelib/cosmoLarge.mplstyle: \n",
      "The savefig.frameon rcparam was deprecated in Matplotlib 3.1 and will be removed in 3.3.\n"
     ]
    }
   ],
   "source": [
    "#!/usr/bin/env python3\n",
    "\n",
    "%reload_ext autoreload\n",
    "%autoreload 2\n",
    "\n",
    "# System\n",
    "import os\n",
    "import sys\n",
    "\n",
    "# Maths\n",
    "import numpy as np\n",
    "\n",
    "# PCovR utilities\n",
    "from regression import LR, KRR, SparseKRR, PCovR, KPCovR, SparseKPCovR\n",
    "from decomposition import PCA, KPCA, SparseKPCA\n",
    "from kernels import build_kernel, center_kernel, center_kernel_fast\n",
    "from selection import FPS, CUR\n",
    "from split import simple_split\n",
    "from tools import sorted_eigh\n",
    "\n",
    "# ASE\n",
    "from ase.io import read, write\n",
    "\n",
    "# SOAP\n",
    "from rascal.representations import SphericalInvariants as SOAP\n",
    "\n",
    "# Plotting\n",
    "import matplotlib as mpl\n",
    "import matplotlib.pyplot as plt\n",
    "\n",
    "# Make the plots look nicer\n",
    "plot_parameters = {\n",
    "    'lines.linewidth': 1.0,\n",
    "    'lines.markersize': 2,\n",
    "    'patch.linewidth': 1.0,\n",
    "    'hatch.linewidth': 1.0,\n",
    "    'axes.linewidth': 1.0,\n",
    "    'xtick.top': True,\n",
    "    'xtick.bottom': True,\n",
    "    'xtick.direction': 'in',\n",
    "    'xtick.minor.visible': True,\n",
    "    'xtick.major.size': 4.0,\n",
    "    'xtick.minor.size': 2.0,\n",
    "    'xtick.major.pad': 5.0,\n",
    "    'xtick.minor.pad': 5.0,\n",
    "    'ytick.left': True,\n",
    "    'ytick.right': True,\n",
    "    'ytick.direction': 'in',\n",
    "    'ytick.minor.visible': True,\n",
    "    'ytick.major.size': 4.0,\n",
    "    'ytick.minor.size': 2.0,\n",
    "    'ytick.major.pad': 5.0,\n",
    "    'ytick.minor.pad': 5.0   \n",
    "}\n",
    "\n",
    "for pp in plot_parameters.keys():\n",
    "    mpl.rcParams[pp] = plot_parameters[pp]"
   ]
  },
  {
   "cell_type": "code",
   "execution_count": 2,
   "metadata": {},
   "outputs": [],
   "source": [
    "# Read xyz files\n",
    "s = read('/scratch/helfrech/Sync/GDrive/Projects/KPCovR/KernelPCovR/datasets/CSD-1000R.xyz', index=':50')\n",
    "\n",
    "# Extract chemical shifts\n",
    "cs = []\n",
    "for ss in s:\n",
    "    ss.wrap()\n",
    "    cs.append(ss.arrays['CS_local'])"
   ]
  },
  {
   "cell_type": "code",
   "execution_count": 3,
   "metadata": {},
   "outputs": [],
   "source": [
    "# Compute SOAPs (from librascal tutorial)\n",
    "soap = SOAP(soap_type='PowerSpectrum',\n",
    "           interaction_cutoff=3.5,\n",
    "           max_radial=6,\n",
    "           max_angular=6,\n",
    "           gaussian_sigma_type='Constant',\n",
    "           gaussian_sigma_constant=0.4,\n",
    "           cutoff_smooth_width=0.5)"
   ]
  },
  {
   "cell_type": "code",
   "execution_count": 4,
   "metadata": {},
   "outputs": [],
   "source": [
    "soap_rep = soap.transform(s)"
   ]
  },
  {
   "cell_type": "code",
   "execution_count": 5,
   "metadata": {},
   "outputs": [],
   "source": [
    "X = soap_rep.get_features(soap)\n",
    "Y = np.concatenate(cs)"
   ]
  },
  {
   "cell_type": "code",
   "execution_count": 6,
   "metadata": {},
   "outputs": [],
   "source": [
    "# Split SOAPs into structures\n",
    "n_atoms = [ss.get_number_of_atoms() for ss in s]\n",
    "structure_idxs = np.cumsum(n_atoms)\n",
    "\n",
    "X_split = np.split(X, structure_idxs[0:-1]) # Last one is empty by construction of np.split\n",
    "Y_split = np.split(Y, structure_idxs[0:-1])"
   ]
  },
  {
   "cell_type": "code",
   "execution_count": 7,
   "metadata": {},
   "outputs": [
    {
     "name": "stdout",
     "output_type": "stream",
     "text": [
      "[180, 84, 176, 176, 104, 108, 134, 152, 148, 100, 128, 86, 80, 132, 88, 104, 196, 188, 98, 76, 108, 112, 148, 104, 176, 132, 62, 172, 160, 52, 144, 86, 144, 144, 172, 176, 76, 86, 132, 76, 144, 106, 68, 132, 88, 160, 82, 150, 160, 136]\n",
      "[ 0  3 41 35 25 36 26 48 20 33 45 24  6 40 22 10 19 37 29 15 16  2 38 13\n",
      " 47 21 27 31 44 11 17  5  1  7 18  9 12 32 34  4] [30 23 49 14 46 28 42 43  8 39]\n",
      "[ 180  356  462  638  770  846  908 1068 1176 1320 1480 1656 1790 1934\n",
      " 2082 2210 2286 2372 2424 2528 2724 2900 3032 3164 3314 3426 3598 3684\n",
      " 3772 3858 4046 4154 4238 4390 4488 4588 4668 4812 4984 5088]\n",
      "[ 144  248  384  472  554  714  782  914 1062 1138]\n",
      "[(180, 2520), (176, 2520), (106, 2520), (176, 2520), (132, 2520), (76, 2520), (62, 2520), (160, 2520), (108, 2520), (144, 2520), (160, 2520), (176, 2520), (134, 2520), (144, 2520), (148, 2520), (128, 2520), (76, 2520), (86, 2520), (52, 2520), (104, 2520), (196, 2520), (176, 2520), (132, 2520), (132, 2520), (150, 2520), (112, 2520), (172, 2520), (86, 2520), (88, 2520), (86, 2520), (188, 2520), (108, 2520), (84, 2520), (152, 2520), (98, 2520), (100, 2520), (80, 2520), (144, 2520), (172, 2520), (104, 2520)]\n",
      "[(144, 2520), (104, 2520), (136, 2520), (88, 2520), (82, 2520), (160, 2520), (68, 2520), (132, 2520), (148, 2520), (76, 2520)]\n"
     ]
    }
   ],
   "source": [
    "# Train-Test split by structures\n",
    "f_train = 0.80\n",
    "n_total = len(X_split)\n",
    "n_train = int(np.floor(f_train*n_total))\n",
    "\n",
    "idxs = np.arange(0, n_total)\n",
    "np.random.shuffle(idxs)\n",
    "idxs_train = idxs[0:n_train]\n",
    "idxs_test = idxs[n_train:]\n",
    "\n",
    "X_train = [X_split[i] for i in idxs_train]\n",
    "Y_train = [Y_split[i] for i in idxs_train]\n",
    "structure_idxs_train = np.cumsum([n_atoms[i] for i in idxs_train])\n",
    "\n",
    "X_test = [X_split[i] for i in idxs_test]\n",
    "Y_test = [Y_split[i] for i in idxs_test]\n",
    "structure_idxs_test = np.cumsum([n_atoms[i] for i in idxs_test])\n",
    "\n",
    "print(n_atoms)\n",
    "print(idxs_train, idxs_test)\n",
    "print(structure_idxs_train)\n",
    "print(structure_idxs_test)\n",
    "print([x.shape for x in X_train])\n",
    "print([x.shape for x in X_test])\n",
    "\n",
    "X_train = np.concatenate(X_train, axis=0)\n",
    "Y_train = np.concatenate(Y_train, axis=0)\n",
    "X_test = np.concatenate(X_test, axis=0)\n",
    "Y_test = np.concatenate(Y_test, axis=0)"
   ]
  },
  {
   "cell_type": "code",
   "execution_count": 8,
   "metadata": {},
   "outputs": [],
   "source": [
    "# Center the data\n",
    "X_mean = np.mean(X_train, axis=0)\n",
    "Y_mean = np.mean(Y_train)\n",
    "\n",
    "X_train -= X_mean\n",
    "X_test -= X_mean\n",
    "Y_train -= Y_mean\n",
    "Y_test -= Y_mean"
   ]
  },
  {
   "cell_type": "markdown",
   "metadata": {},
   "source": [
    "# FPS"
   ]
  },
  {
   "cell_type": "code",
   "execution_count": 9,
   "metadata": {},
   "outputs": [],
   "source": [
    "# Select FPS components from train set\n",
    "n_FPS = 20\n",
    "idxs, d = FPS(X_train.T, n_FPS)\n",
    "\n",
    "X_train = X_train[:, idxs]\n",
    "X_test = X_test[:, idxs]"
   ]
  },
  {
   "cell_type": "code",
   "execution_count": 10,
   "metadata": {},
   "outputs": [],
   "source": [
    "# Select FPS environments from train set\n",
    "n_env_FPS = 100\n",
    "env_idxs, env_d = FPS(X_train, n_env_FPS)"
   ]
  },
  {
   "cell_type": "code",
   "execution_count": 11,
   "metadata": {},
   "outputs": [],
   "source": [
    "X_train_split = np.split(X_train, structure_idxs_train)[0:-1]\n",
    "Y_train_split = np.split(Y_train, structure_idxs_train)[0:-1]\n",
    "\n",
    "X_test_split = np.split(X_test, structure_idxs_test)[0:-1]\n",
    "Y_test_split = np.split(Y_test, structure_idxs_test)[0:-1]"
   ]
  },
  {
   "cell_type": "code",
   "execution_count": 12,
   "metadata": {},
   "outputs": [],
   "source": [
    "K_train = build_kernel(X_train_split, X_train_split, kernel='gaussian')\n",
    "K_test = build_kernel(X_test_split, X_train_split, kernel='gaussian')"
   ]
  },
  {
   "cell_type": "code",
   "execution_count": 13,
   "metadata": {},
   "outputs": [],
   "source": [
    "K_train_nystrom = build_kernel(X_train_split, X_train_split, XR=X_train[env_idxs, :], kernel='gaussian')\n",
    "K_test_nystrom = build_kernel(X_test_split, X_train_split, XR=X_train[env_idxs, :], kernel='gaussian')\n",
    "#K_train_nystrom = build_kernel(X_train_split, X_train_split, XR=X_train_split[0:3], kernel='gaussian')\n",
    "#K_test_nystrom = build_kernel(X_test_split, X_train_split, XR=X_train_split[0:3], kernel='gaussian')"
   ]
  },
  {
   "cell_type": "code",
   "execution_count": 14,
   "metadata": {},
   "outputs": [
    {
     "data": {
      "image/png": "[encoded data removed]",
      "text/plain": [
       "<Figure size 432x288 with 2 Axes>"
      ]
     },
     "metadata": {
      "needs_background": "light"
     },
     "output_type": "display_data"
    }
   ],
   "source": [
    "plt.imshow(K_train-K_train_nystrom)\n",
    "plt.colorbar()\n",
    "plt.show()"
   ]
  },
  {
   "cell_type": "code",
   "execution_count": 15,
   "metadata": {
    "scrolled": true
   },
   "outputs": [
    {
     "name": "stdout",
     "output_type": "stream",
     "text": [
      "0.0005066684890553833\n"
     ]
    }
   ],
   "source": [
    "print(np.linalg.norm(K_train - K_train_nystrom))"
   ]
  },
  {
   "cell_type": "code",
   "execution_count": 16,
   "metadata": {},
   "outputs": [
    {
     "data": {
      "image/png": "[encoded data removed]",
      "text/plain": [
       "<Figure size 432x288 with 2 Axes>"
      ]
     },
     "metadata": {
      "needs_background": "light"
     },
     "output_type": "display_data"
    }
   ],
   "source": [
    "plt.imshow(K_test-K_test_nystrom)\n",
    "plt.colorbar()\n",
    "plt.show()"
   ]
  },
  {
   "cell_type": "code",
   "execution_count": 17,
   "metadata": {},
   "outputs": [
    {
     "name": "stdout",
     "output_type": "stream",
     "text": [
      "0.00023023814202560296\n"
     ]
    }
   ],
   "source": [
    "print(np.linalg.norm(K_test-K_test_nystrom))"
   ]
  },
  {
   "cell_type": "markdown",
   "metadata": {},
   "source": [
    "# Unconventional kernel centering"
   ]
  },
  {
   "cell_type": "code",
   "execution_count": 18,
   "metadata": {},
   "outputs": [],
   "source": [
    "K_train_center = center_kernel(K_train)\n",
    "K_test_center = center_kernel(K_test, K_ref=K_train)"
   ]
  },
  {
   "cell_type": "code",
   "execution_count": 19,
   "metadata": {},
   "outputs": [],
   "source": [
    "K_test_test = build_kernel(X_test_split, X_test_split, kernel='gaussian')"
   ]
  },
  {
   "cell_type": "code",
   "execution_count": 20,
   "metadata": {},
   "outputs": [
    {
     "data": {
      "image/png": "[encoded data removed]",
      "text/plain": [
       "<Figure size 432x288 with 1 Axes>"
      ]
     },
     "metadata": {
      "needs_background": "light"
     },
     "output_type": "display_data"
    }
   ],
   "source": [
    "plt.imshow(K_test_test)\n",
    "plt.show()"
   ]
  },
  {
   "cell_type": "code",
   "execution_count": 21,
   "metadata": {},
   "outputs": [
    {
     "data": {
      "image/png": "[encoded data removed]",
      "text/plain": [
       "<Figure size 432x288 with 1 Axes>"
      ]
     },
     "metadata": {
      "needs_background": "light"
     },
     "output_type": "display_data"
    }
   ],
   "source": [
    "plt.imshow(K_train)\n",
    "plt.show()"
   ]
  },
  {
   "cell_type": "code",
   "execution_count": 22,
   "metadata": {},
   "outputs": [
    {
     "data": {
      "image/png": "[encoded data removed]",
      "text/plain": [
       "<Figure size 432x288 with 1 Axes>"
      ]
     },
     "metadata": {
      "needs_background": "light"
     },
     "output_type": "display_data"
    }
   ],
   "source": [
    "plt.imshow(K_train_center)\n",
    "plt.show()"
   ]
  },
  {
   "cell_type": "code",
   "execution_count": 23,
   "metadata": {},
   "outputs": [],
   "source": [
    "one_MN = np.ones((K_test_test.shape[0], K_train.shape[0])) / K_train.shape[0]\n",
    "one_NM = np.ones((K_train.shape[0], K_test_test.shape[0])) / K_train.shape[0]\n",
    "K_test_test_center = K_test_test - np.matmul(K_test, one_NM) - np.matmul(one_MN, K_test.T) + np.matmul(np.matmul(one_MN, K_train), one_NM)"
   ]
  },
  {
   "cell_type": "code",
   "execution_count": 24,
   "metadata": {},
   "outputs": [
    {
     "data": {
      "image/png": "[encoded data removed]",
      "text/plain": [
       "<Figure size 432x288 with 1 Axes>"
      ]
     },
     "metadata": {
      "needs_background": "light"
     },
     "output_type": "display_data"
    }
   ],
   "source": [
    "plt.imshow(K_test_test_center)\n",
    "plt.show()"
   ]
  },
  {
   "cell_type": "code",
   "execution_count": 25,
   "metadata": {},
   "outputs": [],
   "source": [
    "K_test_test_center_fast = K_test_test - np.mean(K_test.T, axis=0) - np.mean(K_test, axis=1).reshape(-1, 1) + np.mean(K_train)"
   ]
  },
  {
   "cell_type": "code",
   "execution_count": 26,
   "metadata": {},
   "outputs": [
    {
     "data": {
      "image/png": "[encoded data removed]",
      "text/plain": [
       "<Figure size 432x288 with 1 Axes>"
      ]
     },
     "metadata": {
      "needs_background": "light"
     },
     "output_type": "display_data"
    }
   ],
   "source": [
    "plt.imshow(K_test_test_center_fast)\n",
    "plt.show()"
   ]
  },
  {
   "cell_type": "code",
   "execution_count": 27,
   "metadata": {},
   "outputs": [
    {
     "name": "stdout",
     "output_type": "stream",
     "text": [
      "1.519617764955683e-17 -3.0531133177191805e-18\n",
      "[-2.77555756e-17  5.82867088e-17  1.94289029e-17  9.43689571e-17\n",
      " -9.43689571e-17  2.77555756e-18  2.49800181e-17 -9.43689571e-17\n",
      " -5.55111512e-17  6.38378239e-17  6.10622664e-17  7.77156117e-17\n",
      " -4.71844785e-17  2.85882429e-16 -1.36002321e-16  1.47104551e-16\n",
      "  2.49800181e-17 -1.16573418e-16  2.27595720e-16  6.66133815e-17\n",
      "  2.22044605e-17  2.69229083e-16  8.60422844e-17 -8.60422844e-17\n",
      " -1.94289029e-17  8.32667268e-18  6.66133815e-17 -7.77156117e-17\n",
      "  1.55431223e-16 -1.44328993e-16  1.72084569e-16  5.55111512e-17\n",
      " -3.33066907e-17 -1.60982339e-16 -2.63677968e-16  8.60422844e-17\n",
      " -7.49400542e-17 -3.60822483e-17  1.97064587e-16 -1.97064587e-16] [-3.39052801e-03 -3.37393895e-03 -2.34447794e-03  6.69385438e-04\n",
      "  1.51633984e-03 -9.12786752e-04 -6.72594107e-03 -9.34457388e-04\n",
      " -2.55976733e-05 -2.81825068e-03  3.15712540e-03 -6.54146141e-04\n",
      " -9.89159933e-04 -3.62820935e-03 -1.81047672e-03  4.69219674e-03\n",
      " -2.22170567e-04  2.65262696e-03  1.23061675e-03  3.55187095e-03\n",
      "  4.52880202e-03 -3.71898488e-03  2.84171539e-03  3.47836602e-03\n",
      "  6.26931202e-03  2.75652959e-03  5.81738015e-03  2.02164859e-03\n",
      "  1.40068125e-03 -5.36382076e-03  1.77718917e-03 -2.07674876e-03\n",
      " -5.86891413e-03  5.08561603e-03  2.27661347e-03 -2.38537071e-03\n",
      " -6.39912049e-03  1.54428175e-03 -1.57770647e-03 -2.04749014e-03]\n",
      "[-4.44089210e-17  1.63757896e-16 -9.99200722e-17  8.32667268e-17\n",
      " -1.05471187e-16 -1.11022302e-17  5.55111512e-18 -1.11022302e-16\n",
      "  1.44328993e-16  8.04911693e-17  5.27355937e-17  4.44089210e-17\n",
      "  4.44089210e-17  2.69229083e-16 -1.33226763e-16  1.16573418e-16\n",
      "  1.11022302e-16 -1.36002321e-16  1.22124533e-16  6.38378239e-17\n",
      "  1.11022302e-17  1.27675648e-16  1.83186799e-16 -2.05391260e-16\n",
      "  7.21644966e-17 -2.77555756e-18  4.71844785e-17 -8.88178420e-17\n",
      "  1.19348975e-16 -4.44089210e-17  1.55431223e-16  3.33066907e-17\n",
      " -3.05311332e-17 -1.74860126e-16 -2.85882429e-16 -1.94289029e-17\n",
      "  2.77555756e-18 -4.44089210e-17  1.88737914e-16 -9.71445147e-17] [-1.05471187e-16 -3.88578059e-17  1.13797860e-16  9.43689571e-17\n",
      "  1.05471187e-16 -2.55351296e-16  2.99760217e-16  3.88578059e-17\n",
      " -1.02695630e-16 -1.80411242e-16]\n"
     ]
    }
   ],
   "source": [
    "print(np.mean(K_train_center), np.mean(K_test_center))\n",
    "print(np.mean(K_train_center, axis=0), np.mean(K_test_center, axis=0))\n",
    "print(np.mean(K_train_center, axis=1), np.mean(K_test_center, axis=1))"
   ]
  },
  {
   "cell_type": "code",
   "execution_count": 28,
   "metadata": {},
   "outputs": [
    {
     "name": "stdout",
     "output_type": "stream",
     "text": [
      "0.001936693715706267\n",
      "[ 0.00745965  0.00081295 -0.00386512  0.00353615  0.00316411  0.00559586\n",
      " -0.00344841  0.00548664  0.00315076 -0.00252566]\n",
      "[ 0.00745965  0.00081295 -0.00386512  0.00353615  0.00316411  0.00559586\n",
      " -0.00344841  0.00548664  0.00315076 -0.00252566]\n"
     ]
    }
   ],
   "source": [
    "print(np.mean(K_test_test_center))\n",
    "print(np.mean(K_test_test_center, axis=0))\n",
    "print(np.mean(K_test_test_center, axis=1))"
   ]
  },
  {
   "cell_type": "code",
   "execution_count": 29,
   "metadata": {},
   "outputs": [],
   "source": [
    "phi = np.linalg.cholesky(K_test_test_center)"
   ]
  },
  {
   "cell_type": "code",
   "execution_count": 30,
   "metadata": {},
   "outputs": [
    {
     "data": {
      "text/plain": [
       "array([ 3.96304315e-02, -2.79828254e-03,  6.05600121e-03,  6.64818700e-03,\n",
       "        1.19924810e-02,  1.54452946e-03,  9.47076675e-03,  5.13430614e-05,\n",
       "        4.51865837e-03,  4.59316713e-03])"
      ]
     },
     "execution_count": 30,
     "metadata": {},
     "output_type": "execute_result"
    }
   ],
   "source": [
    "np.mean(phi, axis=0)"
   ]
  },
  {
   "cell_type": "code",
   "execution_count": 31,
   "metadata": {},
   "outputs": [],
   "source": [
    "phi = np.linalg.cholesky(K_train_center+np.eye(K_train_center.shape[0])*1.0E-14)"
   ]
  },
  {
   "cell_type": "code",
   "execution_count": 32,
   "metadata": {},
   "outputs": [
    {
     "data": {
      "text/plain": [
       "array([ 1.18724475e-15,  2.12321480e-15,  1.56068734e-15,  1.16254228e-14,\n",
       "       -2.49466246e-15,  9.67455283e-15, -1.27151761e-14,  5.70975559e-15,\n",
       "        1.04097286e-14,  2.99723354e-15,  1.90875094e-14,  1.35988226e-14,\n",
       "       -2.46113893e-15,  2.71247434e-14, -8.39813245e-15,  4.24331143e-14,\n",
       "        1.48635661e-14,  1.37322554e-14,  1.94719241e-14,  6.43467918e-14,\n",
       "        2.90608032e-14, -4.03041316e-16,  3.01885253e-14, -2.54336482e-15,\n",
       "        1.65877945e-14,  2.12960292e-14, -1.68181983e-14, -2.36191275e-14,\n",
       "        4.19551546e-14,  1.49350963e-14,  5.51745932e-14,  8.57271936e-14,\n",
       "        1.28103496e-13,  6.18010417e-14,  8.83711507e-16,  1.20577111e-13,\n",
       "        4.31901867e-13,  4.01589374e-13,  3.59026697e-13,  1.62408178e-08])"
      ]
     },
     "execution_count": 32,
     "metadata": {},
     "output_type": "execute_result"
    }
   ],
   "source": [
    "np.mean(phi, axis=0)"
   ]
  },
  {
   "cell_type": "code",
   "execution_count": 33,
   "metadata": {},
   "outputs": [],
   "source": [
    "kpca1 = KPCA(n_kpca=2)\n",
    "kpca1.fit(center_kernel(K_test_test))\n",
    "T1 = kpca1.transform(center_kernel(K_test_test))\n",
    "\n",
    "kpca2 = KPCA(n_kpca=2)\n",
    "#kpca2.fit(K_test_test_center)\n",
    "kpca2.fit(center_kernel(K_test_test))\n",
    "T2 = kpca2.transform(K_test_test_center)"
   ]
  },
  {
   "cell_type": "code",
   "execution_count": 34,
   "metadata": {},
   "outputs": [
    {
     "data": {
      "image/png": "[encoded data removed]",
      "text/plain": [
       "<Figure size 432x288 with 1 Axes>"
      ]
     },
     "metadata": {
      "needs_background": "light"
     },
     "output_type": "display_data"
    }
   ],
   "source": [
    "plt.scatter(T1[:, 0], T1[:, 1])\n",
    "plt.scatter(T2[:, 0], T2[:, 1])\n",
    "plt.show()"
   ]
  },
  {
   "cell_type": "markdown",
   "metadata": {},
   "source": [
    "# Sparse Kernel Centering"
   ]
  },
  {
   "cell_type": "code",
   "execution_count": 35,
   "metadata": {},
   "outputs": [],
   "source": [
    "K_train_sparse = build_kernel(X_train_split, X_train[env_idxs, :], kernel='gaussian')\n",
    "K_test_sparse = build_kernel(X_test_split, X_train[env_idxs, :], kernel='gaussian')\n",
    "K_ref_sparse = build_kernel(X_train[env_idxs, :], X_train[env_idxs, :], kernel='gaussian')"
   ]
  },
  {
   "cell_type": "code",
   "execution_count": 36,
   "metadata": {},
   "outputs": [],
   "source": [
    "Phi_center = np.mean(K_train_sparse, axis=0)\n",
    "K_train_sparse -= Phi_center\n",
    "K_test_sparse -= Phi_center\n",
    "\n",
    "K_ref_sparse = center_kernel(K_ref_sparse)\n",
    "\n",
    "K_approx = np.matmul(np.matmul(K_train_sparse, np.linalg.pinv(K_ref_sparse, rcond=1.0E-12)), K_train_sparse.T)\n",
    "Phi_scale = np.sqrt(np.trace(K_approx) / K_train_sparse.shape[0])\n",
    "K_train_sparse /= Phi_scale\n",
    "K_test_sparse /= Phi_scale"
   ]
  },
  {
   "cell_type": "code",
   "execution_count": 37,
   "metadata": {},
   "outputs": [],
   "source": [
    "U, V = sorted_eigh(K_ref_sparse, tiny=1.0E-12)\n",
    "Phi_train = np.matmul(np.matmul(K_train_sparse, V), np.diagflat(1.0/np.sqrt(U)))\n",
    "Phi_test = np.matmul(np.matmul(K_test_sparse, V), np.diagflat(1.0/np.sqrt(U)))"
   ]
  },
  {
   "cell_type": "code",
   "execution_count": 38,
   "metadata": {},
   "outputs": [],
   "source": [
    "K_train_phi = np.matmul(Phi_train, Phi_train.T)\n",
    "K_test_phi = np.matmul(Phi_test, Phi_train.T)"
   ]
  },
  {
   "cell_type": "code",
   "execution_count": 39,
   "metadata": {},
   "outputs": [
    {
     "name": "stdout",
     "output_type": "stream",
     "text": [
      "1.0000000000000777\n",
      "1.0000000000000777\n",
      "0.9837918846816963\n"
     ]
    }
   ],
   "source": [
    "print(np.trace(K_train_phi)/K_train_phi.shape[0])\n",
    "print(np.linalg.norm(Phi_train)**2/Phi_train.shape[0])\n",
    "print(np.linalg.norm(Phi_test)**2/Phi_test.shape[0])"
   ]
  },
  {
   "cell_type": "code",
   "execution_count": 40,
   "metadata": {},
   "outputs": [
    {
     "name": "stdout",
     "output_type": "stream",
     "text": [
      "[-7.43849426e-16  1.35447209e-15  4.10782519e-16  4.99600361e-17\n",
      "  6.96664948e-16 -1.43635104e-15  3.30664315e-15  9.10382880e-16\n",
      " -7.38298311e-16 -2.22044605e-17 -7.58941521e-16 -1.15463195e-15\n",
      "  6.99440506e-16 -9.27036226e-16  6.66133815e-16  2.32314168e-15\n",
      "  9.04831765e-16 -8.44680229e-16 -1.80966353e-15  1.59872116e-15\n",
      " -5.30131494e-16  9.06219544e-16 -1.39610545e-15 -1.77635684e-16\n",
      "  8.64586180e-16 -2.24716079e-15 -9.99417563e-16  1.17961196e-16\n",
      " -6.16173779e-16  2.22044605e-16 -1.07275300e-15  9.82547377e-16\n",
      "  7.46624984e-16 -2.77833312e-15  1.34510458e-15  8.04911693e-17\n",
      "  1.64313008e-15 -2.47024623e-16 -1.22124533e-15  4.05231404e-16]\n",
      "[-7.54951657e-16  1.31006317e-15  4.32986980e-16  5.55111512e-17\n",
      "  6.88338275e-16 -1.43773882e-15  3.26405569e-15  8.82627305e-16\n",
      " -7.54951657e-16 -1.11022302e-17 -7.60502772e-16 -1.16573418e-15\n",
      "  6.99440506e-16 -8.93729535e-16  6.32827124e-16  2.30926389e-15\n",
      "  9.02056208e-16 -8.43769499e-16 -1.77635684e-15  1.60982339e-15\n",
      " -5.32907052e-16  8.99280650e-16 -1.39610545e-15 -1.66533454e-16\n",
      "  8.32667268e-16 -2.24265051e-15 -9.88098492e-16  1.33226763e-16\n",
      " -5.99520433e-16  2.22044605e-16 -1.07414078e-15  9.63118474e-16\n",
      "  7.93809463e-16 -2.77555756e-15  1.35724765e-15  8.60422844e-17\n",
      "  1.65423231e-15 -2.38697950e-16 -1.22679644e-15  3.71924713e-16]\n",
      "[ 1.06581410e-15  1.66533454e-17  1.88737914e-15  1.48769885e-15\n",
      " -1.74721349e-15 -1.38777878e-15  1.18793864e-15 -2.29816166e-15\n",
      "  7.88258347e-16 -6.55031585e-16]\n",
      "[-2.23432384e-16  3.66373598e-16  7.68829445e-16  9.85322934e-17\n",
      "  5.56499291e-16  7.26502192e-16  2.78249646e-16  1.20667365e-15\n",
      "  1.04100756e-15 -6.87644386e-16 -2.38802034e-15  1.12444776e-15\n",
      " -4.44089210e-17 -2.87131430e-15  1.13693777e-15 -5.63438185e-16\n",
      "  1.58180760e-15 -2.07681095e-15 -1.64122188e-15 -5.71764858e-16\n",
      " -2.58317673e-15  8.40907205e-16  7.02916458e-15  1.78849990e-16\n",
      " -2.47397589e-15  6.24925323e-15 -2.02182021e-15 -1.17119855e-15\n",
      " -2.53365037e-15  6.76542156e-18 -4.86416463e-16 -6.44441098e-15\n",
      "  4.54098564e-15  1.03063391e-14 -1.24015381e-15 -1.95655124e-15\n",
      "  1.50652060e-15  1.03903865e-14 -2.62485346e-15  4.68496769e-15\n",
      "  4.42753473e-15 -7.14491942e-15  4.32500173e-15  9.98224940e-16\n",
      " -3.89124497e-15  7.70509958e-16  6.49363376e-15 -1.06644728e-14\n",
      "  6.78519740e-15  4.74446871e-17  1.42941214e-15 -2.02328822e-14\n",
      "  1.10610739e-14  3.04149795e-15  3.36970035e-15  4.35152131e-15\n",
      "  6.59531024e-15 -1.52145224e-14 -8.15519527e-15  2.63301100e-14\n",
      "  1.61874149e-14  6.66662905e-15  2.41346223e-14  2.59523306e-15\n",
      " -5.31755846e-14  1.22016112e-15 -2.48767153e-14  8.79326993e-15\n",
      " -1.86074843e-14 -1.27772792e-14 -9.60929470e-15 -1.16467599e-14\n",
      "  8.70319713e-15  3.22571830e-15  2.04338337e-14  5.12585871e-14\n",
      "  1.20477413e-14 -9.43568445e-15 -7.70511042e-15 -1.43228962e-14\n",
      "  9.25151882e-15  5.34352944e-14  5.48448006e-15 -2.58357978e-14\n",
      " -1.97238059e-15  1.32104397e-14 -4.83102490e-14  9.58824600e-14\n",
      " -3.96301481e-14 -7.20030589e-15  2.25479791e-14 -2.27765154e-14\n",
      "  1.62937413e-14  4.82313543e-14 -5.52439171e-14  5.69591141e-14\n",
      " -7.66470221e-14  4.00015741e-14  5.77053162e-14]\n",
      "[-9.22516273e-02  1.97716408e-01 -4.25202306e-02  1.30566983e-01\n",
      "  2.53160608e-02 -6.48323769e-02 -1.40439917e-02  9.36842666e-02\n",
      " -3.28685820e-02 -2.84787713e-04  1.96936220e-03  1.94054443e-02\n",
      " -6.10183810e-02  8.12804636e-03 -2.01675195e-02 -3.48097779e-03\n",
      "  2.09312281e-02  1.36659764e-02  3.01312105e-02 -2.59668020e-03\n",
      "  2.95566524e-03  9.16819416e-03 -1.11671579e-02  1.07584356e-02\n",
      " -9.30616613e-03 -8.10986044e-03 -2.70150063e-04 -2.44394719e-04\n",
      " -1.60321442e-02 -3.33787629e-03  2.77956308e-03  1.16651310e-02\n",
      "  7.93442189e-04 -9.45638752e-03  4.61688506e-03 -4.43469746e-03\n",
      " -2.69002360e-03  8.58064485e-03 -5.88846061e-03 -5.96911272e-03\n",
      "  8.75587943e-03  6.95270990e-05 -1.61257142e-04 -6.62280166e-03\n",
      " -4.84332244e-04  6.50307360e-03 -2.92032041e-03 -7.17733189e-03\n",
      " -5.29984930e-03 -5.99344523e-03  2.72719136e-03  4.90226093e-03\n",
      " -2.42040019e-03  4.59619412e-03  3.96146370e-03  1.11340989e-03\n",
      " -1.56745216e-03 -1.45594206e-03 -5.03875692e-03  2.69900872e-03\n",
      " -2.42453579e-03  4.75457471e-03 -7.02134350e-04 -3.17274295e-03\n",
      " -3.82328421e-03 -1.04938745e-04 -3.06706088e-03  3.09445130e-04\n",
      "  1.25827602e-03  1.51177399e-03  7.05737496e-04  2.44728655e-03\n",
      "  1.87230762e-03  2.12156583e-03 -3.74663875e-03 -1.28763788e-03\n",
      "  1.44360255e-03 -2.00143385e-03 -2.35299109e-03 -3.25759413e-03\n",
      "  3.81541968e-03 -4.27239556e-03  2.23744141e-03  1.35236154e-03\n",
      "  2.40268079e-05 -3.22485050e-03 -3.00523989e-03 -1.09340386e-03\n",
      " -2.35700734e-03 -1.60665985e-03 -1.32216721e-03 -1.97837951e-03\n",
      "  2.14561829e-03  1.96962964e-03 -3.78862274e-04  2.04151003e-03\n",
      "  2.86183446e-03 -4.71362271e-04 -4.67987554e-04]\n"
     ]
    }
   ],
   "source": [
    "print(np.mean(K_train_phi, axis=0))\n",
    "print(np.mean(K_train_phi, axis=1))\n",
    "print(np.mean(K_test_phi, axis=1))\n",
    "print(np.mean(Phi_train, axis=0))\n",
    "print(np.mean(Phi_test, axis=0))"
   ]
  },
  {
   "cell_type": "markdown",
   "metadata": {},
   "source": [
    "# Kernel building with centered/uncentered raw data"
   ]
  },
  {
   "cell_type": "code",
   "execution_count": 41,
   "metadata": {},
   "outputs": [],
   "source": [
    "X_train_raw = [X_split[i] for i in idxs_train]\n",
    "X_test_raw = [X_split[i] for i in idxs_test]"
   ]
  },
  {
   "cell_type": "code",
   "execution_count": 42,
   "metadata": {},
   "outputs": [],
   "source": [
    "X_mean = np.mean(np.concatenate(X_train_raw, axis=0), axis=0) # Evironment-based centering"
   ]
  },
  {
   "cell_type": "markdown",
   "metadata": {},
   "source": [
    "## Structure-based"
   ]
  },
  {
   "cell_type": "code",
   "execution_count": 43,
   "metadata": {},
   "outputs": [],
   "source": [
    "# Uncentered raw data\n",
    "K_train_raw_linear = build_kernel(X_train_raw, X_train_raw, kernel='linear')\n",
    "K_test_raw_linear = build_kernel(X_test_raw, X_train_raw, kernel='linear')\n",
    "\n",
    "K_train_raw_gaussian = build_kernel(X_train_raw, X_train_raw, kernel='gaussian')\n",
    "K_test_raw_gaussian = build_kernel(X_test_raw, X_train_raw, kernel='gaussian')"
   ]
  },
  {
   "cell_type": "code",
   "execution_count": 44,
   "metadata": {},
   "outputs": [],
   "source": [
    "K_test_raw_linear = center_kernel(K_test_raw_linear, K_ref=K_train_raw_linear)\n",
    "K_train_raw_linear = center_kernel(K_train_raw_linear)\n",
    "\n",
    "K_test_raw_gaussian = center_kernel(K_test_raw_gaussian, K_ref=K_train_raw_gaussian)\n",
    "K_train_raw_gaussian = center_kernel(K_train_raw_gaussian)"
   ]
  },
  {
   "cell_type": "code",
   "execution_count": 45,
   "metadata": {},
   "outputs": [
    {
     "name": "stdout",
     "output_type": "stream",
     "text": [
      "K_train_raw_linear\n",
      "[[ 0.06362707  0.04768972  0.04162962 ...  0.02495458 -0.00042026\n",
      "  -0.04172468]\n",
      " [ 0.04768972  0.0454791   0.02887373 ...  0.01995845 -0.00447738\n",
      "  -0.02980667]\n",
      " [ 0.04162962  0.02887373  0.04374398 ...  0.0167276   0.00027779\n",
      "  -0.03284576]\n",
      " ...\n",
      " [ 0.02495458  0.01995845  0.0167276  ...  0.03988717 -0.01925102\n",
      "  -0.03791445]\n",
      " [-0.00042026 -0.00447738  0.00027779 ... -0.01925102  0.02844367\n",
      "   0.00805362]\n",
      " [-0.04172468 -0.02980667 -0.03284576 ... -0.03791445  0.00805362\n",
      "   0.06800653]]\n",
      "K_test_raw_linear\n",
      "[[-3.79697364e-02 -3.36776262e-02 -2.60904420e-02  1.10206266e-02\n",
      "   1.36496200e-02 -2.31939537e-02 -8.62047438e-02 -3.48762764e-03\n",
      "   7.21515807e-03 -3.47474217e-02  3.81511467e-02 -8.35128194e-03\n",
      "  -1.59665116e-02 -3.18494019e-02 -1.53310856e-02  6.08478538e-02\n",
      "  -7.08288820e-03  3.00021831e-02  2.15321609e-02  5.10140569e-02\n",
      "   4.90829450e-02 -4.79887962e-02  2.61392291e-02  3.61592714e-02\n",
      "   7.32993536e-02  1.81517742e-02  6.75543373e-02  2.69742223e-02\n",
      "   1.68183129e-02 -5.05063385e-02  1.08202044e-02 -3.22355990e-02\n",
      "  -7.55042006e-02  5.54126123e-02  2.54228006e-02 -3.82427094e-02\n",
      "  -5.73186468e-02  2.19405800e-02 -2.68447642e-02 -8.61467369e-03]\n",
      " [-1.81169119e-02 -1.01153703e-02 -1.97307883e-02  6.59086593e-03\n",
      "   3.43578014e-03 -3.58652328e-03 -1.55270924e-02 -1.40996751e-02\n",
      "   1.63607144e-02 -1.86358120e-02 -2.01445223e-04 -3.55962057e-03\n",
      "  -2.12030155e-02  1.85088919e-02 -8.46672031e-03  9.87166995e-03\n",
      "   1.12144498e-03 -9.84846690e-04  2.34704735e-02  1.92439519e-02\n",
      "  -6.52741893e-03 -5.88323943e-03  3.17846571e-03  4.04431274e-04\n",
      "   1.04074387e-03  7.54500544e-04  1.62180471e-03  6.13291950e-03\n",
      "  -7.85831008e-03 -1.90436745e-02 -1.00306800e-02  1.05370677e-02\n",
      "   1.23584357e-02  6.90098151e-03 -2.16388775e-03  9.15566230e-03\n",
      "   2.41315803e-02 -6.85715605e-03  2.35564795e-04  1.75362376e-02]\n",
      " [ 6.95426508e-02  5.70021468e-02  5.16091280e-02 -2.67591294e-02\n",
      "  -4.95134312e-02  1.97196167e-02  3.75155111e-02  4.80466071e-02\n",
      "  -5.96163188e-02  6.11663791e-02 -1.75712860e-02  2.67473520e-02\n",
      "   5.84761653e-02 -4.35973928e-02  4.96001714e-02 -5.83710414e-02\n",
      "  -2.95504850e-02 -1.50323432e-02 -7.28144983e-02 -3.03470901e-02\n",
      "  -8.02627806e-03  3.28539256e-02 -8.52477481e-03 -2.78339260e-02\n",
      "  -2.23578458e-02 -2.09394255e-02 -3.55000369e-02 -2.57694960e-02\n",
      "   3.16720106e-02  9.79016013e-02  9.32378895e-03 -1.12212362e-02\n",
      "  -1.78348507e-03 -1.39128294e-02 -1.20336397e-02 -1.92871263e-02\n",
      "  -1.64038811e-02  3.18025672e-02 -6.88065394e-03 -4.93319710e-02]\n",
      " [-3.70394798e-02 -3.47502516e-02 -1.90417267e-02  1.37290321e-02\n",
      "   3.78565390e-02 -1.34628686e-02 -2.44272921e-02 -2.03333748e-02\n",
      "   2.30359804e-02 -2.79935406e-02  2.20947102e-02 -1.57287139e-02\n",
      "  -2.03205825e-02  1.00708148e-03 -2.99313966e-02  4.57340371e-02\n",
      "   2.11087311e-02  1.81703131e-02  2.41338579e-02  5.53279506e-03\n",
      "   2.41660255e-02 -2.56802487e-02  1.00978882e-02  2.96947686e-02\n",
      "   2.97091811e-02  2.01162364e-02  3.86010151e-02  1.62036919e-02\n",
      "  -1.08188359e-02 -5.97201748e-02  8.58750531e-03 -1.09664975e-02\n",
      "  -3.03584435e-02  9.18469543e-03  1.68157928e-02 -1.47310712e-03\n",
      "  -3.34971217e-02 -1.34347450e-02  1.37571809e-03  1.20228056e-02]\n",
      " [ 9.30537635e-03  2.94043040e-03  1.15871890e-02 -9.64773143e-03\n",
      "  -5.13406387e-03  4.53009865e-03 -2.59822650e-02  1.22540099e-02\n",
      "  -2.62861632e-02  1.24968800e-02  9.88365944e-03  8.31248823e-03\n",
      "   2.17992661e-02 -3.86840860e-02  1.06609736e-02  4.97167488e-03\n",
      "  -1.02279377e-02  7.90314099e-03 -2.93863825e-02 -2.14917976e-04\n",
      "   2.56288736e-02 -8.91845941e-03  1.27826019e-02  1.20455835e-02\n",
      "   2.59548547e-02  1.00719184e-02  1.79865168e-02 -1.59090133e-03\n",
      "   1.75992520e-02  1.11636576e-02  1.58792152e-02 -1.68564686e-02\n",
      "  -3.36640779e-02  1.40759312e-02  9.53675444e-03 -1.69861140e-02\n",
      "  -4.95835120e-02  1.93620937e-02 -7.01916055e-03 -2.85501991e-02]\n",
      " [-2.12748984e-02 -2.04926609e-02 -1.35250794e-02  4.89386875e-03\n",
      "   7.84020098e-03 -1.58191112e-02 -6.30784612e-02  2.35701447e-03\n",
      "  -5.92446925e-03 -1.85353128e-02  3.24207028e-02 -1.98922153e-03\n",
      "  -6.03078318e-03 -3.34396934e-02 -7.93017882e-03  4.29529350e-02\n",
      "  -7.97902305e-03  2.30445486e-02  4.07098835e-03  3.06884038e-02\n",
      "   3.96030627e-02 -3.45933568e-02  2.11894994e-02  2.83994341e-02\n",
      "   5.53015048e-02  1.43684445e-02  5.34369845e-02  1.76136409e-02\n",
      "   1.63658126e-02 -2.88694454e-02  1.31561286e-02 -2.78546309e-02\n",
      "  -6.22078297e-02  3.96804407e-02  2.18843678e-02 -3.01112198e-02\n",
      "  -5.67947431e-02  2.17454830e-02 -1.70013439e-02 -1.75620035e-02]\n",
      " [ 1.47185285e-02  2.14238159e-02 -1.63958987e-04 -6.17128947e-04\n",
      "  -2.10778018e-02  9.07263545e-03  3.89784557e-02  1.23851620e-03\n",
      "   6.17151667e-03  6.28084199e-03 -2.47629245e-02  9.94444835e-04\n",
      "  -4.38611752e-03  3.20800126e-02  7.03578005e-03 -3.83176389e-02\n",
      "  -2.77976585e-03 -1.96923962e-02  1.13843101e-02 -5.49759446e-03\n",
      "  -3.83042055e-02  2.60751101e-02 -1.59610408e-02 -3.09988485e-02\n",
      "  -4.32198491e-02 -1.90365077e-02 -4.25623160e-02 -1.02546007e-02\n",
      "  -8.97198076e-03  2.51454118e-02 -1.76330322e-02  2.79628280e-02\n",
      "   5.51278055e-02 -1.32992866e-02 -1.82484263e-02  1.75359000e-02\n",
      "   6.59039873e-02 -9.20756864e-03  4.99238784e-03  1.28707015e-02]\n",
      " [-2.18887312e-02 -2.41333476e-02 -7.30835633e-03  3.85092506e-03\n",
      "   1.63216651e-02 -9.97894814e-03 -5.03272119e-02 -2.85600259e-03\n",
      "  -2.50956545e-03 -1.44931950e-02  2.48993320e-02 -4.29488310e-03\n",
      "   9.51045194e-04 -2.93024653e-02 -9.77873509e-03  3.81227978e-02\n",
      "   1.68821332e-03  2.24990081e-02 -5.99967894e-04  1.54615483e-02\n",
      "   4.07868807e-02 -2.98078738e-02  1.85159353e-02  3.04024492e-02\n",
      "   4.95910620e-02  1.86276413e-02  4.50863157e-02  1.39492824e-02\n",
      "   1.12024172e-02 -3.50339253e-02  1.59152135e-02 -2.41279748e-02\n",
      "  -5.45973748e-02  2.80489579e-02  1.81257258e-02 -2.13465164e-02\n",
      "  -5.66787026e-02  9.95576680e-03 -1.22814662e-02 -1.26569391e-02]\n",
      " [-2.19039438e-02 -1.56850721e-02 -2.08522866e-02  6.96592838e-03\n",
      "   7.11694471e-03 -1.11734733e-02 -3.89027304e-02 -6.58532283e-03\n",
      "   1.28088558e-02 -2.26949388e-02  1.38797781e-02 -7.27877826e-03\n",
      "  -1.68148435e-02 -4.55151715e-03 -1.13803852e-02  2.90339525e-02\n",
      "  -3.07938350e-03  9.36496069e-03  2.31948128e-02  3.17990067e-02\n",
      "   1.42479752e-02 -2.19240727e-02  1.24584935e-02  1.29530164e-02\n",
      "   2.76505915e-02  8.62422873e-03  2.74492847e-02  1.39286517e-02\n",
      "   2.83823890e-03 -2.71829159e-02 -8.65809385e-06 -7.13171488e-03\n",
      "  -2.46169113e-02  2.64628322e-02  1.01097132e-02 -1.37073384e-02\n",
      "  -1.34912538e-02  6.70099880e-03 -1.18134292e-02  3.19070509e-03]\n",
      " [ 2.37423382e-04  4.44914999e-04  3.77491729e-03 -2.70092982e-03\n",
      "   1.86426753e-02  1.61640122e-02  4.65009495e-02 -1.79081088e-02\n",
      "   5.09226101e-03  7.13834226e-03 -1.67604166e-02 -2.05503427e-03\n",
      "  -6.05222117e-03  2.34578630e-02 -9.98395225e-03 -1.62782361e-02\n",
      "   1.72234415e-02 -1.72048520e-02 -2.56661955e-03 -3.29800015e-02\n",
      "  -2.54878069e-02  2.16213083e-02 -1.10150701e-02 -7.07448815e-03\n",
      "  -3.90471236e-02  4.90417840e-03 -2.98379347e-02 -1.22297525e-02\n",
      "  -2.46920951e-02 -1.82722951e-03 -3.77104169e-03  2.83203470e-02\n",
      "   5.21327881e-02 -4.06514138e-02 -8.77285238e-03  4.22127098e-02\n",
      "   2.28781684e-02 -2.78736898e-02  3.04762814e-02  1.55482885e-02]]\n",
      "K_train_raw_gaussian\n",
      "[[ 0.06690448  0.04467319  0.04078674 ...  0.02721842 -0.00205575\n",
      "  -0.03619887]\n",
      " [ 0.04467319  0.04553588  0.02674957 ...  0.0227537  -0.007665\n",
      "  -0.02623865]\n",
      " [ 0.04078674  0.02674957  0.04722287 ...  0.01833993 -0.00047361\n",
      "  -0.02957786]\n",
      " ...\n",
      " [ 0.02721842  0.0227537   0.01833993 ...  0.04680505 -0.02036934\n",
      "  -0.03511707]\n",
      " [-0.00205575 -0.007665   -0.00047361 ... -0.02036934  0.03299397\n",
      "   0.00885652]\n",
      " [-0.03619887 -0.02623865 -0.02957786 ... -0.03511707  0.00885652\n",
      "   0.06796073]]\n",
      "K_test_raw_gaussian\n",
      "[[-0.03689959 -0.02867723 -0.02772908  0.00837313  0.0066669  -0.02174725\n",
      "  -0.06904956 -0.00350111  0.00783951 -0.03581567  0.03842629 -0.00817197\n",
      "  -0.02095941 -0.02667829 -0.01711588  0.05189926 -0.00745735  0.03586588\n",
      "   0.01331505  0.04514272  0.04512623 -0.04511992  0.02511953  0.03347178\n",
      "   0.06848321  0.01634998  0.06727239  0.02423358  0.01502279 -0.04961201\n",
      "   0.01190398 -0.03174654 -0.0625404   0.05239139  0.02276502 -0.03660003\n",
      "  -0.04330387  0.01720828 -0.02616144 -0.00799031]\n",
      " [-0.0227352  -0.01436034 -0.02306801  0.00903241  0.00966513 -0.00263312\n",
      "  -0.01275799 -0.01951106  0.01725344 -0.02270804  0.00132571 -0.00444352\n",
      "  -0.02418293  0.01865277 -0.01378561  0.01462667  0.00618997 -0.00017776\n",
      "   0.02237722  0.01917822 -0.00576263 -0.00537339  0.00527618  0.004119\n",
      "   0.00166377  0.00446961  0.00376847  0.00854027 -0.01151449 -0.02920393\n",
      "  -0.01058979  0.01213632  0.01206192  0.00562033 -0.0015072   0.01465716\n",
      "   0.02279526 -0.01283172  0.00220207  0.02153482]\n",
      " [ 0.07039725  0.05726257  0.053676   -0.02642637 -0.04648506  0.01513931\n",
      "   0.0281228   0.052387   -0.0526868   0.06410977 -0.01920769  0.02502477\n",
      "   0.06040728 -0.04241907  0.05211926 -0.05270316 -0.03226339 -0.01849124\n",
      "  -0.06288305 -0.02817851 -0.0090988   0.02869268 -0.01158519 -0.02982083\n",
      "  -0.02214441 -0.02314354 -0.03626123 -0.02601549  0.03298753  0.10615035\n",
      "   0.00821202 -0.01492227 -0.00578459 -0.01763066 -0.01103061 -0.02625878\n",
      "  -0.01976541  0.03589155 -0.0099207  -0.04545328]\n",
      " [-0.03611399 -0.03036824 -0.02135274  0.01230759  0.03387457 -0.01196157\n",
      "  -0.01461408 -0.02241661  0.02011177 -0.02959915  0.02096941 -0.01556169\n",
      "  -0.02408409  0.00559523 -0.03119522  0.03970177  0.02127054  0.01865417\n",
      "   0.0204768   0.0050039   0.02129849 -0.02300655  0.01035845  0.02918055\n",
      "   0.02612497  0.0189313   0.03662338  0.01486802 -0.01283531 -0.05781722\n",
      "   0.00695273 -0.00806284 -0.02127849  0.00813081  0.01512775  0.00160134\n",
      "  -0.0218358  -0.01772827  0.00176872  0.01089961]\n",
      " [ 0.007824    0.00172626  0.00959441 -0.01059505 -0.00662089  0.00570555\n",
      "  -0.02480425  0.01254269 -0.02384433  0.01186184  0.00751338  0.00717993\n",
      "   0.02178578 -0.03464223  0.00974599  0.00227445 -0.00980983  0.0116732\n",
      "  -0.02803224  0.00015902  0.02501164 -0.00903665  0.01295481  0.01006551\n",
      "   0.02354678  0.01054344  0.0159952  -0.00279712  0.01682692  0.00660676\n",
      "   0.01725865 -0.01645667 -0.03015944  0.01455213  0.0074015  -0.01865751\n",
      "  -0.03964085  0.01754083 -0.00837778 -0.02441586]\n",
      " [-0.02268583 -0.01880342 -0.01580922  0.00472791  0.00230865 -0.01619416\n",
      "  -0.05395321  0.00249259 -0.00503335 -0.02126551  0.03616701 -0.00203154\n",
      "  -0.01193902 -0.02941985 -0.01062861  0.03794248 -0.00950312  0.02950288\n",
      "  -0.00135717  0.02840117  0.03799483 -0.03461834  0.02150286  0.02786417\n",
      "   0.05307306  0.0123799   0.05744399  0.01789182  0.01539628 -0.03219464\n",
      "   0.01470329 -0.02880825 -0.05461195  0.03862201  0.02158583 -0.03120366\n",
      "  -0.04504824  0.01919756 -0.01686217 -0.01722704]\n",
      " [ 0.00771015  0.01451808 -0.00165124  0.00301202 -0.01098307  0.00851545\n",
      "   0.03332801 -0.00393969  0.00791123  0.00346594 -0.02201845  0.00015952\n",
      "  -0.00624805  0.02943249  0.0026721  -0.02843019  0.00312045 -0.0221471\n",
      "   0.01508894 -0.0062975  -0.03472166  0.02580538 -0.01413289 -0.02516474\n",
      "  -0.03865018 -0.01429761 -0.03880528 -0.00699865 -0.01113578  0.01390401\n",
      "  -0.01740094  0.02981398  0.04765389 -0.01293579 -0.01505977  0.02166259\n",
      "   0.05381879 -0.01138971  0.00771976  0.01309549]\n",
      " [-0.02410187 -0.02332022 -0.01086765  0.00212347  0.01262014 -0.00802109\n",
      "  -0.04125285 -0.00508602 -0.00074929 -0.01875063  0.02370821 -0.00680228\n",
      "  -0.00403562 -0.02237835 -0.01368186  0.03209285  0.0024829   0.02910582\n",
      "  -0.00233525  0.0140306   0.03949287 -0.02978776  0.01890871  0.0298958\n",
      "   0.04673538  0.01872973  0.04477844  0.01287748  0.00872457 -0.0408385\n",
      "   0.01690953 -0.02209387 -0.04484289  0.02907636  0.01490371 -0.01929023\n",
      "  -0.04214523  0.00432812 -0.01223202 -0.0089112 ]\n",
      " [-0.02163678 -0.01299652 -0.0214925   0.00659726  0.00580652 -0.00888707\n",
      "  -0.02949313 -0.00716289  0.01181588 -0.02174458  0.01382234 -0.00609931\n",
      "  -0.01861354 -0.00427357 -0.01264003  0.02517047 -0.00222431  0.00983609\n",
      "   0.01835466  0.02797299  0.01169546 -0.01891023  0.01312911  0.01245959\n",
      "   0.02393918  0.00887886  0.0260289   0.01206403  0.00147701 -0.02688971\n",
      "   0.00091058 -0.00618247 -0.01865558  0.02397084  0.00967706 -0.01177028\n",
      "  -0.00958059  0.00359968 -0.01019051  0.00223709]\n",
      " [-0.00458704 -0.0029106   0.00272673 -0.00059498  0.02391066  0.01949897\n",
      "   0.03987747 -0.02185405  0.00477099  0.00525411 -0.01825502 -0.0026038\n",
      "  -0.00700001  0.02207371 -0.01097057 -0.01251931  0.01798822 -0.02323568\n",
      "   0.00192108 -0.02691322 -0.02638461  0.02348857 -0.00949776 -0.00499512\n",
      "  -0.03792086  0.00711005 -0.03202831 -0.01029238 -0.02667655 -0.00685701\n",
      "  -0.00689226  0.034057    0.05102457 -0.03890291 -0.0090002   0.04657811\n",
      "   0.02175327 -0.02969236  0.03104506  0.01750603]]\n"
     ]
    }
   ],
   "source": [
    "print('K_train_raw_linear')\n",
    "print(K_train_raw_linear)\n",
    "print('K_test_raw_linear')\n",
    "print(K_test_raw_linear)\n",
    "\n",
    "print('K_train_raw_gaussian')\n",
    "print(K_train_raw_gaussian)\n",
    "print('K_test_raw_gaussian')\n",
    "print(K_test_raw_gaussian)"
   ]
  },
  {
   "cell_type": "code",
   "execution_count": 46,
   "metadata": {},
   "outputs": [],
   "source": [
    "# Centered raw data (by env)\n",
    "K_train_ctr_linear = build_kernel([(x-X_mean) for x in X_train_raw], \n",
    "                                  [(x-X_mean) for x in X_train_raw], \n",
    "                                  kernel='linear')\n",
    "K_test_ctr_linear = build_kernel([(x-X_mean) for x in X_test_raw], \n",
    "                                 [(x-X_mean) for x in X_train_raw], \n",
    "                                 kernel='linear')\n",
    "\n",
    "K_train_ctr_gaussian = build_kernel([(x-X_mean) for x in X_train_raw], \n",
    "                                    [(x-X_mean) for x in X_train_raw], \n",
    "                                    kernel='gaussian')\n",
    "K_test_ctr_gaussian = build_kernel([(x-X_mean) for x in X_test_raw], \n",
    "                                   [(x-X_mean) for x in X_train_raw], \n",
    "                                   kernel='gaussian')"
   ]
  },
  {
   "cell_type": "code",
   "execution_count": 47,
   "metadata": {},
   "outputs": [],
   "source": [
    "K_test_ctr_linear = center_kernel(K_test_raw_linear, K_ref=K_train_raw_linear)\n",
    "K_train_ctr_linear = center_kernel(K_train_raw_linear)\n",
    "\n",
    "K_test_ctr_gaussian = center_kernel(K_test_raw_gaussian, K_ref=K_train_raw_gaussian)\n",
    "K_train_ctr_gaussian = center_kernel(K_train_raw_gaussian)"
   ]
  },
  {
   "cell_type": "code",
   "execution_count": 48,
   "metadata": {},
   "outputs": [
    {
     "name": "stdout",
     "output_type": "stream",
     "text": [
      "K_train_ctr_linear\n",
      "[[ 0.06362707  0.04768972  0.04162962 ...  0.02495458 -0.00042026\n",
      "  -0.04172468]\n",
      " [ 0.04768972  0.0454791   0.02887373 ...  0.01995845 -0.00447738\n",
      "  -0.02980667]\n",
      " [ 0.04162962  0.02887373  0.04374398 ...  0.0167276   0.00027779\n",
      "  -0.03284576]\n",
      " ...\n",
      " [ 0.02495458  0.01995845  0.0167276  ...  0.03988717 -0.01925102\n",
      "  -0.03791445]\n",
      " [-0.00042026 -0.00447738  0.00027779 ... -0.01925102  0.02844367\n",
      "   0.00805362]\n",
      " [-0.04172468 -0.02980667 -0.03284576 ... -0.03791445  0.00805362\n",
      "   0.06800653]]\n",
      "K_test_ctr_linear\n",
      "[[-3.79697364e-02 -3.36776262e-02 -2.60904420e-02  1.10206266e-02\n",
      "   1.36496200e-02 -2.31939537e-02 -8.62047438e-02 -3.48762764e-03\n",
      "   7.21515807e-03 -3.47474217e-02  3.81511467e-02 -8.35128194e-03\n",
      "  -1.59665116e-02 -3.18494019e-02 -1.53310856e-02  6.08478538e-02\n",
      "  -7.08288820e-03  3.00021831e-02  2.15321609e-02  5.10140569e-02\n",
      "   4.90829450e-02 -4.79887962e-02  2.61392291e-02  3.61592714e-02\n",
      "   7.32993536e-02  1.81517742e-02  6.75543373e-02  2.69742223e-02\n",
      "   1.68183129e-02 -5.05063385e-02  1.08202044e-02 -3.22355990e-02\n",
      "  -7.55042006e-02  5.54126123e-02  2.54228006e-02 -3.82427094e-02\n",
      "  -5.73186468e-02  2.19405800e-02 -2.68447642e-02 -8.61467369e-03]\n",
      " [-1.81169119e-02 -1.01153703e-02 -1.97307883e-02  6.59086593e-03\n",
      "   3.43578014e-03 -3.58652328e-03 -1.55270924e-02 -1.40996751e-02\n",
      "   1.63607144e-02 -1.86358120e-02 -2.01445223e-04 -3.55962057e-03\n",
      "  -2.12030155e-02  1.85088919e-02 -8.46672031e-03  9.87166995e-03\n",
      "   1.12144498e-03 -9.84846690e-04  2.34704735e-02  1.92439519e-02\n",
      "  -6.52741893e-03 -5.88323943e-03  3.17846571e-03  4.04431274e-04\n",
      "   1.04074387e-03  7.54500544e-04  1.62180471e-03  6.13291950e-03\n",
      "  -7.85831008e-03 -1.90436745e-02 -1.00306800e-02  1.05370677e-02\n",
      "   1.23584357e-02  6.90098151e-03 -2.16388775e-03  9.15566230e-03\n",
      "   2.41315803e-02 -6.85715605e-03  2.35564795e-04  1.75362376e-02]\n",
      " [ 6.95426508e-02  5.70021468e-02  5.16091280e-02 -2.67591294e-02\n",
      "  -4.95134312e-02  1.97196167e-02  3.75155111e-02  4.80466071e-02\n",
      "  -5.96163188e-02  6.11663791e-02 -1.75712860e-02  2.67473520e-02\n",
      "   5.84761653e-02 -4.35973928e-02  4.96001714e-02 -5.83710414e-02\n",
      "  -2.95504850e-02 -1.50323432e-02 -7.28144983e-02 -3.03470901e-02\n",
      "  -8.02627806e-03  3.28539256e-02 -8.52477481e-03 -2.78339260e-02\n",
      "  -2.23578458e-02 -2.09394255e-02 -3.55000369e-02 -2.57694960e-02\n",
      "   3.16720106e-02  9.79016013e-02  9.32378895e-03 -1.12212362e-02\n",
      "  -1.78348507e-03 -1.39128294e-02 -1.20336397e-02 -1.92871263e-02\n",
      "  -1.64038811e-02  3.18025672e-02 -6.88065394e-03 -4.93319710e-02]\n",
      " [-3.70394798e-02 -3.47502516e-02 -1.90417267e-02  1.37290321e-02\n",
      "   3.78565390e-02 -1.34628686e-02 -2.44272921e-02 -2.03333748e-02\n",
      "   2.30359804e-02 -2.79935406e-02  2.20947102e-02 -1.57287139e-02\n",
      "  -2.03205825e-02  1.00708148e-03 -2.99313966e-02  4.57340371e-02\n",
      "   2.11087311e-02  1.81703131e-02  2.41338579e-02  5.53279506e-03\n",
      "   2.41660255e-02 -2.56802487e-02  1.00978882e-02  2.96947686e-02\n",
      "   2.97091811e-02  2.01162364e-02  3.86010151e-02  1.62036919e-02\n",
      "  -1.08188359e-02 -5.97201748e-02  8.58750531e-03 -1.09664975e-02\n",
      "  -3.03584435e-02  9.18469543e-03  1.68157928e-02 -1.47310712e-03\n",
      "  -3.34971217e-02 -1.34347450e-02  1.37571809e-03  1.20228056e-02]\n",
      " [ 9.30537635e-03  2.94043040e-03  1.15871890e-02 -9.64773143e-03\n",
      "  -5.13406387e-03  4.53009865e-03 -2.59822650e-02  1.22540099e-02\n",
      "  -2.62861632e-02  1.24968800e-02  9.88365944e-03  8.31248823e-03\n",
      "   2.17992661e-02 -3.86840860e-02  1.06609736e-02  4.97167488e-03\n",
      "  -1.02279377e-02  7.90314099e-03 -2.93863825e-02 -2.14917976e-04\n",
      "   2.56288736e-02 -8.91845941e-03  1.27826019e-02  1.20455835e-02\n",
      "   2.59548547e-02  1.00719184e-02  1.79865168e-02 -1.59090133e-03\n",
      "   1.75992520e-02  1.11636576e-02  1.58792152e-02 -1.68564686e-02\n",
      "  -3.36640779e-02  1.40759312e-02  9.53675444e-03 -1.69861140e-02\n",
      "  -4.95835120e-02  1.93620937e-02 -7.01916055e-03 -2.85501991e-02]\n",
      " [-2.12748984e-02 -2.04926609e-02 -1.35250794e-02  4.89386875e-03\n",
      "   7.84020098e-03 -1.58191112e-02 -6.30784612e-02  2.35701447e-03\n",
      "  -5.92446925e-03 -1.85353128e-02  3.24207028e-02 -1.98922153e-03\n",
      "  -6.03078318e-03 -3.34396934e-02 -7.93017882e-03  4.29529350e-02\n",
      "  -7.97902305e-03  2.30445486e-02  4.07098835e-03  3.06884038e-02\n",
      "   3.96030627e-02 -3.45933568e-02  2.11894994e-02  2.83994341e-02\n",
      "   5.53015048e-02  1.43684445e-02  5.34369845e-02  1.76136409e-02\n",
      "   1.63658126e-02 -2.88694454e-02  1.31561286e-02 -2.78546309e-02\n",
      "  -6.22078297e-02  3.96804407e-02  2.18843678e-02 -3.01112198e-02\n",
      "  -5.67947431e-02  2.17454830e-02 -1.70013439e-02 -1.75620035e-02]\n",
      " [ 1.47185285e-02  2.14238159e-02 -1.63958987e-04 -6.17128947e-04\n",
      "  -2.10778018e-02  9.07263545e-03  3.89784557e-02  1.23851620e-03\n",
      "   6.17151667e-03  6.28084199e-03 -2.47629245e-02  9.94444835e-04\n",
      "  -4.38611752e-03  3.20800126e-02  7.03578005e-03 -3.83176389e-02\n",
      "  -2.77976585e-03 -1.96923962e-02  1.13843101e-02 -5.49759446e-03\n",
      "  -3.83042055e-02  2.60751101e-02 -1.59610408e-02 -3.09988485e-02\n",
      "  -4.32198491e-02 -1.90365077e-02 -4.25623160e-02 -1.02546007e-02\n",
      "  -8.97198076e-03  2.51454118e-02 -1.76330322e-02  2.79628280e-02\n",
      "   5.51278055e-02 -1.32992866e-02 -1.82484263e-02  1.75359000e-02\n",
      "   6.59039873e-02 -9.20756864e-03  4.99238784e-03  1.28707015e-02]\n",
      " [-2.18887312e-02 -2.41333476e-02 -7.30835633e-03  3.85092506e-03\n",
      "   1.63216651e-02 -9.97894814e-03 -5.03272119e-02 -2.85600259e-03\n",
      "  -2.50956545e-03 -1.44931950e-02  2.48993320e-02 -4.29488310e-03\n",
      "   9.51045194e-04 -2.93024653e-02 -9.77873509e-03  3.81227978e-02\n",
      "   1.68821332e-03  2.24990081e-02 -5.99967894e-04  1.54615483e-02\n",
      "   4.07868807e-02 -2.98078738e-02  1.85159353e-02  3.04024492e-02\n",
      "   4.95910620e-02  1.86276413e-02  4.50863157e-02  1.39492824e-02\n",
      "   1.12024172e-02 -3.50339253e-02  1.59152135e-02 -2.41279748e-02\n",
      "  -5.45973748e-02  2.80489579e-02  1.81257258e-02 -2.13465164e-02\n",
      "  -5.66787026e-02  9.95576680e-03 -1.22814662e-02 -1.26569391e-02]\n",
      " [-2.19039438e-02 -1.56850721e-02 -2.08522866e-02  6.96592838e-03\n",
      "   7.11694471e-03 -1.11734733e-02 -3.89027304e-02 -6.58532283e-03\n",
      "   1.28088558e-02 -2.26949388e-02  1.38797781e-02 -7.27877826e-03\n",
      "  -1.68148435e-02 -4.55151715e-03 -1.13803852e-02  2.90339525e-02\n",
      "  -3.07938350e-03  9.36496069e-03  2.31948128e-02  3.17990067e-02\n",
      "   1.42479752e-02 -2.19240727e-02  1.24584935e-02  1.29530164e-02\n",
      "   2.76505915e-02  8.62422873e-03  2.74492847e-02  1.39286517e-02\n",
      "   2.83823890e-03 -2.71829159e-02 -8.65809385e-06 -7.13171488e-03\n",
      "  -2.46169113e-02  2.64628322e-02  1.01097132e-02 -1.37073384e-02\n",
      "  -1.34912538e-02  6.70099880e-03 -1.18134292e-02  3.19070509e-03]\n",
      " [ 2.37423382e-04  4.44914999e-04  3.77491729e-03 -2.70092982e-03\n",
      "   1.86426753e-02  1.61640122e-02  4.65009495e-02 -1.79081088e-02\n",
      "   5.09226101e-03  7.13834226e-03 -1.67604166e-02 -2.05503427e-03\n",
      "  -6.05222117e-03  2.34578630e-02 -9.98395225e-03 -1.62782361e-02\n",
      "   1.72234415e-02 -1.72048520e-02 -2.56661955e-03 -3.29800015e-02\n",
      "  -2.54878069e-02  2.16213083e-02 -1.10150701e-02 -7.07448815e-03\n",
      "  -3.90471236e-02  4.90417840e-03 -2.98379347e-02 -1.22297525e-02\n",
      "  -2.46920951e-02 -1.82722951e-03 -3.77104169e-03  2.83203470e-02\n",
      "   5.21327881e-02 -4.06514138e-02 -8.77285238e-03  4.22127098e-02\n",
      "   2.28781684e-02 -2.78736898e-02  3.04762814e-02  1.55482885e-02]]\n",
      "K_train_ctr_gaussian\n",
      "[[ 0.06690448  0.04467319  0.04078674 ...  0.02721842 -0.00205575\n",
      "  -0.03619887]\n",
      " [ 0.04467319  0.04553588  0.02674957 ...  0.0227537  -0.007665\n",
      "  -0.02623865]\n",
      " [ 0.04078674  0.02674957  0.04722287 ...  0.01833993 -0.00047361\n",
      "  -0.02957786]\n",
      " ...\n",
      " [ 0.02721842  0.0227537   0.01833993 ...  0.04680505 -0.02036934\n",
      "  -0.03511707]\n",
      " [-0.00205575 -0.007665   -0.00047361 ... -0.02036934  0.03299397\n",
      "   0.00885652]\n",
      " [-0.03619887 -0.02623865 -0.02957786 ... -0.03511707  0.00885652\n",
      "   0.06796073]]\n",
      "K_test_ctr_gaussian\n",
      "[[-0.03689959 -0.02867723 -0.02772908  0.00837313  0.0066669  -0.02174725\n",
      "  -0.06904956 -0.00350111  0.00783951 -0.03581567  0.03842629 -0.00817197\n",
      "  -0.02095941 -0.02667829 -0.01711588  0.05189926 -0.00745735  0.03586588\n",
      "   0.01331505  0.04514272  0.04512623 -0.04511992  0.02511953  0.03347178\n",
      "   0.06848321  0.01634998  0.06727239  0.02423358  0.01502279 -0.04961201\n",
      "   0.01190398 -0.03174654 -0.0625404   0.05239139  0.02276502 -0.03660003\n",
      "  -0.04330387  0.01720828 -0.02616144 -0.00799031]\n",
      " [-0.0227352  -0.01436034 -0.02306801  0.00903241  0.00966513 -0.00263312\n",
      "  -0.01275799 -0.01951106  0.01725344 -0.02270804  0.00132571 -0.00444352\n",
      "  -0.02418293  0.01865277 -0.01378561  0.01462667  0.00618997 -0.00017776\n",
      "   0.02237722  0.01917822 -0.00576263 -0.00537339  0.00527618  0.004119\n",
      "   0.00166377  0.00446961  0.00376847  0.00854027 -0.01151449 -0.02920393\n",
      "  -0.01058979  0.01213632  0.01206192  0.00562033 -0.0015072   0.01465716\n",
      "   0.02279526 -0.01283172  0.00220207  0.02153482]\n",
      " [ 0.07039725  0.05726257  0.053676   -0.02642637 -0.04648506  0.01513931\n",
      "   0.0281228   0.052387   -0.0526868   0.06410977 -0.01920769  0.02502477\n",
      "   0.06040728 -0.04241907  0.05211926 -0.05270316 -0.03226339 -0.01849124\n",
      "  -0.06288305 -0.02817851 -0.0090988   0.02869268 -0.01158519 -0.02982083\n",
      "  -0.02214441 -0.02314354 -0.03626123 -0.02601549  0.03298753  0.10615035\n",
      "   0.00821202 -0.01492227 -0.00578459 -0.01763066 -0.01103061 -0.02625878\n",
      "  -0.01976541  0.03589155 -0.0099207  -0.04545328]\n",
      " [-0.03611399 -0.03036824 -0.02135274  0.01230759  0.03387457 -0.01196157\n",
      "  -0.01461408 -0.02241661  0.02011177 -0.02959915  0.02096941 -0.01556169\n",
      "  -0.02408409  0.00559523 -0.03119522  0.03970177  0.02127054  0.01865417\n",
      "   0.0204768   0.0050039   0.02129849 -0.02300655  0.01035845  0.02918055\n",
      "   0.02612497  0.0189313   0.03662338  0.01486802 -0.01283531 -0.05781722\n",
      "   0.00695273 -0.00806284 -0.02127849  0.00813081  0.01512775  0.00160134\n",
      "  -0.0218358  -0.01772827  0.00176872  0.01089961]\n",
      " [ 0.007824    0.00172626  0.00959441 -0.01059505 -0.00662089  0.00570555\n",
      "  -0.02480425  0.01254269 -0.02384433  0.01186184  0.00751338  0.00717993\n",
      "   0.02178578 -0.03464223  0.00974599  0.00227445 -0.00980983  0.0116732\n",
      "  -0.02803224  0.00015902  0.02501164 -0.00903665  0.01295481  0.01006551\n",
      "   0.02354678  0.01054344  0.0159952  -0.00279712  0.01682692  0.00660676\n",
      "   0.01725865 -0.01645667 -0.03015944  0.01455213  0.0074015  -0.01865751\n",
      "  -0.03964085  0.01754083 -0.00837778 -0.02441586]\n",
      " [-0.02268583 -0.01880342 -0.01580922  0.00472791  0.00230865 -0.01619416\n",
      "  -0.05395321  0.00249259 -0.00503335 -0.02126551  0.03616701 -0.00203154\n",
      "  -0.01193902 -0.02941985 -0.01062861  0.03794248 -0.00950312  0.02950288\n",
      "  -0.00135717  0.02840117  0.03799483 -0.03461834  0.02150286  0.02786417\n",
      "   0.05307306  0.0123799   0.05744399  0.01789182  0.01539628 -0.03219464\n",
      "   0.01470329 -0.02880825 -0.05461195  0.03862201  0.02158583 -0.03120366\n",
      "  -0.04504824  0.01919756 -0.01686217 -0.01722704]\n",
      " [ 0.00771015  0.01451808 -0.00165124  0.00301202 -0.01098307  0.00851545\n",
      "   0.03332801 -0.00393969  0.00791123  0.00346594 -0.02201845  0.00015952\n",
      "  -0.00624805  0.02943249  0.0026721  -0.02843019  0.00312045 -0.0221471\n",
      "   0.01508894 -0.0062975  -0.03472166  0.02580538 -0.01413289 -0.02516474\n",
      "  -0.03865018 -0.01429761 -0.03880528 -0.00699865 -0.01113578  0.01390401\n",
      "  -0.01740094  0.02981398  0.04765389 -0.01293579 -0.01505977  0.02166259\n",
      "   0.05381879 -0.01138971  0.00771976  0.01309549]\n",
      " [-0.02410187 -0.02332022 -0.01086765  0.00212347  0.01262014 -0.00802109\n",
      "  -0.04125285 -0.00508602 -0.00074929 -0.01875063  0.02370821 -0.00680228\n",
      "  -0.00403562 -0.02237835 -0.01368186  0.03209285  0.0024829   0.02910582\n",
      "  -0.00233525  0.0140306   0.03949287 -0.02978776  0.01890871  0.0298958\n",
      "   0.04673538  0.01872973  0.04477844  0.01287748  0.00872457 -0.0408385\n",
      "   0.01690953 -0.02209387 -0.04484289  0.02907636  0.01490371 -0.01929023\n",
      "  -0.04214523  0.00432812 -0.01223202 -0.0089112 ]\n",
      " [-0.02163678 -0.01299652 -0.0214925   0.00659726  0.00580652 -0.00888707\n",
      "  -0.02949313 -0.00716289  0.01181588 -0.02174458  0.01382234 -0.00609931\n",
      "  -0.01861354 -0.00427357 -0.01264003  0.02517047 -0.00222431  0.00983609\n",
      "   0.01835466  0.02797299  0.01169546 -0.01891023  0.01312911  0.01245959\n",
      "   0.02393918  0.00887886  0.0260289   0.01206403  0.00147701 -0.02688971\n",
      "   0.00091058 -0.00618247 -0.01865558  0.02397084  0.00967706 -0.01177028\n",
      "  -0.00958059  0.00359968 -0.01019051  0.00223709]\n",
      " [-0.00458704 -0.0029106   0.00272673 -0.00059498  0.02391066  0.01949897\n",
      "   0.03987747 -0.02185405  0.00477099  0.00525411 -0.01825502 -0.0026038\n",
      "  -0.00700001  0.02207371 -0.01097057 -0.01251931  0.01798822 -0.02323568\n",
      "   0.00192108 -0.02691322 -0.02638461  0.02348857 -0.00949776 -0.00499512\n",
      "  -0.03792086  0.00711005 -0.03202831 -0.01029238 -0.02667655 -0.00685701\n",
      "  -0.00689226  0.034057    0.05102457 -0.03890291 -0.0090002   0.04657811\n",
      "   0.02175327 -0.02969236  0.03104506  0.01750603]]\n"
     ]
    }
   ],
   "source": [
    "print('K_train_ctr_linear')\n",
    "print(K_train_ctr_linear)\n",
    "print('K_test_ctr_linear')\n",
    "print(K_test_ctr_linear)\n",
    "\n",
    "print('K_train_ctr_gaussian')\n",
    "print(K_train_ctr_gaussian)\n",
    "print('K_test_ctr_gaussian')\n",
    "print(K_test_ctr_gaussian)"
   ]
  },
  {
   "cell_type": "markdown",
   "metadata": {},
   "source": [
    "## Environment-based"
   ]
  },
  {
   "cell_type": "code",
   "execution_count": 49,
   "metadata": {},
   "outputs": [],
   "source": [
    "X_train_raw = np.concatenate(X_train_raw, axis=0)\n",
    "X_test_raw = np.concatenate(X_test_raw, axis=0)"
   ]
  },
  {
   "cell_type": "code",
   "execution_count": 50,
   "metadata": {},
   "outputs": [],
   "source": [
    "# Uncentered raw data\n",
    "K_train_raw_linear = build_kernel(X_train_raw, X_train_raw, kernel='linear')\n",
    "K_test_raw_linear = build_kernel(X_test_raw, X_train_raw, kernel='linear')\n",
    "\n",
    "K_train_raw_gaussian = build_kernel(X_train_raw, X_train_raw, kernel='gaussian')\n",
    "K_test_raw_gaussian = build_kernel(X_test_raw, X_train_raw, kernel='gaussian')"
   ]
  },
  {
   "cell_type": "code",
   "execution_count": 51,
   "metadata": {},
   "outputs": [],
   "source": [
    "K_test_raw_linear = center_kernel(K_test_raw_linear, K_ref=K_train_raw_linear)\n",
    "K_train_raw_linear = center_kernel(K_train_raw_linear)\n",
    "\n",
    "K_test_raw_gaussian = center_kernel(K_test_raw_gaussian, K_ref=K_train_raw_gaussian)\n",
    "K_train_raw_gaussian = center_kernel(K_train_raw_gaussian)"
   ]
  },
  {
   "cell_type": "code",
   "execution_count": 52,
   "metadata": {
    "scrolled": true
   },
   "outputs": [
    {
     "name": "stdout",
     "output_type": "stream",
     "text": [
      "K_train_raw_linear\n",
      "[[ 0.43960877  0.44687827  0.44126723 ... -0.22272365 -0.22217453\n",
      "  -0.22908633]\n",
      " [ 0.44687827  0.45801909  0.44987408 ... -0.22571824 -0.22495742\n",
      "  -0.23210978]\n",
      " [ 0.44126723  0.44987408  0.44414772 ... -0.22236983 -0.22178887\n",
      "  -0.2286133 ]\n",
      " ...\n",
      " [-0.22272365 -0.22571824 -0.22236983 ...  0.4367545   0.43898595\n",
      "   0.4385714 ]\n",
      " [-0.22217453 -0.22495742 -0.22178887 ...  0.43898595  0.44499522\n",
      "   0.44518751]\n",
      " [-0.22908633 -0.23210978 -0.2286133  ...  0.4385714   0.44518751\n",
      "   0.45049806]]\n",
      "K_test_raw_linear\n",
      "[[-0.085948   -0.07872728 -0.08462018 ... -0.02793627 -0.01674602\n",
      "  -0.00461353]\n",
      " [-0.08906185 -0.08222911 -0.08813642 ... -0.02933848 -0.01866632\n",
      "  -0.00745757]\n",
      " [-0.08881525 -0.08161125 -0.08757495 ... -0.03272553 -0.0221871\n",
      "  -0.01078052]\n",
      " ...\n",
      " [-0.05805837 -0.0530802  -0.05774385 ... -0.1035867  -0.09128647\n",
      "  -0.07945903]\n",
      " [ 0.02780096  0.03293833  0.02660669 ... -0.07969754 -0.07106354\n",
      "  -0.06143557]\n",
      " [ 0.03134041  0.03688218  0.0302183  ... -0.079789   -0.07164467\n",
      "  -0.06256282]]\n",
      "K_train_raw_gaussian\n",
      "[[ 0.5709598   0.57382379  0.57149216 ... -0.17339277 -0.17024179\n",
      "  -0.17395781]\n",
      " [ 0.57382379  0.58441547  0.57702555 ... -0.17309238 -0.16978624\n",
      "  -0.17350415]\n",
      " [ 0.57149216  0.57702555  0.57446708 ... -0.1726588  -0.16948377\n",
      "  -0.17313552]\n",
      " ...\n",
      " [-0.17339277 -0.17309238 -0.1726588  ...  0.54895052  0.55022858\n",
      "   0.54529204]\n",
      " [-0.17024179 -0.16978624 -0.16948377 ...  0.55022858  0.55904802\n",
      "   0.55529445]\n",
      " [-0.17395781 -0.17350415 -0.17313552 ...  0.54529204  0.55529445\n",
      "   0.56175124]]\n",
      "K_test_raw_gaussian\n",
      "[[-0.04385501 -0.03800278 -0.0425173  ... -0.02695546 -0.01836148\n",
      "  -0.01222763]\n",
      " [-0.04511659 -0.03942566 -0.04395099 ... -0.02762408 -0.01931022\n",
      "  -0.01368012]\n",
      " [-0.04501178 -0.03916042 -0.04370933 ... -0.02926534 -0.02103619\n",
      "  -0.01533047]\n",
      " ...\n",
      " [-0.03982335 -0.03540763 -0.03914147 ... -0.07401532 -0.06481884\n",
      "  -0.05878498]\n",
      " [ 0.01151096  0.01548211  0.01091586 ... -0.06452769 -0.05698348\n",
      "  -0.05178645]\n",
      " [ 0.01411266  0.01833289  0.01354413 ... -0.06456375 -0.05728615\n",
      "  -0.05239164]]\n"
     ]
    }
   ],
   "source": [
    "print('K_train_raw_linear')\n",
    "print(K_train_raw_linear)\n",
    "print('K_test_raw_linear')\n",
    "print(K_test_raw_linear)\n",
    "\n",
    "print('K_train_raw_gaussian')\n",
    "print(K_train_raw_gaussian)\n",
    "print('K_test_raw_gaussian')\n",
    "print(K_test_raw_gaussian)"
   ]
  },
  {
   "cell_type": "code",
   "execution_count": 53,
   "metadata": {},
   "outputs": [],
   "source": [
    "# Centered raw data\n",
    "X_mean = np.mean(X_train_raw, axis=0)\n",
    "K_train_ctr_linear = build_kernel(X_train_raw-X_mean, X_train_raw-X_mean, kernel='linear')\n",
    "K_test_ctr_linear = build_kernel(X_test_raw-X_mean, X_train_raw-X_mean, kernel='linear')\n",
    "\n",
    "K_train_ctr_gaussian = build_kernel(X_train_raw-X_mean, X_train_raw-X_mean, kernel='gaussian')\n",
    "K_test_ctr_gaussian = build_kernel(X_test_raw-X_mean, X_train_raw-X_mean, kernel='gaussian')"
   ]
  },
  {
   "cell_type": "code",
   "execution_count": 54,
   "metadata": {
    "scrolled": true
   },
   "outputs": [
    {
     "name": "stdout",
     "output_type": "stream",
     "text": [
      "K_train_raw_linear\n",
      "[[ 0.43960877  0.44687827  0.44126723 ... -0.22272365 -0.22217453\n",
      "  -0.22908633]\n",
      " [ 0.44687827  0.45801909  0.44987408 ... -0.22571824 -0.22495742\n",
      "  -0.23210978]\n",
      " [ 0.44126723  0.44987408  0.44414772 ... -0.22236983 -0.22178887\n",
      "  -0.2286133 ]\n",
      " ...\n",
      " [-0.22272365 -0.22571824 -0.22236983 ...  0.4367545   0.43898595\n",
      "   0.4385714 ]\n",
      " [-0.22217453 -0.22495742 -0.22178887 ...  0.43898595  0.44499522\n",
      "   0.44518751]\n",
      " [-0.22908633 -0.23210978 -0.2286133  ...  0.4385714   0.44518751\n",
      "   0.45049806]]\n",
      "K_test_raw_linear\n",
      "[[-0.085948   -0.07872728 -0.08462018 ... -0.02793627 -0.01674602\n",
      "  -0.00461353]\n",
      " [-0.08906185 -0.08222911 -0.08813642 ... -0.02933848 -0.01866632\n",
      "  -0.00745757]\n",
      " [-0.08881525 -0.08161125 -0.08757495 ... -0.03272553 -0.0221871\n",
      "  -0.01078052]\n",
      " ...\n",
      " [-0.05805837 -0.0530802  -0.05774385 ... -0.1035867  -0.09128647\n",
      "  -0.07945903]\n",
      " [ 0.02780096  0.03293833  0.02660669 ... -0.07969754 -0.07106354\n",
      "  -0.06143557]\n",
      " [ 0.03134041  0.03688218  0.0302183  ... -0.079789   -0.07164467\n",
      "  -0.06256282]]\n"
     ]
    }
   ],
   "source": [
    "print('K_train_raw_linear')\n",
    "print(K_train_raw_linear)\n",
    "print('K_test_raw_linear')\n",
    "print(K_test_raw_linear)"
   ]
  },
  {
   "cell_type": "code",
   "execution_count": 55,
   "metadata": {},
   "outputs": [],
   "source": [
    "K_test_ctr_linear = center_kernel(K_test_raw_linear, K_ref=K_train_raw_linear)\n",
    "K_train_ctr_linear = center_kernel(K_train_raw_linear)\n",
    "\n",
    "K_test_ctr_gaussian = center_kernel(K_test_raw_gaussian, K_ref=K_train_raw_gaussian)\n",
    "K_train_ctr_gaussian = center_kernel(K_train_raw_gaussian)"
   ]
  },
  {
   "cell_type": "code",
   "execution_count": 56,
   "metadata": {
    "scrolled": true
   },
   "outputs": [
    {
     "name": "stdout",
     "output_type": "stream",
     "text": [
      "K_train_ctr_linear\n",
      "[[ 0.43960877  0.44687827  0.44126723 ... -0.22272365 -0.22217453\n",
      "  -0.22908633]\n",
      " [ 0.44687827  0.45801909  0.44987408 ... -0.22571824 -0.22495742\n",
      "  -0.23210978]\n",
      " [ 0.44126723  0.44987408  0.44414772 ... -0.22236983 -0.22178887\n",
      "  -0.2286133 ]\n",
      " ...\n",
      " [-0.22272365 -0.22571824 -0.22236983 ...  0.4367545   0.43898595\n",
      "   0.4385714 ]\n",
      " [-0.22217453 -0.22495742 -0.22178887 ...  0.43898595  0.44499522\n",
      "   0.44518751]\n",
      " [-0.22908633 -0.23210978 -0.2286133  ...  0.4385714   0.44518751\n",
      "   0.45049806]]\n",
      "K_test_ctr_linear\n",
      "[[-0.085948   -0.07872728 -0.08462018 ... -0.02793627 -0.01674602\n",
      "  -0.00461353]\n",
      " [-0.08906185 -0.08222911 -0.08813642 ... -0.02933848 -0.01866632\n",
      "  -0.00745757]\n",
      " [-0.08881525 -0.08161125 -0.08757495 ... -0.03272553 -0.0221871\n",
      "  -0.01078052]\n",
      " ...\n",
      " [-0.05805837 -0.0530802  -0.05774385 ... -0.1035867  -0.09128647\n",
      "  -0.07945903]\n",
      " [ 0.02780096  0.03293833  0.02660669 ... -0.07969754 -0.07106354\n",
      "  -0.06143557]\n",
      " [ 0.03134041  0.03688218  0.0302183  ... -0.079789   -0.07164467\n",
      "  -0.06256282]]\n",
      "K_train_ctr_gaussian\n",
      "[[ 0.5709598   0.57382379  0.57149216 ... -0.17339277 -0.17024179\n",
      "  -0.17395781]\n",
      " [ 0.57382379  0.58441547  0.57702555 ... -0.17309238 -0.16978624\n",
      "  -0.17350415]\n",
      " [ 0.57149216  0.57702555  0.57446708 ... -0.1726588  -0.16948377\n",
      "  -0.17313552]\n",
      " ...\n",
      " [-0.17339277 -0.17309238 -0.1726588  ...  0.54895052  0.55022858\n",
      "   0.54529204]\n",
      " [-0.17024179 -0.16978624 -0.16948377 ...  0.55022858  0.55904802\n",
      "   0.55529445]\n",
      " [-0.17395781 -0.17350415 -0.17313552 ...  0.54529204  0.55529445\n",
      "   0.56175124]]\n",
      "K_test_ctr_gaussian\n",
      "[[-0.04385501 -0.03800278 -0.0425173  ... -0.02695546 -0.01836148\n",
      "  -0.01222763]\n",
      " [-0.04511659 -0.03942566 -0.04395099 ... -0.02762408 -0.01931022\n",
      "  -0.01368012]\n",
      " [-0.04501178 -0.03916042 -0.04370933 ... -0.02926534 -0.02103619\n",
      "  -0.01533047]\n",
      " ...\n",
      " [-0.03982335 -0.03540763 -0.03914147 ... -0.07401532 -0.06481884\n",
      "  -0.05878498]\n",
      " [ 0.01151096  0.01548211  0.01091586 ... -0.06452769 -0.05698348\n",
      "  -0.05178645]\n",
      " [ 0.01411266  0.01833289  0.01354413 ... -0.06456375 -0.05728615\n",
      "  -0.05239164]]\n"
     ]
    }
   ],
   "source": [
    "print('K_train_ctr_linear')\n",
    "print(K_train_ctr_linear)\n",
    "print('K_test_ctr_linear')\n",
    "print(K_test_ctr_linear)\n",
    "\n",
    "print('K_train_ctr_gaussian')\n",
    "print(K_train_ctr_gaussian)\n",
    "print('K_test_ctr_gaussian')\n",
    "print(K_test_ctr_gaussian)"
   ]
  },
  {
   "cell_type": "markdown",
   "metadata": {},
   "source": [
    "# Centering structure kernels for linear models"
   ]
  },
  {
   "cell_type": "markdown",
   "metadata": {},
   "source": [
    "## Structure X"
   ]
  },
  {
   "cell_type": "code",
   "execution_count": 70,
   "metadata": {},
   "outputs": [],
   "source": [
    "X_train_raw = np.stack([np.mean(X_split[i], axis=0) for i in idxs_train], axis=0)\n",
    "X_test_raw = np.stack([np.mean(X_split[i], axis=0) for i in idxs_test], axis=0)"
   ]
  },
  {
   "cell_type": "code",
   "execution_count": 71,
   "metadata": {},
   "outputs": [],
   "source": [
    "X_mean_str = np.mean(X_train_raw, axis=0) # Structure-based centering"
   ]
  },
  {
   "cell_type": "code",
   "execution_count": 72,
   "metadata": {},
   "outputs": [],
   "source": [
    "# Centered raw data (by env, uses X_mean from above)\n",
    "K_train_ctr_linear = build_kernel(X_train_raw-X_mean, X_train_raw-X_mean, kernel='linear')\n",
    "K_test_ctr_linear = build_kernel(X_test_raw-X_mean, X_train_raw-X_mean, kernel='linear')"
   ]
  },
  {
   "cell_type": "code",
   "execution_count": 73,
   "metadata": {},
   "outputs": [
    {
     "name": "stdout",
     "output_type": "stream",
     "text": [
      "0.0003799747301746431\n",
      "[-1.65138244e-03 -6.86550919e-04 -1.69014290e-03  1.57289156e-03\n",
      "  1.73696520e-03  2.05434129e-04  3.42918096e-03 -2.05692948e-03\n",
      "  4.37739893e-03 -1.74920476e-03 -1.15016029e-03 -1.11175355e-03\n",
      " -2.64762451e-03  5.73805530e-03 -1.73898196e-03 -5.58721581e-05\n",
      "  2.15149063e-03 -5.41685721e-04  4.85079039e-03  2.98315302e-04\n",
      " -2.81072226e-03  1.22605005e-03 -9.74319379e-04 -8.43732199e-04\n",
      " -2.96649639e-03 -7.10907210e-05 -1.87963478e-03  5.33587994e-04\n",
      " -2.44121164e-03 -2.30488046e-03 -1.43241430e-03  3.19452180e-03\n",
      "  5.50637878e-03 -1.37559064e-03 -7.74585454e-04  3.22958670e-03\n",
      "  6.75122850e-03 -2.74094912e-03  1.57160288e-03  4.52142614e-03]\n",
      "[-1.65138244e-03 -6.86550919e-04 -1.69014290e-03  1.57289156e-03\n",
      "  1.73696520e-03  2.05434129e-04  3.42918096e-03 -2.05692948e-03\n",
      "  4.37739893e-03 -1.74920476e-03 -1.15016029e-03 -1.11175355e-03\n",
      " -2.64762451e-03  5.73805530e-03 -1.73898196e-03 -5.58721581e-05\n",
      "  2.15149063e-03 -5.41685721e-04  4.85079039e-03  2.98315302e-04\n",
      " -2.81072226e-03  1.22605005e-03 -9.74319379e-04 -8.43732199e-04\n",
      " -2.96649639e-03 -7.10907210e-05 -1.87963478e-03  5.33587994e-04\n",
      " -2.44121164e-03 -2.30488046e-03 -1.43241430e-03  3.19452180e-03\n",
      "  5.50637878e-03 -1.37559064e-03 -7.74585454e-04  3.22958670e-03\n",
      "  6.75122850e-03 -2.74094912e-03  1.57160288e-03  4.52142614e-03]\n"
     ]
    }
   ],
   "source": [
    "print(np.mean(K_train_ctr_linear))\n",
    "print(np.mean(K_train_ctr_linear, axis=0))\n",
    "print(np.mean(K_train_ctr_linear, axis=1))"
   ]
  },
  {
   "cell_type": "code",
   "execution_count": 74,
   "metadata": {},
   "outputs": [
    {
     "name": "stdout",
     "output_type": "stream",
     "text": [
      "-0.0004032269654488617\n",
      "[-0.00887356 -0.00717405 -0.00644748  0.00152232  0.00386758 -0.00335062\n",
      " -0.01549951 -0.00297753  0.00122899 -0.00753418  0.00626996 -0.00261528\n",
      " -0.00438559 -0.00568222 -0.00507274  0.01101773 -0.00058748  0.00448208\n",
      "  0.0043095   0.00798513  0.00792308 -0.00898172  0.0051286   0.00678824\n",
      "  0.01204255  0.00471001  0.01172076  0.00424615  0.00119107 -0.01188539\n",
      "  0.00200825 -0.00394607 -0.01158815  0.0090315   0.00450985 -0.0047786\n",
      " -0.01111739  0.00188928 -0.00368769 -0.00181648]\n",
      "[-2.38758553e-03  1.52047646e-03 -2.02096480e-03  5.35213856e-05\n",
      " -2.22147071e-03 -2.43591699e-03  2.98510604e-03 -2.02138852e-03\n",
      " -9.58983496e-05  2.59185136e-03]\n"
     ]
    }
   ],
   "source": [
    "print(np.mean(K_test_ctr_linear))\n",
    "print(np.mean(K_test_ctr_linear, axis=0))\n",
    "print(np.mean(K_test_ctr_linear, axis=1))"
   ]
  },
  {
   "cell_type": "code",
   "execution_count": 75,
   "metadata": {},
   "outputs": [],
   "source": [
    "# Centered raw data (by str)\n",
    "K_train_ctr_linear = build_kernel(X_train_raw-X_mean_str, X_train_raw-X_mean_str, kernel='linear')\n",
    "K_test_ctr_linear = build_kernel(X_test_raw-X_mean_str, X_train_raw-X_mean_str, kernel='linear')"
   ]
  },
  {
   "cell_type": "code",
   "execution_count": 76,
   "metadata": {},
   "outputs": [
    {
     "name": "stdout",
     "output_type": "stream",
     "text": [
      "4.2500725161431773e-19\n",
      "[-5.55111512e-18 -2.16840434e-18 -6.59194921e-18  4.42354486e-18\n",
      "  5.29090660e-18 -2.51534904e-18 -9.54097912e-19 -4.33680869e-18\n",
      "  1.07552856e-17 -6.07153217e-18 -2.01661604e-18 -6.41847686e-18\n",
      " -4.68375339e-18  1.43982049e-17 -9.36750677e-18  3.98986399e-18\n",
      "  4.94396191e-18  1.76860479e-18  1.16226473e-17  4.11996826e-18\n",
      " -4.94396191e-18 -1.95156391e-18 -2.21177243e-18 -1.44198889e-18\n",
      " -4.07660017e-18  1.37761439e-18  6.50521303e-20  2.42861287e-18\n",
      " -5.89805982e-18 -1.02348685e-17 -3.03576608e-18  3.72965547e-18\n",
      "  3.81639165e-18  3.85975973e-18 -2.60208521e-19  5.55111512e-18\n",
      "  1.11022302e-17 -5.03069808e-18  2.77555756e-18  1.04083409e-17]\n",
      "[-4.85722573e-18 -2.77555756e-18 -8.32667268e-18  3.98986399e-18\n",
      "  4.68375339e-18 -2.42861287e-18  6.93889390e-19 -4.33680869e-18\n",
      "  1.21430643e-17 -6.93889390e-18 -2.08166817e-18 -6.59194921e-18\n",
      " -4.85722573e-18  1.31838984e-17 -9.71445147e-18  5.55111512e-18\n",
      "  5.29090660e-18  1.73472348e-18  9.71445147e-18  4.51028104e-18\n",
      " -3.64291930e-18 -3.46944695e-19 -2.08166817e-18 -3.46944695e-19\n",
      " -3.46944695e-18  1.38777878e-18  0.00000000e+00  2.42861287e-18\n",
      " -6.24500451e-18 -1.11022302e-17 -2.64545330e-18  3.55618313e-18\n",
      "  4.85722573e-18  3.46944695e-18  3.46944695e-19  4.51028104e-18\n",
      "  1.04083409e-17 -4.59701721e-18  2.42861287e-18  9.36750677e-18]\n"
     ]
    }
   ],
   "source": [
    "print(np.mean(K_train_ctr_linear))\n",
    "print(np.mean(K_train_ctr_linear, axis=0))\n",
    "print(np.mean(K_train_ctr_linear, axis=1))"
   ]
  },
  {
   "cell_type": "code",
   "execution_count": 77,
   "metadata": {},
   "outputs": [
    {
     "name": "stdout",
     "output_type": "stream",
     "text": [
      "1.3877787807814457e-19\n",
      "[-0.00643897 -0.0057043  -0.00397414  0.00073263  0.00291381 -0.00277285\n",
      " -0.01814549 -0.0001374  -0.0023652  -0.00500178  0.00820333 -0.00072032\n",
      " -0.00095476 -0.01063707 -0.00255055  0.0118568  -0.00195577  0.00580697\n",
      "  0.00024191  0.00847002  0.01151701 -0.00942457  0.00688612  0.00841517\n",
      "  0.01579225  0.0055643   0.0143836   0.00449577  0.00441548 -0.0087973\n",
      "  0.00422386 -0.00635739 -0.01631133  0.01119029  0.00606763 -0.00722499\n",
      " -0.01708541  0.00541343 -0.00447609 -0.0055547 ]\n",
      "[ 6.93889390e-19  1.12757026e-18 -4.85722573e-18  6.24500451e-18\n",
      " -3.03576608e-18 -6.93889390e-19 -1.04083409e-18 -1.04083409e-18\n",
      "  1.38777878e-18  0.00000000e+00]\n"
     ]
    }
   ],
   "source": [
    "print(np.mean(K_test_ctr_linear))\n",
    "print(np.mean(K_test_ctr_linear, axis=0))\n",
    "print(np.mean(K_test_ctr_linear, axis=1))"
   ]
  },
  {
   "cell_type": "markdown",
   "metadata": {},
   "source": [
    "## Environment X"
   ]
  },
  {
   "cell_type": "code",
   "execution_count": 78,
   "metadata": {},
   "outputs": [],
   "source": [
    "X_train_raw = [X_split[i] for i in idxs_train]\n",
    "X_test_raw = [X_split[i] for i in idxs_test]"
   ]
  },
  {
   "cell_type": "code",
   "execution_count": 79,
   "metadata": {},
   "outputs": [],
   "source": [
    "# Centered raw data (by str)\n",
    "K_train_ctr_linear = build_kernel([(x-X_mean_str) for x in X_train_raw], \n",
    "                                  [(x-X_mean_str) for x in X_train_raw], \n",
    "                                  kernel='linear')\n",
    "K_test_ctr_linear = build_kernel([(x-X_mean_str) for x in X_test_raw], \n",
    "                                 [(x-X_mean_str) for x in X_train_raw], \n",
    "                                 kernel='linear')"
   ]
  },
  {
   "cell_type": "code",
   "execution_count": 80,
   "metadata": {},
   "outputs": [
    {
     "name": "stdout",
     "output_type": "stream",
     "text": [
      "-3.5561831257524543e-19\n",
      "[-6.93889390e-18 -6.33174069e-18 -9.36750677e-18  3.90312782e-18\n",
      "  4.51028104e-18 -4.51028104e-18  1.43114687e-18 -8.50014503e-18\n",
      "  1.24900090e-17 -1.00613962e-17 -2.66713734e-18 -7.11236625e-18\n",
      " -1.07552856e-17  1.31838984e-17 -9.54097912e-18  3.38271078e-18\n",
      "  4.77048956e-18 -1.35660797e-18  1.82145965e-17  3.16587034e-18\n",
      " -5.63785130e-18 -1.75640752e-18 -2.73218947e-18 -3.85975973e-18\n",
      " -4.16333634e-18 -2.53262851e-19 -1.30104261e-18  1.82145965e-18\n",
      " -7.97972799e-18 -1.24900090e-17 -4.85722573e-18  5.46437895e-18\n",
      "  5.89805982e-18  4.51028104e-18 -1.45283091e-18  4.59701721e-18\n",
      "  1.00613962e-17 -7.28583860e-18  1.73472348e-18  9.71445147e-18]\n",
      "[-6.93889390e-18 -5.20417043e-18 -7.97972799e-18  3.64291930e-18\n",
      "  4.85722573e-18 -5.55111512e-18  1.38777878e-18 -8.15320034e-18\n",
      "  1.28369537e-17 -1.00613962e-17 -3.46944695e-18 -7.11236625e-18\n",
      " -9.02056208e-18  1.28369537e-17 -8.32667268e-18  4.16333634e-18\n",
      "  5.55111512e-18 -1.38777878e-18  1.59594560e-17  5.20417043e-18\n",
      " -5.89805982e-18 -2.42861287e-18 -3.64291930e-18 -3.46944695e-18\n",
      " -5.89805982e-18  0.00000000e+00 -6.93889390e-19  1.73472348e-18\n",
      " -7.63278329e-18 -1.24900090e-17 -4.20670443e-18  4.85722573e-18\n",
      "  7.63278329e-18  3.81639165e-18 -1.04083409e-18  5.37764278e-18\n",
      "  9.71445147e-18 -6.67868538e-18  1.90819582e-18  1.14491749e-17]\n"
     ]
    }
   ],
   "source": [
    "print(np.mean(K_train_ctr_linear))\n",
    "print(np.mean(K_train_ctr_linear, axis=0))\n",
    "print(np.mean(K_train_ctr_linear, axis=1))"
   ]
  },
  {
   "cell_type": "code",
   "execution_count": 81,
   "metadata": {},
   "outputs": [
    {
     "name": "stdout",
     "output_type": "stream",
     "text": [
      "-6.591949208711867e-19\n",
      "[-0.00643897 -0.0057043  -0.00397414  0.00073263  0.00291381 -0.00277285\n",
      " -0.01814549 -0.0001374  -0.0023652  -0.00500178  0.00820333 -0.00072032\n",
      " -0.00095476 -0.01063707 -0.00255055  0.0118568  -0.00195577  0.00580697\n",
      "  0.00024191  0.00847002  0.01151701 -0.00942457  0.00688612  0.00841517\n",
      "  0.01579225  0.0055643   0.0143836   0.00449577  0.00441548 -0.0087973\n",
      "  0.00422386 -0.00635739 -0.01631133  0.01119029  0.00606763 -0.00722499\n",
      " -0.01708541  0.00541343 -0.00447609 -0.0055547 ]\n",
      "[ 0.00000000e+00  3.12250226e-18 -1.11022302e-17  1.73472348e-18\n",
      " -4.07660017e-18 -1.73472348e-18  2.08166817e-18 -6.93889390e-19\n",
      "  1.38777878e-18  6.93889390e-19]\n"
     ]
    }
   ],
   "source": [
    "print(np.mean(K_test_ctr_linear))\n",
    "print(np.mean(K_test_ctr_linear, axis=0))\n",
    "print(np.mean(K_test_ctr_linear, axis=1))"
   ]
  }
 ],
 "metadata": {
  "kernelspec": {
   "display_name": "Python 3",
   "language": "python",
   "name": "python3"
  },
  "language_info": {
   "codemirror_mode": {
    "name": "ipython",
    "version": 3
   },
   "file_extension": ".py",
   "mimetype": "text/x-python",
   "name": "python",
   "nbconvert_exporter": "python",
   "pygments_lexer": "ipython3",
   "version": "3.6.9"
  },
  "toc": {
   "base_numbering": 1,
   "nav_menu": {},
   "number_sections": true,
   "sideBar": true,
   "skip_h1_title": false,
   "title_cell": "Table of Contents",
   "title_sidebar": "Contents",
   "toc_cell": false,
   "toc_position": {},
   "toc_section_display": true,
   "toc_window_display": false
  }
 },
 "nbformat": 4,
 "nbformat_minor": 2
}
