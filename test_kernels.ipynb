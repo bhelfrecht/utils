{
 "cells": [
  {
   "cell_type": "code",
   "execution_count": 1,
   "metadata": {},
   "outputs": [
    {
     "name": "stderr",
     "output_type": "stream",
     "text": [
      "In /home/helfrech/.config/matplotlib/stylelib/cosmo.mplstyle: \n",
      "The savefig.frameon rcparam was deprecated in Matplotlib 3.1 and will be removed in 3.3.\n",
      "In /home/helfrech/.config/matplotlib/stylelib/cosmoLarge.mplstyle: \n",
      "The savefig.frameon rcparam was deprecated in Matplotlib 3.1 and will be removed in 3.3.\n"
     ]
    }
   ],
   "source": [
    "#!/usr/bin/env python3\n",
    "\n",
    "%reload_ext autoreload\n",
    "%autoreload 2\n",
    "\n",
    "# System\n",
    "import os\n",
    "import sys\n",
    "from tqdm.notebook import tqdm\n",
    "\n",
    "# Maths\n",
    "import numpy as np\n",
    "\n",
    "# PCovR utilities\n",
    "from regression import LR, KRR, SparseKRR, PCovR, KPCovR, SparseKPCovR\n",
    "from decomposition import PCA, KPCA, SparseKPCA\n",
    "from kernels import build_kernel, center_kernel\n",
    "from tools import FPS, simple_split, CUR\n",
    "\n",
    "# ASE\n",
    "from ase.io import read, write\n",
    "\n",
    "# SOAP\n",
    "from rascal.representations import SphericalInvariants as SOAP\n",
    "\n",
    "# Plotting\n",
    "import matplotlib as mpl\n",
    "import matplotlib.pyplot as plt\n",
    "\n",
    "# Make the plots look nicer\n",
    "plot_parameters = {\n",
    "    'lines.linewidth': 1.0,\n",
    "    'lines.markersize': 2,\n",
    "    'patch.linewidth': 1.0,\n",
    "    'hatch.linewidth': 1.0,\n",
    "    'axes.linewidth': 1.0,\n",
    "    'xtick.top': True,\n",
    "    'xtick.bottom': True,\n",
    "    'xtick.direction': 'in',\n",
    "    'xtick.minor.visible': True,\n",
    "    'xtick.major.size': 4.0,\n",
    "    'xtick.minor.size': 2.0,\n",
    "    'xtick.major.pad': 5.0,\n",
    "    'xtick.minor.pad': 5.0,\n",
    "    'ytick.left': True,\n",
    "    'ytick.right': True,\n",
    "    'ytick.direction': 'in',\n",
    "    'ytick.minor.visible': True,\n",
    "    'ytick.major.size': 4.0,\n",
    "    'ytick.minor.size': 2.0,\n",
    "    'ytick.major.pad': 5.0,\n",
    "    'ytick.minor.pad': 5.0   \n",
    "}\n",
    "\n",
    "for pp in plot_parameters.keys():\n",
    "    mpl.rcParams[pp] = plot_parameters[pp]"
   ]
  },
  {
   "cell_type": "code",
   "execution_count": 2,
   "metadata": {},
   "outputs": [],
   "source": [
    "# Read xyz files\n",
    "s = read('/scratch/helfrech/Sync/GDrive/Projects/KPCovR/KernelPCovR/datasets/CSD-1000R.xyz', index=':5')\n",
    "\n",
    "# Extract chemical shifts\n",
    "cs = []\n",
    "for ss in s:\n",
    "    ss.wrap()\n",
    "    cs.append(ss.arrays['CS_local'])"
   ]
  },
  {
   "cell_type": "code",
   "execution_count": 3,
   "metadata": {},
   "outputs": [],
   "source": [
    "# Compute SOAPs (from librascal tutorial)\n",
    "soap = SOAP(soap_type='PowerSpectrum',\n",
    "           interaction_cutoff=3.5,\n",
    "           max_radial=6,\n",
    "           max_angular=6,\n",
    "           gaussian_sigma_type='Constant',\n",
    "           gaussian_sigma_constant=0.4,\n",
    "           cutoff_smooth_width=0.5)"
   ]
  },
  {
   "cell_type": "code",
   "execution_count": 4,
   "metadata": {},
   "outputs": [],
   "source": [
    "soap_rep = soap.transform(s)"
   ]
  },
  {
   "cell_type": "code",
   "execution_count": 5,
   "metadata": {},
   "outputs": [],
   "source": [
    "X = soap_rep.get_features(soap)\n",
    "Y = np.concatenate(cs)"
   ]
  },
  {
   "cell_type": "code",
   "execution_count": 6,
   "metadata": {},
   "outputs": [],
   "source": [
    "# Split SOAPs into structures\n",
    "n_atoms = [ss.get_number_of_atoms() for ss in s]\n",
    "structure_idxs = np.cumsum(n_atoms)\n",
    "\n",
    "X_split = np.split(X, structure_idxs[0:-1]) # Last one is empty by construction of np.split\n",
    "Y_split = np.split(Y, structure_idxs[0:-1])"
   ]
  },
  {
   "cell_type": "code",
   "execution_count": 7,
   "metadata": {},
   "outputs": [
    {
     "name": "stdout",
     "output_type": "stream",
     "text": [
      "[180, 84, 176, 176, 104]\n",
      "[4 0 1 2] [3]\n",
      "[104 284 368 544]\n",
      "[176]\n",
      "[(104, 2520), (180, 2520), (84, 2520), (176, 2520)]\n",
      "[(176, 2520)]\n"
     ]
    }
   ],
   "source": [
    "# Train-Test split by structures\n",
    "f_train = 0.80\n",
    "n_total = len(X_split)\n",
    "n_train = int(np.floor(f_train*n_total))\n",
    "\n",
    "idxs = np.arange(0, n_total)\n",
    "np.random.shuffle(idxs)\n",
    "idxs_train = idxs[0:n_train]\n",
    "idxs_test = idxs[n_train:]\n",
    "\n",
    "X_train = [X_split[i] for i in idxs_train]\n",
    "Y_train = [Y_split[i] for i in idxs_train]\n",
    "structure_idxs_train = np.cumsum([n_atoms[i] for i in idxs_train])\n",
    "\n",
    "X_test = [X_split[i] for i in idxs_test]\n",
    "Y_test = [Y_split[i] for i in idxs_test]\n",
    "structure_idxs_test = np.cumsum([n_atoms[i] for i in idxs_test])\n",
    "\n",
    "print(n_atoms)\n",
    "print(idxs_train, idxs_test)\n",
    "print(structure_idxs_train)\n",
    "print(structure_idxs_test)\n",
    "print([x.shape for x in X_train])\n",
    "print([x.shape for x in X_test])\n",
    "\n",
    "X_train = np.concatenate(X_train, axis=0)\n",
    "Y_train = np.concatenate(Y_train, axis=0)\n",
    "X_test = np.concatenate(X_test, axis=0)\n",
    "Y_test = np.concatenate(Y_test, axis=0)"
   ]
  },
  {
   "cell_type": "code",
   "execution_count": 8,
   "metadata": {},
   "outputs": [],
   "source": [
    "# Center the data\n",
    "X_mean = np.mean(X_train, axis=0)\n",
    "Y_mean = np.mean(Y_train)\n",
    "\n",
    "X_train -= X_mean\n",
    "X_test -= X_mean\n",
    "Y_train -= Y_mean\n",
    "Y_test -= Y_mean"
   ]
  },
  {
   "cell_type": "markdown",
   "metadata": {},
   "source": [
    "# FPS"
   ]
  },
  {
   "cell_type": "code",
   "execution_count": 9,
   "metadata": {},
   "outputs": [],
   "source": [
    "# Select FPS components from train set\n",
    "n_FPS = 20\n",
    "idxs, d = FPS(X_train.T, n_FPS)\n",
    "\n",
    "X_train = X_train[:, idxs]\n",
    "X_test = X_test[:, idxs]"
   ]
  },
  {
   "cell_type": "code",
   "execution_count": 10,
   "metadata": {},
   "outputs": [],
   "source": [
    "# Select FPS environments from train set\n",
    "n_env_FPS = 100\n",
    "env_idxs, env_d = FPS(X_train, n_env_FPS)"
   ]
  },
  {
   "cell_type": "code",
   "execution_count": 24,
   "metadata": {},
   "outputs": [],
   "source": [
    "X_train_split = np.split(X_train, structure_idxs_train)[0:-1]\n",
    "Y_train_split = np.split(Y_train, structure_idxs_train)[0:-1]\n",
    "\n",
    "X_test_split = np.split(X_test, structure_idxs_test)[0:-1]\n",
    "Y_test_split = np.split(Y_test, structure_idxs_test)[0:-1]"
   ]
  },
  {
   "cell_type": "code",
   "execution_count": 72,
   "metadata": {},
   "outputs": [],
   "source": [
    "K_train = build_kernel(X_train_split, X_train_split, kernel='gaussian')\n",
    "K_test = build_kernel(X_train_split, X_test_split, kernel='gaussian')"
   ]
  },
  {
   "cell_type": "code",
   "execution_count": 100,
   "metadata": {},
   "outputs": [],
   "source": [
    "K_train_nystrom = build_kernel(X_train_split, X_train_split, XR=X_train[env_idxs, :], kernel='gaussian')\n",
    "K_test_nystrom = build_kernel(X_train_split, X_test_split, XR=X_train[env_idxs, :], kernel='gaussian')\n",
    "#K_train_nystrom = build_kernel(X_train_split, X_train_split, XR=X_train_split[0:3], kernel='gaussian')\n",
    "#K_test_nystrom = build_kernel(X_train_split, X_test_split, XR=X_train_split[0:3], kernel='gaussian')"
   ]
  },
  {
   "cell_type": "code",
   "execution_count": 101,
   "metadata": {},
   "outputs": [
    {
     "data": {
      "image/png": "[encoded data removed]",
      "text/plain": [
       "<Figure size 432x288 with 2 Axes>"
      ]
     },
     "metadata": {
      "needs_background": "light"
     },
     "output_type": "display_data"
    }
   ],
   "source": [
    "plt.imshow(K_train-K_train_nystrom)\n",
    "plt.colorbar()\n",
    "plt.show()"
   ]
  },
  {
   "cell_type": "code",
   "execution_count": 102,
   "metadata": {
    "scrolled": true
   },
   "outputs": [
    {
     "name": "stdout",
     "output_type": "stream",
     "text": [
      "6.861871922901639e-06\n"
     ]
    }
   ],
   "source": [
    "print(np.linalg.norm(K_train - K_train_nystrom))"
   ]
  },
  {
   "cell_type": "code",
   "execution_count": 103,
   "metadata": {},
   "outputs": [
    {
     "data": {
      "image/png": "[encoded data removed]",
      "text/plain": [
       "<Figure size 432x288 with 2 Axes>"
      ]
     },
     "metadata": {
      "needs_background": "light"
     },
     "output_type": "display_data"
    }
   ],
   "source": [
    "plt.imshow(K_test-K_test_nystrom)\n",
    "plt.colorbar()\n",
    "plt.show()"
   ]
  },
  {
   "cell_type": "code",
   "execution_count": 104,
   "metadata": {},
   "outputs": [
    {
     "name": "stdout",
     "output_type": "stream",
     "text": [
      "1.345065249218593e-06\n"
     ]
    }
   ],
   "source": [
    "print(np.linalg.norm(K_test-K_test_nystrom))"
   ]
  }
 ],
 "metadata": {
  "kernelspec": {
   "display_name": "Python 3",
   "language": "python",
   "name": "python3"
  },
  "language_info": {
   "codemirror_mode": {
    "name": "ipython",
    "version": 3
   },
   "file_extension": ".py",
   "mimetype": "text/x-python",
   "name": "python",
   "nbconvert_exporter": "python",
   "pygments_lexer": "ipython3",
   "version": "3.6.9"
  }
 },
 "nbformat": 4,
 "nbformat_minor": 2
}
